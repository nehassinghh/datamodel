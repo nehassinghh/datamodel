{
 "cells": [
  {
   "cell_type": "code",
   "execution_count": 2,
   "id": "28fb43be",
   "metadata": {},
   "outputs": [],
   "source": [
    "import pandas as pd\n",
    "import numpy as np \n",
    "import matplotlib.pyplot as plt\n",
    "%matplotlib inline"
   ]
  },
  {
   "cell_type": "code",
   "execution_count": 3,
   "id": "a5c7e09e",
   "metadata": {},
   "outputs": [
    {
     "name": "stdout",
     "output_type": "stream",
     "text": [
      "C:\\Users\\Neha singh\\Desktop\\datasets\n"
     ]
    }
   ],
   "source": [
    "import io\n",
    "%cd \"C:\\Users\\Neha singh\\Desktop\\datasets\""
   ]
  },
  {
   "cell_type": "code",
   "execution_count": 4,
   "id": "d108f91a",
   "metadata": {},
   "outputs": [],
   "source": [
    "cars=pd.read_csv(\"mtcars.csv\")"
   ]
  },
  {
   "cell_type": "code",
   "execution_count": 5,
   "id": "a2115ae6",
   "metadata": {},
   "outputs": [
    {
     "name": "stdout",
     "output_type": "stream",
     "text": [
      "(32, 12)\n"
     ]
    }
   ],
   "source": [
    "print (cars.shape)"
   ]
  },
  {
   "cell_type": "code",
   "execution_count": 6,
   "id": "17696100",
   "metadata": {},
   "outputs": [
    {
     "name": "stdout",
     "output_type": "stream",
     "text": [
      "<class 'pandas.core.frame.DataFrame'>\n",
      "RangeIndex: 32 entries, 0 to 31\n",
      "Data columns (total 12 columns):\n",
      " #   Column  Non-Null Count  Dtype  \n",
      "---  ------  --------------  -----  \n",
      " 0   model   32 non-null     object \n",
      " 1   mpg     32 non-null     float64\n",
      " 2   cyl     32 non-null     int64  \n",
      " 3   disp    32 non-null     float64\n",
      " 4   hp      32 non-null     int64  \n",
      " 5   drat    32 non-null     float64\n",
      " 6   wt      32 non-null     float64\n",
      " 7   qsec    32 non-null     float64\n",
      " 8   vs      32 non-null     int64  \n",
      " 9   am      32 non-null     int64  \n",
      " 10  gear    32 non-null     int64  \n",
      " 11  carb    32 non-null     int64  \n",
      "dtypes: float64(5), int64(6), object(1)\n",
      "memory usage: 3.1+ KB\n"
     ]
    }
   ],
   "source": [
    "cars.info()"
   ]
  },
  {
   "cell_type": "code",
   "execution_count": 7,
   "id": "c7409c37",
   "metadata": {},
   "outputs": [
    {
     "data": {
      "text/plain": [
       "Index(['model', 'mpg', 'cyl', 'disp', 'hp', 'drat', 'wt', 'qsec', 'vs', 'am',\n",
       "       'gear', 'carb'],\n",
       "      dtype='object')"
      ]
     },
     "execution_count": 7,
     "metadata": {},
     "output_type": "execute_result"
    }
   ],
   "source": [
    "cars.columns"
   ]
  },
  {
   "cell_type": "code",
   "execution_count": 8,
   "id": "d1a6c4b6",
   "metadata": {},
   "outputs": [
    {
     "data": {
      "text/plain": [
       "count    32.000000\n",
       "mean     20.090625\n",
       "std       6.026948\n",
       "min      10.400000\n",
       "25%      15.425000\n",
       "50%      19.200000\n",
       "75%      22.800000\n",
       "max      33.900000\n",
       "Name: mpg, dtype: float64"
      ]
     },
     "execution_count": 8,
     "metadata": {},
     "output_type": "execute_result"
    }
   ],
   "source": [
    "cars.mpg.describe()"
   ]
  },
  {
   "cell_type": "code",
   "execution_count": 9,
   "id": "2a10e327",
   "metadata": {},
   "outputs": [
    {
     "data": {
      "text/plain": [
       "count            32\n",
       "unique           32\n",
       "top       Mazda RX4\n",
       "freq              1\n",
       "Name: model, dtype: object"
      ]
     },
     "execution_count": 9,
     "metadata": {},
     "output_type": "execute_result"
    }
   ],
   "source": [
    "cars.model.describe()"
   ]
  },
  {
   "cell_type": "code",
   "execution_count": 10,
   "id": "413cdd2c",
   "metadata": {},
   "outputs": [
    {
     "data": {
      "text/plain": [
       "count    32.000000\n",
       "mean      6.187500\n",
       "std       1.785922\n",
       "min       4.000000\n",
       "25%       4.000000\n",
       "50%       6.000000\n",
       "75%       8.000000\n",
       "max       8.000000\n",
       "Name: cyl, dtype: float64"
      ]
     },
     "execution_count": 10,
     "metadata": {},
     "output_type": "execute_result"
    }
   ],
   "source": [
    "cars.cyl.describe()"
   ]
  },
  {
   "cell_type": "code",
   "execution_count": 11,
   "id": "b68594f4",
   "metadata": {},
   "outputs": [
    {
     "data": {
      "text/plain": [
       "count     32.000000\n",
       "mean     230.721875\n",
       "std      123.938694\n",
       "min       71.100000\n",
       "25%      120.825000\n",
       "50%      196.300000\n",
       "75%      326.000000\n",
       "max      472.000000\n",
       "Name: disp, dtype: float64"
      ]
     },
     "execution_count": 11,
     "metadata": {},
     "output_type": "execute_result"
    }
   ],
   "source": [
    "cars.disp.describe()"
   ]
  },
  {
   "cell_type": "code",
   "execution_count": 12,
   "id": "2c02e9e7",
   "metadata": {},
   "outputs": [
    {
     "data": {
      "text/plain": [
       "count     32.000000\n",
       "mean     146.687500\n",
       "std       68.562868\n",
       "min       52.000000\n",
       "25%       96.500000\n",
       "50%      123.000000\n",
       "75%      180.000000\n",
       "max      335.000000\n",
       "Name: hp, dtype: float64"
      ]
     },
     "execution_count": 12,
     "metadata": {},
     "output_type": "execute_result"
    }
   ],
   "source": [
    "cars.hp.describe()"
   ]
  },
  {
   "cell_type": "code",
   "execution_count": 13,
   "id": "7bb4815b",
   "metadata": {},
   "outputs": [
    {
     "data": {
      "text/plain": [
       "count    32.000000\n",
       "mean      3.596563\n",
       "std       0.534679\n",
       "min       2.760000\n",
       "25%       3.080000\n",
       "50%       3.695000\n",
       "75%       3.920000\n",
       "max       4.930000\n",
       "Name: drat, dtype: float64"
      ]
     },
     "execution_count": 13,
     "metadata": {},
     "output_type": "execute_result"
    }
   ],
   "source": [
    "cars.drat.describe()"
   ]
  },
  {
   "cell_type": "code",
   "execution_count": 14,
   "id": "f0d5df05",
   "metadata": {},
   "outputs": [
    {
     "data": {
      "text/plain": [
       "count    32.000000\n",
       "mean      3.217250\n",
       "std       0.978457\n",
       "min       1.513000\n",
       "25%       2.581250\n",
       "50%       3.325000\n",
       "75%       3.610000\n",
       "max       5.424000\n",
       "Name: wt, dtype: float64"
      ]
     },
     "execution_count": 14,
     "metadata": {},
     "output_type": "execute_result"
    }
   ],
   "source": [
    "cars.wt.describe()"
   ]
  },
  {
   "cell_type": "code",
   "execution_count": 15,
   "id": "fee3a526",
   "metadata": {},
   "outputs": [
    {
     "data": {
      "text/plain": [
       "count    32.000000\n",
       "mean     17.848750\n",
       "std       1.786943\n",
       "min      14.500000\n",
       "25%      16.892500\n",
       "50%      17.710000\n",
       "75%      18.900000\n",
       "max      22.900000\n",
       "Name: qsec, dtype: float64"
      ]
     },
     "execution_count": 15,
     "metadata": {},
     "output_type": "execute_result"
    }
   ],
   "source": [
    "cars.qsec.describe()"
   ]
  },
  {
   "cell_type": "code",
   "execution_count": 16,
   "id": "5e3dfd30",
   "metadata": {},
   "outputs": [
    {
     "data": {
      "text/plain": [
       "0    18\n",
       "1    14\n",
       "Name: vs, dtype: int64"
      ]
     },
     "execution_count": 16,
     "metadata": {},
     "output_type": "execute_result"
    }
   ],
   "source": [
    "cars.vs.value_counts()"
   ]
  },
  {
   "cell_type": "code",
   "execution_count": 17,
   "id": "2f0f0ecd",
   "metadata": {},
   "outputs": [
    {
     "data": {
      "text/plain": [
       "0    19\n",
       "1    13\n",
       "Name: am, dtype: int64"
      ]
     },
     "execution_count": 17,
     "metadata": {},
     "output_type": "execute_result"
    }
   ],
   "source": [
    "cars.am.value_counts()"
   ]
  },
  {
   "cell_type": "code",
   "execution_count": 18,
   "id": "cf8533d2",
   "metadata": {},
   "outputs": [
    {
     "data": {
      "text/plain": [
       "count    32.000000\n",
       "mean      3.687500\n",
       "std       0.737804\n",
       "min       3.000000\n",
       "25%       3.000000\n",
       "50%       4.000000\n",
       "75%       4.000000\n",
       "max       5.000000\n",
       "Name: gear, dtype: float64"
      ]
     },
     "execution_count": 18,
     "metadata": {},
     "output_type": "execute_result"
    }
   ],
   "source": [
    "cars.gear.describe()"
   ]
  },
  {
   "cell_type": "code",
   "execution_count": 19,
   "id": "5d8d9178",
   "metadata": {},
   "outputs": [
    {
     "data": {
      "text/plain": [
       "count    32.0000\n",
       "mean      2.8125\n",
       "std       1.6152\n",
       "min       1.0000\n",
       "25%       2.0000\n",
       "50%       2.0000\n",
       "75%       4.0000\n",
       "max       8.0000\n",
       "Name: carb, dtype: float64"
      ]
     },
     "execution_count": 19,
     "metadata": {},
     "output_type": "execute_result"
    }
   ],
   "source": [
    "cars.carb.describe()"
   ]
  },
  {
   "cell_type": "code",
   "execution_count": 20,
   "id": "983f570d",
   "metadata": {},
   "outputs": [
    {
     "data": {
      "text/plain": [
       "Index(['model', 'mpg', 'cyl', 'disp', 'hp', 'drat', 'wt', 'qsec', 'vs', 'am',\n",
       "       'gear', 'carb'],\n",
       "      dtype='object')"
      ]
     },
     "execution_count": 20,
     "metadata": {},
     "output_type": "execute_result"
    }
   ],
   "source": [
    "cars.columns"
   ]
  },
  {
   "cell_type": "code",
   "execution_count": 21,
   "id": "564ebc98",
   "metadata": {},
   "outputs": [],
   "source": [
    "numericcols=cars[['mpg','cyl', 'disp', 'hp', 'drat', 'wt', 'qsec', 'vs', 'am',\n",
    "       'gear', 'carb']]"
   ]
  },
  {
   "cell_type": "code",
   "execution_count": 22,
   "id": "026eee77",
   "metadata": {},
   "outputs": [
    {
     "data": {
      "text/html": [
       "<div>\n",
       "<style scoped>\n",
       "    .dataframe tbody tr th:only-of-type {\n",
       "        vertical-align: middle;\n",
       "    }\n",
       "\n",
       "    .dataframe tbody tr th {\n",
       "        vertical-align: top;\n",
       "    }\n",
       "\n",
       "    .dataframe thead th {\n",
       "        text-align: right;\n",
       "    }\n",
       "</style>\n",
       "<table border=\"1\" class=\"dataframe\">\n",
       "  <thead>\n",
       "    <tr style=\"text-align: right;\">\n",
       "      <th></th>\n",
       "      <th>mpg</th>\n",
       "      <th>cyl</th>\n",
       "      <th>disp</th>\n",
       "      <th>hp</th>\n",
       "      <th>drat</th>\n",
       "      <th>wt</th>\n",
       "      <th>qsec</th>\n",
       "      <th>vs</th>\n",
       "      <th>am</th>\n",
       "      <th>gear</th>\n",
       "      <th>carb</th>\n",
       "    </tr>\n",
       "  </thead>\n",
       "  <tbody>\n",
       "    <tr>\n",
       "      <th>0</th>\n",
       "      <td>21.0</td>\n",
       "      <td>6</td>\n",
       "      <td>160.0</td>\n",
       "      <td>110</td>\n",
       "      <td>3.90</td>\n",
       "      <td>2.620</td>\n",
       "      <td>16.46</td>\n",
       "      <td>0</td>\n",
       "      <td>1</td>\n",
       "      <td>4</td>\n",
       "      <td>4</td>\n",
       "    </tr>\n",
       "    <tr>\n",
       "      <th>1</th>\n",
       "      <td>21.0</td>\n",
       "      <td>6</td>\n",
       "      <td>160.0</td>\n",
       "      <td>110</td>\n",
       "      <td>3.90</td>\n",
       "      <td>2.875</td>\n",
       "      <td>17.02</td>\n",
       "      <td>0</td>\n",
       "      <td>1</td>\n",
       "      <td>4</td>\n",
       "      <td>4</td>\n",
       "    </tr>\n",
       "    <tr>\n",
       "      <th>2</th>\n",
       "      <td>22.8</td>\n",
       "      <td>4</td>\n",
       "      <td>108.0</td>\n",
       "      <td>93</td>\n",
       "      <td>3.85</td>\n",
       "      <td>2.320</td>\n",
       "      <td>18.61</td>\n",
       "      <td>1</td>\n",
       "      <td>1</td>\n",
       "      <td>4</td>\n",
       "      <td>1</td>\n",
       "    </tr>\n",
       "    <tr>\n",
       "      <th>3</th>\n",
       "      <td>21.4</td>\n",
       "      <td>6</td>\n",
       "      <td>258.0</td>\n",
       "      <td>110</td>\n",
       "      <td>3.08</td>\n",
       "      <td>3.215</td>\n",
       "      <td>19.44</td>\n",
       "      <td>1</td>\n",
       "      <td>0</td>\n",
       "      <td>3</td>\n",
       "      <td>1</td>\n",
       "    </tr>\n",
       "    <tr>\n",
       "      <th>4</th>\n",
       "      <td>18.7</td>\n",
       "      <td>8</td>\n",
       "      <td>360.0</td>\n",
       "      <td>175</td>\n",
       "      <td>3.15</td>\n",
       "      <td>3.440</td>\n",
       "      <td>17.02</td>\n",
       "      <td>0</td>\n",
       "      <td>0</td>\n",
       "      <td>3</td>\n",
       "      <td>2</td>\n",
       "    </tr>\n",
       "  </tbody>\n",
       "</table>\n",
       "</div>"
      ],
      "text/plain": [
       "    mpg  cyl   disp   hp  drat     wt   qsec  vs  am  gear  carb\n",
       "0  21.0    6  160.0  110  3.90  2.620  16.46   0   1     4     4\n",
       "1  21.0    6  160.0  110  3.90  2.875  17.02   0   1     4     4\n",
       "2  22.8    4  108.0   93  3.85  2.320  18.61   1   1     4     1\n",
       "3  21.4    6  258.0  110  3.08  3.215  19.44   1   0     3     1\n",
       "4  18.7    8  360.0  175  3.15  3.440  17.02   0   0     3     2"
      ]
     },
     "execution_count": 22,
     "metadata": {},
     "output_type": "execute_result"
    }
   ],
   "source": [
    "numericcols.head()"
   ]
  },
  {
   "cell_type": "code",
   "execution_count": 23,
   "id": "a331bcc4",
   "metadata": {},
   "outputs": [],
   "source": [
    "from sklearn.preprocessing import StandardScaler"
   ]
  },
  {
   "cell_type": "code",
   "execution_count": 24,
   "id": "ec7227af",
   "metadata": {},
   "outputs": [],
   "source": [
    "scaler=StandardScaler()"
   ]
  },
  {
   "cell_type": "code",
   "execution_count": 25,
   "id": "caeaeaeb",
   "metadata": {},
   "outputs": [],
   "source": [
    "numeric_scaled=scaler.fit_transform(numericcols.iloc[:,0:11])"
   ]
  },
  {
   "cell_type": "code",
   "execution_count": 26,
   "id": "52570108",
   "metadata": {},
   "outputs": [
    {
     "data": {
      "text/html": [
       "<div>\n",
       "<style scoped>\n",
       "    .dataframe tbody tr th:only-of-type {\n",
       "        vertical-align: middle;\n",
       "    }\n",
       "\n",
       "    .dataframe tbody tr th {\n",
       "        vertical-align: top;\n",
       "    }\n",
       "\n",
       "    .dataframe thead th {\n",
       "        text-align: right;\n",
       "    }\n",
       "</style>\n",
       "<table border=\"1\" class=\"dataframe\">\n",
       "  <thead>\n",
       "    <tr style=\"text-align: right;\">\n",
       "      <th></th>\n",
       "      <th>mpg</th>\n",
       "      <th>cyl</th>\n",
       "      <th>disp</th>\n",
       "      <th>hp</th>\n",
       "      <th>drat</th>\n",
       "      <th>wt</th>\n",
       "      <th>qsec</th>\n",
       "      <th>vs</th>\n",
       "      <th>am</th>\n",
       "      <th>gear</th>\n",
       "      <th>carb</th>\n",
       "    </tr>\n",
       "  </thead>\n",
       "  <tbody>\n",
       "    <tr>\n",
       "      <th>0</th>\n",
       "      <td>0.153299</td>\n",
       "      <td>-0.106668</td>\n",
       "      <td>-0.579750</td>\n",
       "      <td>-0.543655</td>\n",
       "      <td>0.576594</td>\n",
       "      <td>-0.620167</td>\n",
       "      <td>-0.789601</td>\n",
       "      <td>-0.881917</td>\n",
       "      <td>1.208941</td>\n",
       "      <td>0.430331</td>\n",
       "      <td>0.746967</td>\n",
       "    </tr>\n",
       "    <tr>\n",
       "      <th>1</th>\n",
       "      <td>0.153299</td>\n",
       "      <td>-0.106668</td>\n",
       "      <td>-0.579750</td>\n",
       "      <td>-0.543655</td>\n",
       "      <td>0.576594</td>\n",
       "      <td>-0.355382</td>\n",
       "      <td>-0.471202</td>\n",
       "      <td>-0.881917</td>\n",
       "      <td>1.208941</td>\n",
       "      <td>0.430331</td>\n",
       "      <td>0.746967</td>\n",
       "    </tr>\n",
       "    <tr>\n",
       "      <th>2</th>\n",
       "      <td>0.456737</td>\n",
       "      <td>-1.244457</td>\n",
       "      <td>-1.006026</td>\n",
       "      <td>-0.795570</td>\n",
       "      <td>0.481584</td>\n",
       "      <td>-0.931678</td>\n",
       "      <td>0.432823</td>\n",
       "      <td>1.133893</td>\n",
       "      <td>1.208941</td>\n",
       "      <td>0.430331</td>\n",
       "      <td>-1.140108</td>\n",
       "    </tr>\n",
       "    <tr>\n",
       "      <th>3</th>\n",
       "      <td>0.220730</td>\n",
       "      <td>-0.106668</td>\n",
       "      <td>0.223615</td>\n",
       "      <td>-0.543655</td>\n",
       "      <td>-0.981576</td>\n",
       "      <td>-0.002336</td>\n",
       "      <td>0.904736</td>\n",
       "      <td>1.133893</td>\n",
       "      <td>-0.827170</td>\n",
       "      <td>-0.946729</td>\n",
       "      <td>-1.140108</td>\n",
       "    </tr>\n",
       "    <tr>\n",
       "      <th>4</th>\n",
       "      <td>-0.234427</td>\n",
       "      <td>1.031121</td>\n",
       "      <td>1.059772</td>\n",
       "      <td>0.419550</td>\n",
       "      <td>-0.848562</td>\n",
       "      <td>0.231297</td>\n",
       "      <td>-0.471202</td>\n",
       "      <td>-0.881917</td>\n",
       "      <td>-0.827170</td>\n",
       "      <td>-0.946729</td>\n",
       "      <td>-0.511083</td>\n",
       "    </tr>\n",
       "  </tbody>\n",
       "</table>\n",
       "</div>"
      ],
      "text/plain": [
       "        mpg       cyl      disp        hp      drat        wt      qsec  \\\n",
       "0  0.153299 -0.106668 -0.579750 -0.543655  0.576594 -0.620167 -0.789601   \n",
       "1  0.153299 -0.106668 -0.579750 -0.543655  0.576594 -0.355382 -0.471202   \n",
       "2  0.456737 -1.244457 -1.006026 -0.795570  0.481584 -0.931678  0.432823   \n",
       "3  0.220730 -0.106668  0.223615 -0.543655 -0.981576 -0.002336  0.904736   \n",
       "4 -0.234427  1.031121  1.059772  0.419550 -0.848562  0.231297 -0.471202   \n",
       "\n",
       "         vs        am      gear      carb  \n",
       "0 -0.881917  1.208941  0.430331  0.746967  \n",
       "1 -0.881917  1.208941  0.430331  0.746967  \n",
       "2  1.133893  1.208941  0.430331 -1.140108  \n",
       "3  1.133893 -0.827170 -0.946729 -1.140108  \n",
       "4 -0.881917 -0.827170 -0.946729 -0.511083  "
      ]
     },
     "execution_count": 26,
     "metadata": {},
     "output_type": "execute_result"
    }
   ],
   "source": [
    "pd.DataFrame(numeric_scaled,columns=['mpg','cyl', 'disp', 'hp', 'drat', 'wt', 'qsec', 'vs', 'am',\n",
    "       'gear', 'carb']).head()"
   ]
  },
  {
   "cell_type": "code",
   "execution_count": 27,
   "id": "96870ea5",
   "metadata": {},
   "outputs": [],
   "source": [
    "from sklearn.preprocessing import MinMaxScaler"
   ]
  },
  {
   "cell_type": "code",
   "execution_count": 28,
   "id": "6dce8ea6",
   "metadata": {},
   "outputs": [],
   "source": [
    "normalize=MinMaxScaler()"
   ]
  },
  {
   "cell_type": "code",
   "execution_count": 29,
   "id": "706257a7",
   "metadata": {},
   "outputs": [],
   "source": [
    "numeric_normalize=normalize.fit_transform(numericcols.iloc[:,0:11])"
   ]
  },
  {
   "cell_type": "code",
   "execution_count": 30,
   "id": "d6ebfff1",
   "metadata": {},
   "outputs": [
    {
     "data": {
      "text/html": [
       "<div>\n",
       "<style scoped>\n",
       "    .dataframe tbody tr th:only-of-type {\n",
       "        vertical-align: middle;\n",
       "    }\n",
       "\n",
       "    .dataframe tbody tr th {\n",
       "        vertical-align: top;\n",
       "    }\n",
       "\n",
       "    .dataframe thead th {\n",
       "        text-align: right;\n",
       "    }\n",
       "</style>\n",
       "<table border=\"1\" class=\"dataframe\">\n",
       "  <thead>\n",
       "    <tr style=\"text-align: right;\">\n",
       "      <th></th>\n",
       "      <th>mpg</th>\n",
       "      <th>cyl</th>\n",
       "      <th>disp</th>\n",
       "      <th>hp</th>\n",
       "      <th>drat</th>\n",
       "      <th>wt</th>\n",
       "      <th>qsec</th>\n",
       "      <th>vs</th>\n",
       "      <th>am</th>\n",
       "      <th>gear</th>\n",
       "      <th>carb</th>\n",
       "    </tr>\n",
       "  </thead>\n",
       "  <tbody>\n",
       "    <tr>\n",
       "      <th>0</th>\n",
       "      <td>0.451064</td>\n",
       "      <td>0.5</td>\n",
       "      <td>0.221751</td>\n",
       "      <td>0.204947</td>\n",
       "      <td>0.525346</td>\n",
       "      <td>0.283048</td>\n",
       "      <td>0.233333</td>\n",
       "      <td>0.0</td>\n",
       "      <td>1.0</td>\n",
       "      <td>0.5</td>\n",
       "      <td>0.428571</td>\n",
       "    </tr>\n",
       "    <tr>\n",
       "      <th>1</th>\n",
       "      <td>0.451064</td>\n",
       "      <td>0.5</td>\n",
       "      <td>0.221751</td>\n",
       "      <td>0.204947</td>\n",
       "      <td>0.525346</td>\n",
       "      <td>0.348249</td>\n",
       "      <td>0.300000</td>\n",
       "      <td>0.0</td>\n",
       "      <td>1.0</td>\n",
       "      <td>0.5</td>\n",
       "      <td>0.428571</td>\n",
       "    </tr>\n",
       "    <tr>\n",
       "      <th>2</th>\n",
       "      <td>0.527660</td>\n",
       "      <td>0.0</td>\n",
       "      <td>0.092043</td>\n",
       "      <td>0.144876</td>\n",
       "      <td>0.502304</td>\n",
       "      <td>0.206341</td>\n",
       "      <td>0.489286</td>\n",
       "      <td>1.0</td>\n",
       "      <td>1.0</td>\n",
       "      <td>0.5</td>\n",
       "      <td>0.000000</td>\n",
       "    </tr>\n",
       "    <tr>\n",
       "      <th>3</th>\n",
       "      <td>0.468085</td>\n",
       "      <td>0.5</td>\n",
       "      <td>0.466201</td>\n",
       "      <td>0.204947</td>\n",
       "      <td>0.147465</td>\n",
       "      <td>0.435183</td>\n",
       "      <td>0.588095</td>\n",
       "      <td>1.0</td>\n",
       "      <td>0.0</td>\n",
       "      <td>0.0</td>\n",
       "      <td>0.000000</td>\n",
       "    </tr>\n",
       "    <tr>\n",
       "      <th>4</th>\n",
       "      <td>0.353191</td>\n",
       "      <td>1.0</td>\n",
       "      <td>0.720629</td>\n",
       "      <td>0.434629</td>\n",
       "      <td>0.179724</td>\n",
       "      <td>0.492713</td>\n",
       "      <td>0.300000</td>\n",
       "      <td>0.0</td>\n",
       "      <td>0.0</td>\n",
       "      <td>0.0</td>\n",
       "      <td>0.142857</td>\n",
       "    </tr>\n",
       "  </tbody>\n",
       "</table>\n",
       "</div>"
      ],
      "text/plain": [
       "        mpg  cyl      disp        hp      drat        wt      qsec   vs   am  \\\n",
       "0  0.451064  0.5  0.221751  0.204947  0.525346  0.283048  0.233333  0.0  1.0   \n",
       "1  0.451064  0.5  0.221751  0.204947  0.525346  0.348249  0.300000  0.0  1.0   \n",
       "2  0.527660  0.0  0.092043  0.144876  0.502304  0.206341  0.489286  1.0  1.0   \n",
       "3  0.468085  0.5  0.466201  0.204947  0.147465  0.435183  0.588095  1.0  0.0   \n",
       "4  0.353191  1.0  0.720629  0.434629  0.179724  0.492713  0.300000  0.0  0.0   \n",
       "\n",
       "   gear      carb  \n",
       "0   0.5  0.428571  \n",
       "1   0.5  0.428571  \n",
       "2   0.5  0.000000  \n",
       "3   0.0  0.000000  \n",
       "4   0.0  0.142857  "
      ]
     },
     "execution_count": 30,
     "metadata": {},
     "output_type": "execute_result"
    }
   ],
   "source": [
    "pd.DataFrame(numeric_normalize,columns=['mpg','cyl', 'disp', 'hp', 'drat', 'wt', 'qsec', 'vs', 'am',\n",
    "       'gear', 'carb']).head()"
   ]
  },
  {
   "cell_type": "code",
   "execution_count": 31,
   "id": "879c0361",
   "metadata": {},
   "outputs": [],
   "source": [
    "from sklearn.preprocessing import RobustScaler"
   ]
  },
  {
   "cell_type": "code",
   "execution_count": 32,
   "id": "d93d8793",
   "metadata": {},
   "outputs": [],
   "source": [
    "robust=RobustScaler()"
   ]
  },
  {
   "cell_type": "code",
   "execution_count": 33,
   "id": "70bbabac",
   "metadata": {},
   "outputs": [],
   "source": [
    "numeric_robust=robust.fit_transform(numericcols.iloc[:,0:11])"
   ]
  },
  {
   "cell_type": "code",
   "execution_count": 34,
   "id": "ab86fc42",
   "metadata": {},
   "outputs": [
    {
     "data": {
      "text/html": [
       "<div>\n",
       "<style scoped>\n",
       "    .dataframe tbody tr th:only-of-type {\n",
       "        vertical-align: middle;\n",
       "    }\n",
       "\n",
       "    .dataframe tbody tr th {\n",
       "        vertical-align: top;\n",
       "    }\n",
       "\n",
       "    .dataframe thead th {\n",
       "        text-align: right;\n",
       "    }\n",
       "</style>\n",
       "<table border=\"1\" class=\"dataframe\">\n",
       "  <thead>\n",
       "    <tr style=\"text-align: right;\">\n",
       "      <th></th>\n",
       "      <th>mpg</th>\n",
       "      <th>cyl</th>\n",
       "      <th>disp</th>\n",
       "      <th>hp</th>\n",
       "      <th>drat</th>\n",
       "      <th>wt</th>\n",
       "      <th>qsec</th>\n",
       "      <th>vs</th>\n",
       "      <th>am</th>\n",
       "      <th>gear</th>\n",
       "      <th>carb</th>\n",
       "    </tr>\n",
       "  </thead>\n",
       "  <tbody>\n",
       "    <tr>\n",
       "      <th>0</th>\n",
       "      <td>0.244068</td>\n",
       "      <td>0.0</td>\n",
       "      <td>-0.176922</td>\n",
       "      <td>-0.155689</td>\n",
       "      <td>0.244048</td>\n",
       "      <td>-0.685298</td>\n",
       "      <td>-0.622665</td>\n",
       "      <td>0.0</td>\n",
       "      <td>1.0</td>\n",
       "      <td>0.0</td>\n",
       "      <td>1.0</td>\n",
       "    </tr>\n",
       "    <tr>\n",
       "      <th>1</th>\n",
       "      <td>0.244068</td>\n",
       "      <td>0.0</td>\n",
       "      <td>-0.176922</td>\n",
       "      <td>-0.155689</td>\n",
       "      <td>0.244048</td>\n",
       "      <td>-0.437424</td>\n",
       "      <td>-0.343711</td>\n",
       "      <td>0.0</td>\n",
       "      <td>1.0</td>\n",
       "      <td>0.0</td>\n",
       "      <td>1.0</td>\n",
       "    </tr>\n",
       "    <tr>\n",
       "      <th>2</th>\n",
       "      <td>0.488136</td>\n",
       "      <td>-0.5</td>\n",
       "      <td>-0.430364</td>\n",
       "      <td>-0.359281</td>\n",
       "      <td>0.184524</td>\n",
       "      <td>-0.976914</td>\n",
       "      <td>0.448319</td>\n",
       "      <td>1.0</td>\n",
       "      <td>1.0</td>\n",
       "      <td>0.0</td>\n",
       "      <td>-0.5</td>\n",
       "    </tr>\n",
       "    <tr>\n",
       "      <th>3</th>\n",
       "      <td>0.298305</td>\n",
       "      <td>0.0</td>\n",
       "      <td>0.300719</td>\n",
       "      <td>-0.155689</td>\n",
       "      <td>-0.732143</td>\n",
       "      <td>-0.106926</td>\n",
       "      <td>0.861768</td>\n",
       "      <td>1.0</td>\n",
       "      <td>0.0</td>\n",
       "      <td>-1.0</td>\n",
       "      <td>-0.5</td>\n",
       "    </tr>\n",
       "    <tr>\n",
       "      <th>4</th>\n",
       "      <td>-0.067797</td>\n",
       "      <td>0.5</td>\n",
       "      <td>0.797855</td>\n",
       "      <td>0.622754</td>\n",
       "      <td>-0.648810</td>\n",
       "      <td>0.111786</td>\n",
       "      <td>-0.343711</td>\n",
       "      <td>0.0</td>\n",
       "      <td>0.0</td>\n",
       "      <td>-1.0</td>\n",
       "      <td>0.0</td>\n",
       "    </tr>\n",
       "  </tbody>\n",
       "</table>\n",
       "</div>"
      ],
      "text/plain": [
       "        mpg  cyl      disp        hp      drat        wt      qsec   vs   am  \\\n",
       "0  0.244068  0.0 -0.176922 -0.155689  0.244048 -0.685298 -0.622665  0.0  1.0   \n",
       "1  0.244068  0.0 -0.176922 -0.155689  0.244048 -0.437424 -0.343711  0.0  1.0   \n",
       "2  0.488136 -0.5 -0.430364 -0.359281  0.184524 -0.976914  0.448319  1.0  1.0   \n",
       "3  0.298305  0.0  0.300719 -0.155689 -0.732143 -0.106926  0.861768  1.0  0.0   \n",
       "4 -0.067797  0.5  0.797855  0.622754 -0.648810  0.111786 -0.343711  0.0  0.0   \n",
       "\n",
       "   gear  carb  \n",
       "0   0.0   1.0  \n",
       "1   0.0   1.0  \n",
       "2   0.0  -0.5  \n",
       "3  -1.0  -0.5  \n",
       "4  -1.0   0.0  "
      ]
     },
     "execution_count": 34,
     "metadata": {},
     "output_type": "execute_result"
    }
   ],
   "source": [
    "pd.DataFrame(numeric_robust,columns=['mpg','cyl', 'disp', 'hp', 'drat', 'wt', 'qsec', 'vs', 'am',\n",
    "       'gear', 'carb']).head()"
   ]
  },
  {
   "cell_type": "code",
   "execution_count": 35,
   "id": "58d0f0cd",
   "metadata": {},
   "outputs": [],
   "source": [
    "numeric_scaled=pd.DataFrame(numeric_scaled,columns=['mpg','cyl', 'disp', 'hp', 'drat', 'wt', 'qsec', 'vs', 'am',\n",
    "       'gear', 'carb']).reset_index(drop=True)"
   ]
  },
  {
   "cell_type": "code",
   "execution_count": 36,
   "id": "75d0635d",
   "metadata": {},
   "outputs": [],
   "source": [
    "numericcols=numericcols.reset_index(drop=True)"
   ]
  },
  {
   "cell_type": "code",
   "execution_count": 37,
   "id": "05b649dc",
   "metadata": {},
   "outputs": [],
   "source": [
    "objectcols=cars[['model']]"
   ]
  },
  {
   "cell_type": "code",
   "execution_count": 38,
   "id": "4f102224",
   "metadata": {},
   "outputs": [
    {
     "data": {
      "text/html": [
       "<div>\n",
       "<style scoped>\n",
       "    .dataframe tbody tr th:only-of-type {\n",
       "        vertical-align: middle;\n",
       "    }\n",
       "\n",
       "    .dataframe tbody tr th {\n",
       "        vertical-align: top;\n",
       "    }\n",
       "\n",
       "    .dataframe thead th {\n",
       "        text-align: right;\n",
       "    }\n",
       "</style>\n",
       "<table border=\"1\" class=\"dataframe\">\n",
       "  <thead>\n",
       "    <tr style=\"text-align: right;\">\n",
       "      <th></th>\n",
       "      <th>model</th>\n",
       "    </tr>\n",
       "  </thead>\n",
       "  <tbody>\n",
       "    <tr>\n",
       "      <th>0</th>\n",
       "      <td>Mazda RX4</td>\n",
       "    </tr>\n",
       "    <tr>\n",
       "      <th>1</th>\n",
       "      <td>Mazda RX4 Wag</td>\n",
       "    </tr>\n",
       "    <tr>\n",
       "      <th>2</th>\n",
       "      <td>Datsun 710</td>\n",
       "    </tr>\n",
       "    <tr>\n",
       "      <th>3</th>\n",
       "      <td>Hornet 4 Drive</td>\n",
       "    </tr>\n",
       "    <tr>\n",
       "      <th>4</th>\n",
       "      <td>Hornet Sportabout</td>\n",
       "    </tr>\n",
       "  </tbody>\n",
       "</table>\n",
       "</div>"
      ],
      "text/plain": [
       "               model\n",
       "0          Mazda RX4\n",
       "1      Mazda RX4 Wag\n",
       "2         Datsun 710\n",
       "3     Hornet 4 Drive\n",
       "4  Hornet Sportabout"
      ]
     },
     "execution_count": 38,
     "metadata": {},
     "output_type": "execute_result"
    }
   ],
   "source": [
    "objectcols.head()"
   ]
  },
  {
   "cell_type": "code",
   "execution_count": 39,
   "id": "62b40b5e",
   "metadata": {},
   "outputs": [],
   "source": [
    "from sklearn.preprocessing import LabelEncoder"
   ]
  },
  {
   "cell_type": "code",
   "execution_count": 40,
   "id": "b0add4d9",
   "metadata": {},
   "outputs": [],
   "source": [
    "le=LabelEncoder()"
   ]
  },
  {
   "cell_type": "code",
   "execution_count": 41,
   "id": "a69af16d",
   "metadata": {},
   "outputs": [],
   "source": [
    "objectcols_labelEncode=objectcols.apply(le.fit_transform)"
   ]
  },
  {
   "cell_type": "code",
   "execution_count": 42,
   "id": "9ad85dbc",
   "metadata": {},
   "outputs": [
    {
     "data": {
      "text/html": [
       "<div>\n",
       "<style scoped>\n",
       "    .dataframe tbody tr th:only-of-type {\n",
       "        vertical-align: middle;\n",
       "    }\n",
       "\n",
       "    .dataframe tbody tr th {\n",
       "        vertical-align: top;\n",
       "    }\n",
       "\n",
       "    .dataframe thead th {\n",
       "        text-align: right;\n",
       "    }\n",
       "</style>\n",
       "<table border=\"1\" class=\"dataframe\">\n",
       "  <thead>\n",
       "    <tr style=\"text-align: right;\">\n",
       "      <th></th>\n",
       "      <th>model</th>\n",
       "    </tr>\n",
       "  </thead>\n",
       "  <tbody>\n",
       "    <tr>\n",
       "      <th>0</th>\n",
       "      <td>Mazda RX4</td>\n",
       "    </tr>\n",
       "    <tr>\n",
       "      <th>1</th>\n",
       "      <td>Mazda RX4 Wag</td>\n",
       "    </tr>\n",
       "    <tr>\n",
       "      <th>2</th>\n",
       "      <td>Datsun 710</td>\n",
       "    </tr>\n",
       "  </tbody>\n",
       "</table>\n",
       "</div>"
      ],
      "text/plain": [
       "           model\n",
       "0      Mazda RX4\n",
       "1  Mazda RX4 Wag\n",
       "2     Datsun 710"
      ]
     },
     "execution_count": 42,
     "metadata": {},
     "output_type": "execute_result"
    }
   ],
   "source": [
    "objectcols.head(3)"
   ]
  },
  {
   "cell_type": "code",
   "execution_count": 43,
   "id": "0edbfc25",
   "metadata": {},
   "outputs": [
    {
     "data": {
      "text/html": [
       "<div>\n",
       "<style scoped>\n",
       "    .dataframe tbody tr th:only-of-type {\n",
       "        vertical-align: middle;\n",
       "    }\n",
       "\n",
       "    .dataframe tbody tr th {\n",
       "        vertical-align: top;\n",
       "    }\n",
       "\n",
       "    .dataframe thead th {\n",
       "        text-align: right;\n",
       "    }\n",
       "</style>\n",
       "<table border=\"1\" class=\"dataframe\">\n",
       "  <thead>\n",
       "    <tr style=\"text-align: right;\">\n",
       "      <th></th>\n",
       "      <th>model</th>\n",
       "    </tr>\n",
       "  </thead>\n",
       "  <tbody>\n",
       "    <tr>\n",
       "      <th>0</th>\n",
       "      <td>17</td>\n",
       "    </tr>\n",
       "    <tr>\n",
       "      <th>1</th>\n",
       "      <td>18</td>\n",
       "    </tr>\n",
       "    <tr>\n",
       "      <th>2</th>\n",
       "      <td>4</td>\n",
       "    </tr>\n",
       "  </tbody>\n",
       "</table>\n",
       "</div>"
      ],
      "text/plain": [
       "   model\n",
       "0     17\n",
       "1     18\n",
       "2      4"
      ]
     },
     "execution_count": 43,
     "metadata": {},
     "output_type": "execute_result"
    }
   ],
   "source": [
    "objectcols_labelEncode.head(3)"
   ]
  },
  {
   "cell_type": "code",
   "execution_count": 44,
   "id": "5bc6f2b9",
   "metadata": {},
   "outputs": [],
   "source": [
    "objectcols_dummy=pd.get_dummies(objectcols)"
   ]
  },
  {
   "cell_type": "code",
   "execution_count": 45,
   "id": "e07de69e",
   "metadata": {},
   "outputs": [
    {
     "data": {
      "text/html": [
       "<div>\n",
       "<style scoped>\n",
       "    .dataframe tbody tr th:only-of-type {\n",
       "        vertical-align: middle;\n",
       "    }\n",
       "\n",
       "    .dataframe tbody tr th {\n",
       "        vertical-align: top;\n",
       "    }\n",
       "\n",
       "    .dataframe thead th {\n",
       "        text-align: right;\n",
       "    }\n",
       "</style>\n",
       "<table border=\"1\" class=\"dataframe\">\n",
       "  <thead>\n",
       "    <tr style=\"text-align: right;\">\n",
       "      <th></th>\n",
       "      <th>model_AMC Javelin</th>\n",
       "      <th>model_Cadillac Fleetwood</th>\n",
       "      <th>model_Camaro Z28</th>\n",
       "      <th>model_Chrysler Imperial</th>\n",
       "      <th>model_Datsun 710</th>\n",
       "      <th>model_Dodge Challenger</th>\n",
       "      <th>model_Duster 360</th>\n",
       "      <th>model_Ferrari Dino</th>\n",
       "      <th>model_Fiat 128</th>\n",
       "      <th>model_Fiat X1-9</th>\n",
       "      <th>...</th>\n",
       "      <th>model_Merc 280C</th>\n",
       "      <th>model_Merc 450SE</th>\n",
       "      <th>model_Merc 450SL</th>\n",
       "      <th>model_Merc 450SLC</th>\n",
       "      <th>model_Pontiac Firebird</th>\n",
       "      <th>model_Porsche 914-2</th>\n",
       "      <th>model_Toyota Corolla</th>\n",
       "      <th>model_Toyota Corona</th>\n",
       "      <th>model_Valiant</th>\n",
       "      <th>model_Volvo 142E</th>\n",
       "    </tr>\n",
       "  </thead>\n",
       "  <tbody>\n",
       "    <tr>\n",
       "      <th>0</th>\n",
       "      <td>0</td>\n",
       "      <td>0</td>\n",
       "      <td>0</td>\n",
       "      <td>0</td>\n",
       "      <td>0</td>\n",
       "      <td>0</td>\n",
       "      <td>0</td>\n",
       "      <td>0</td>\n",
       "      <td>0</td>\n",
       "      <td>0</td>\n",
       "      <td>...</td>\n",
       "      <td>0</td>\n",
       "      <td>0</td>\n",
       "      <td>0</td>\n",
       "      <td>0</td>\n",
       "      <td>0</td>\n",
       "      <td>0</td>\n",
       "      <td>0</td>\n",
       "      <td>0</td>\n",
       "      <td>0</td>\n",
       "      <td>0</td>\n",
       "    </tr>\n",
       "    <tr>\n",
       "      <th>1</th>\n",
       "      <td>0</td>\n",
       "      <td>0</td>\n",
       "      <td>0</td>\n",
       "      <td>0</td>\n",
       "      <td>0</td>\n",
       "      <td>0</td>\n",
       "      <td>0</td>\n",
       "      <td>0</td>\n",
       "      <td>0</td>\n",
       "      <td>0</td>\n",
       "      <td>...</td>\n",
       "      <td>0</td>\n",
       "      <td>0</td>\n",
       "      <td>0</td>\n",
       "      <td>0</td>\n",
       "      <td>0</td>\n",
       "      <td>0</td>\n",
       "      <td>0</td>\n",
       "      <td>0</td>\n",
       "      <td>0</td>\n",
       "      <td>0</td>\n",
       "    </tr>\n",
       "    <tr>\n",
       "      <th>2</th>\n",
       "      <td>0</td>\n",
       "      <td>0</td>\n",
       "      <td>0</td>\n",
       "      <td>0</td>\n",
       "      <td>1</td>\n",
       "      <td>0</td>\n",
       "      <td>0</td>\n",
       "      <td>0</td>\n",
       "      <td>0</td>\n",
       "      <td>0</td>\n",
       "      <td>...</td>\n",
       "      <td>0</td>\n",
       "      <td>0</td>\n",
       "      <td>0</td>\n",
       "      <td>0</td>\n",
       "      <td>0</td>\n",
       "      <td>0</td>\n",
       "      <td>0</td>\n",
       "      <td>0</td>\n",
       "      <td>0</td>\n",
       "      <td>0</td>\n",
       "    </tr>\n",
       "  </tbody>\n",
       "</table>\n",
       "<p>3 rows × 32 columns</p>\n",
       "</div>"
      ],
      "text/plain": [
       "   model_AMC Javelin  model_Cadillac Fleetwood  model_Camaro Z28  \\\n",
       "0                  0                         0                 0   \n",
       "1                  0                         0                 0   \n",
       "2                  0                         0                 0   \n",
       "\n",
       "   model_Chrysler Imperial  model_Datsun 710  model_Dodge Challenger  \\\n",
       "0                        0                 0                       0   \n",
       "1                        0                 0                       0   \n",
       "2                        0                 1                       0   \n",
       "\n",
       "   model_Duster 360  model_Ferrari Dino  model_Fiat 128  model_Fiat X1-9  ...  \\\n",
       "0                 0                   0               0                0  ...   \n",
       "1                 0                   0               0                0  ...   \n",
       "2                 0                   0               0                0  ...   \n",
       "\n",
       "   model_Merc 280C  model_Merc 450SE  model_Merc 450SL  model_Merc 450SLC  \\\n",
       "0                0                 0                 0                  0   \n",
       "1                0                 0                 0                  0   \n",
       "2                0                 0                 0                  0   \n",
       "\n",
       "   model_Pontiac Firebird  model_Porsche 914-2  model_Toyota Corolla  \\\n",
       "0                       0                    0                     0   \n",
       "1                       0                    0                     0   \n",
       "2                       0                    0                     0   \n",
       "\n",
       "   model_Toyota Corona  model_Valiant  model_Volvo 142E  \n",
       "0                    0              0                 0  \n",
       "1                    0              0                 0  \n",
       "2                    0              0                 0  \n",
       "\n",
       "[3 rows x 32 columns]"
      ]
     },
     "execution_count": 45,
     "metadata": {},
     "output_type": "execute_result"
    }
   ],
   "source": [
    "objectcols_dummy.head(3)"
   ]
  },
  {
   "cell_type": "code",
   "execution_count": 46,
   "id": "c7916797",
   "metadata": {},
   "outputs": [
    {
     "name": "stdout",
     "output_type": "stream",
     "text": [
      "(32, 1)\n",
      "(32, 1)\n",
      "(32, 32)\n"
     ]
    }
   ],
   "source": [
    "print(objectcols.shape)\n",
    "print(objectcols_labelEncode.shape)\n",
    "print(objectcols_dummy.shape)"
   ]
  },
  {
   "cell_type": "code",
   "execution_count": 47,
   "id": "08bec7ec",
   "metadata": {},
   "outputs": [],
   "source": [
    "objectcols_labelEncode=objectcols_labelEncode.reset_index(drop=True)"
   ]
  },
  {
   "cell_type": "code",
   "execution_count": 48,
   "id": "98a11b8d",
   "metadata": {},
   "outputs": [],
   "source": [
    "cars_clean=pd.concat([numeric_scaled,objectcols_labelEncode],axis=1)"
   ]
  },
  {
   "cell_type": "code",
   "execution_count": 49,
   "id": "287108ce",
   "metadata": {},
   "outputs": [],
   "source": [
    "numericcols=numericcols.reset_index(drop=True)"
   ]
  },
  {
   "cell_type": "code",
   "execution_count": 50,
   "id": "da80866e",
   "metadata": {},
   "outputs": [],
   "source": [
    "cars_clean['mpg']=numericcols.mpg"
   ]
  },
  {
   "cell_type": "code",
   "execution_count": 51,
   "id": "c719c512",
   "metadata": {},
   "outputs": [
    {
     "data": {
      "text/plain": [
       "Index(['mpg', 'cyl', 'disp', 'hp', 'drat', 'wt', 'qsec', 'vs', 'am', 'gear',\n",
       "       'carb', 'model'],\n",
       "      dtype='object')"
      ]
     },
     "execution_count": 51,
     "metadata": {},
     "output_type": "execute_result"
    }
   ],
   "source": [
    "cars_clean.columns"
   ]
  },
  {
   "cell_type": "code",
   "execution_count": 52,
   "id": "8817bc56",
   "metadata": {},
   "outputs": [],
   "source": [
    "cars=cars.drop('mpg',axis=1)"
   ]
  },
  {
   "cell_type": "code",
   "execution_count": null,
   "id": "adb983d8",
   "metadata": {},
   "outputs": [],
   "source": [
    "# Missing values in 4 numeric and 1 categorical\n",
    "# Numeric - Mean or Median imputation\n",
    "# Categorical - Mode or most_frequent\n",
    "# mileage and maxpower - mean imputation\n",
    "# engine and torque - median imputation\n",
    "# seats mode imputation"
   ]
  },
  {
   "cell_type": "code",
   "execution_count": null,
   "id": "c3fce9da",
   "metadata": {},
   "outputs": [],
   "source": []
  },
  {
   "cell_type": "code",
   "execution_count": null,
   "id": "00652df7",
   "metadata": {},
   "outputs": [],
   "source": []
  }
 ],
 "metadata": {
  "kernelspec": {
   "display_name": "Python 3 (ipykernel)",
   "language": "python",
   "name": "python3"
  },
  "language_info": {
   "codemirror_mode": {
    "name": "ipython",
    "version": 3
   },
   "file_extension": ".py",
   "mimetype": "text/x-python",
   "name": "python",
   "nbconvert_exporter": "python",
   "pygments_lexer": "ipython3",
   "version": "3.9.15"
  }
 },
 "nbformat": 4,
 "nbformat_minor": 5
}
