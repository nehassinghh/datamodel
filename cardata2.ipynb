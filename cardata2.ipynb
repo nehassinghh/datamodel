{
 "cells": [
  {
   "cell_type": "code",
   "execution_count": 91,
   "id": "f42b623f",
   "metadata": {},
   "outputs": [],
   "source": [
    "import pandas as pd\n",
    "import numpy as np\n",
    "import matplotlib.pyplot as plt\n",
    "%matplotlib inline"
   ]
  },
  {
   "cell_type": "code",
   "execution_count": 92,
   "id": "9708c734",
   "metadata": {},
   "outputs": [
    {
     "name": "stdout",
     "output_type": "stream",
     "text": [
      "C:\\Users\\Neha singh\\Desktop\\statisticsevaluation\n"
     ]
    }
   ],
   "source": [
    "import io\n",
    "%cd \"C:\\Users\\Neha singh\\Desktop\\statisticsevaluation\""
   ]
  },
  {
   "cell_type": "code",
   "execution_count": 93,
   "id": "78010a05",
   "metadata": {},
   "outputs": [],
   "source": [
    "cardata=pd.read_csv(\"Car details v3.csv\")"
   ]
  },
  {
   "cell_type": "code",
   "execution_count": 94,
   "id": "5e43ba19",
   "metadata": {},
   "outputs": [
    {
     "name": "stdout",
     "output_type": "stream",
     "text": [
      "(8128, 13)\n"
     ]
    }
   ],
   "source": [
    "print (cardata.shape)"
   ]
  },
  {
   "cell_type": "code",
   "execution_count": 95,
   "id": "bafcfc0f",
   "metadata": {},
   "outputs": [
    {
     "data": {
      "text/html": [
       "<div>\n",
       "<style scoped>\n",
       "    .dataframe tbody tr th:only-of-type {\n",
       "        vertical-align: middle;\n",
       "    }\n",
       "\n",
       "    .dataframe tbody tr th {\n",
       "        vertical-align: top;\n",
       "    }\n",
       "\n",
       "    .dataframe thead th {\n",
       "        text-align: right;\n",
       "    }\n",
       "</style>\n",
       "<table border=\"1\" class=\"dataframe\">\n",
       "  <thead>\n",
       "    <tr style=\"text-align: right;\">\n",
       "      <th></th>\n",
       "      <th>name</th>\n",
       "      <th>year</th>\n",
       "      <th>selling_price</th>\n",
       "      <th>km_driven</th>\n",
       "      <th>fuel</th>\n",
       "      <th>seller_type</th>\n",
       "      <th>transmission</th>\n",
       "      <th>owner</th>\n",
       "      <th>mileage</th>\n",
       "      <th>engine</th>\n",
       "      <th>max_power</th>\n",
       "      <th>torque</th>\n",
       "      <th>seats</th>\n",
       "    </tr>\n",
       "  </thead>\n",
       "  <tbody>\n",
       "    <tr>\n",
       "      <th>0</th>\n",
       "      <td>Maruti Swift Dzire VDI</td>\n",
       "      <td>2014</td>\n",
       "      <td>450000</td>\n",
       "      <td>145500</td>\n",
       "      <td>Diesel</td>\n",
       "      <td>Individual</td>\n",
       "      <td>Manual</td>\n",
       "      <td>First Owner</td>\n",
       "      <td>23.40</td>\n",
       "      <td>1248.0</td>\n",
       "      <td>74</td>\n",
       "      <td>2000</td>\n",
       "      <td>5.0</td>\n",
       "    </tr>\n",
       "    <tr>\n",
       "      <th>1</th>\n",
       "      <td>Skoda Rapid 1.5 TDI Ambition</td>\n",
       "      <td>2014</td>\n",
       "      <td>370000</td>\n",
       "      <td>120000</td>\n",
       "      <td>Diesel</td>\n",
       "      <td>Individual</td>\n",
       "      <td>Manual</td>\n",
       "      <td>Second Owner</td>\n",
       "      <td>21.14</td>\n",
       "      <td>1498.0</td>\n",
       "      <td>103.52</td>\n",
       "      <td>2500</td>\n",
       "      <td>5.0</td>\n",
       "    </tr>\n",
       "    <tr>\n",
       "      <th>2</th>\n",
       "      <td>Honda City 2017-2020 EXi</td>\n",
       "      <td>2006</td>\n",
       "      <td>158000</td>\n",
       "      <td>140000</td>\n",
       "      <td>Petrol</td>\n",
       "      <td>Individual</td>\n",
       "      <td>Manual</td>\n",
       "      <td>Third Owner</td>\n",
       "      <td>17.70</td>\n",
       "      <td>1497.0</td>\n",
       "      <td>78</td>\n",
       "      <td>2700</td>\n",
       "      <td>5.0</td>\n",
       "    </tr>\n",
       "    <tr>\n",
       "      <th>3</th>\n",
       "      <td>Hyundai i20 Sportz Diesel</td>\n",
       "      <td>2010</td>\n",
       "      <td>225000</td>\n",
       "      <td>127000</td>\n",
       "      <td>Diesel</td>\n",
       "      <td>Individual</td>\n",
       "      <td>Manual</td>\n",
       "      <td>First Owner</td>\n",
       "      <td>23.00</td>\n",
       "      <td>1396.0</td>\n",
       "      <td>90</td>\n",
       "      <td>NaN</td>\n",
       "      <td>5.0</td>\n",
       "    </tr>\n",
       "    <tr>\n",
       "      <th>4</th>\n",
       "      <td>Maruti Swift VXI BSIII</td>\n",
       "      <td>2007</td>\n",
       "      <td>130000</td>\n",
       "      <td>120000</td>\n",
       "      <td>Petrol</td>\n",
       "      <td>Individual</td>\n",
       "      <td>Manual</td>\n",
       "      <td>First Owner</td>\n",
       "      <td>16.10</td>\n",
       "      <td>1298.0</td>\n",
       "      <td>88.2</td>\n",
       "      <td>4500</td>\n",
       "      <td>5.0</td>\n",
       "    </tr>\n",
       "  </tbody>\n",
       "</table>\n",
       "</div>"
      ],
      "text/plain": [
       "                           name  year  selling_price  km_driven    fuel  \\\n",
       "0        Maruti Swift Dzire VDI  2014         450000     145500  Diesel   \n",
       "1  Skoda Rapid 1.5 TDI Ambition  2014         370000     120000  Diesel   \n",
       "2      Honda City 2017-2020 EXi  2006         158000     140000  Petrol   \n",
       "3     Hyundai i20 Sportz Diesel  2010         225000     127000  Diesel   \n",
       "4        Maruti Swift VXI BSIII  2007         130000     120000  Petrol   \n",
       "\n",
       "  seller_type transmission         owner  mileage  engine max_power torque  \\\n",
       "0  Individual       Manual   First Owner    23.40  1248.0        74   2000   \n",
       "1  Individual       Manual  Second Owner    21.14  1498.0    103.52   2500   \n",
       "2  Individual       Manual   Third Owner    17.70  1497.0        78   2700   \n",
       "3  Individual       Manual   First Owner    23.00  1396.0        90    NaN   \n",
       "4  Individual       Manual   First Owner    16.10  1298.0      88.2   4500   \n",
       "\n",
       "   seats  \n",
       "0    5.0  \n",
       "1    5.0  \n",
       "2    5.0  \n",
       "3    5.0  \n",
       "4    5.0  "
      ]
     },
     "execution_count": 95,
     "metadata": {},
     "output_type": "execute_result"
    }
   ],
   "source": [
    "# Head\n",
    "cardata.head(5)"
   ]
  },
  {
   "cell_type": "code",
   "execution_count": 96,
   "id": "b1831ca3",
   "metadata": {},
   "outputs": [
    {
     "data": {
      "text/html": [
       "<div>\n",
       "<style scoped>\n",
       "    .dataframe tbody tr th:only-of-type {\n",
       "        vertical-align: middle;\n",
       "    }\n",
       "\n",
       "    .dataframe tbody tr th {\n",
       "        vertical-align: top;\n",
       "    }\n",
       "\n",
       "    .dataframe thead th {\n",
       "        text-align: right;\n",
       "    }\n",
       "</style>\n",
       "<table border=\"1\" class=\"dataframe\">\n",
       "  <thead>\n",
       "    <tr style=\"text-align: right;\">\n",
       "      <th></th>\n",
       "      <th>name</th>\n",
       "      <th>year</th>\n",
       "      <th>selling_price</th>\n",
       "      <th>km_driven</th>\n",
       "      <th>fuel</th>\n",
       "      <th>seller_type</th>\n",
       "      <th>transmission</th>\n",
       "      <th>owner</th>\n",
       "      <th>mileage</th>\n",
       "      <th>engine</th>\n",
       "      <th>max_power</th>\n",
       "      <th>torque</th>\n",
       "      <th>seats</th>\n",
       "    </tr>\n",
       "  </thead>\n",
       "  <tbody>\n",
       "    <tr>\n",
       "      <th>8123</th>\n",
       "      <td>Hyundai i20 Magna</td>\n",
       "      <td>2013</td>\n",
       "      <td>320000</td>\n",
       "      <td>110000</td>\n",
       "      <td>Petrol</td>\n",
       "      <td>Individual</td>\n",
       "      <td>Manual</td>\n",
       "      <td>First Owner</td>\n",
       "      <td>18.50</td>\n",
       "      <td>1197.0</td>\n",
       "      <td>82.85</td>\n",
       "      <td>4000</td>\n",
       "      <td>5.0</td>\n",
       "    </tr>\n",
       "    <tr>\n",
       "      <th>8124</th>\n",
       "      <td>Hyundai Verna CRDi SX</td>\n",
       "      <td>2007</td>\n",
       "      <td>135000</td>\n",
       "      <td>119000</td>\n",
       "      <td>Diesel</td>\n",
       "      <td>Individual</td>\n",
       "      <td>Manual</td>\n",
       "      <td>Fourth &amp; Above Owner</td>\n",
       "      <td>16.80</td>\n",
       "      <td>1493.0</td>\n",
       "      <td>110</td>\n",
       "      <td>2750</td>\n",
       "      <td>5.0</td>\n",
       "    </tr>\n",
       "    <tr>\n",
       "      <th>8125</th>\n",
       "      <td>Maruti Swift Dzire ZDi</td>\n",
       "      <td>2009</td>\n",
       "      <td>382000</td>\n",
       "      <td>120000</td>\n",
       "      <td>Diesel</td>\n",
       "      <td>Individual</td>\n",
       "      <td>Manual</td>\n",
       "      <td>First Owner</td>\n",
       "      <td>19.30</td>\n",
       "      <td>1248.0</td>\n",
       "      <td>73.9</td>\n",
       "      <td>2000</td>\n",
       "      <td>5.0</td>\n",
       "    </tr>\n",
       "    <tr>\n",
       "      <th>8126</th>\n",
       "      <td>Tata Indigo CR4</td>\n",
       "      <td>2013</td>\n",
       "      <td>290000</td>\n",
       "      <td>25000</td>\n",
       "      <td>Diesel</td>\n",
       "      <td>Individual</td>\n",
       "      <td>Manual</td>\n",
       "      <td>First Owner</td>\n",
       "      <td>23.57</td>\n",
       "      <td>1396.0</td>\n",
       "      <td>70</td>\n",
       "      <td>3000</td>\n",
       "      <td>5.0</td>\n",
       "    </tr>\n",
       "    <tr>\n",
       "      <th>8127</th>\n",
       "      <td>Tata Indigo CR4</td>\n",
       "      <td>2013</td>\n",
       "      <td>290000</td>\n",
       "      <td>25000</td>\n",
       "      <td>Diesel</td>\n",
       "      <td>Individual</td>\n",
       "      <td>Manual</td>\n",
       "      <td>First Owner</td>\n",
       "      <td>23.57</td>\n",
       "      <td>1396.0</td>\n",
       "      <td>70</td>\n",
       "      <td>3000</td>\n",
       "      <td>5.0</td>\n",
       "    </tr>\n",
       "  </tbody>\n",
       "</table>\n",
       "</div>"
      ],
      "text/plain": [
       "                        name  year  selling_price  km_driven    fuel  \\\n",
       "8123       Hyundai i20 Magna  2013         320000     110000  Petrol   \n",
       "8124   Hyundai Verna CRDi SX  2007         135000     119000  Diesel   \n",
       "8125  Maruti Swift Dzire ZDi  2009         382000     120000  Diesel   \n",
       "8126         Tata Indigo CR4  2013         290000      25000  Diesel   \n",
       "8127         Tata Indigo CR4  2013         290000      25000  Diesel   \n",
       "\n",
       "     seller_type transmission                 owner  mileage  engine  \\\n",
       "8123  Individual       Manual           First Owner    18.50  1197.0   \n",
       "8124  Individual       Manual  Fourth & Above Owner    16.80  1493.0   \n",
       "8125  Individual       Manual           First Owner    19.30  1248.0   \n",
       "8126  Individual       Manual           First Owner    23.57  1396.0   \n",
       "8127  Individual       Manual           First Owner    23.57  1396.0   \n",
       "\n",
       "     max_power torque  seats  \n",
       "8123     82.85   4000    5.0  \n",
       "8124       110   2750    5.0  \n",
       "8125      73.9   2000    5.0  \n",
       "8126        70   3000    5.0  \n",
       "8127        70   3000    5.0  "
      ]
     },
     "execution_count": 96,
     "metadata": {},
     "output_type": "execute_result"
    }
   ],
   "source": [
    "#Tail\n",
    "cardata.tail(5)"
   ]
  },
  {
   "cell_type": "code",
   "execution_count": 97,
   "id": "ac10e70a",
   "metadata": {},
   "outputs": [
    {
     "name": "stdout",
     "output_type": "stream",
     "text": [
      "<class 'pandas.core.frame.DataFrame'>\n",
      "RangeIndex: 8128 entries, 0 to 8127\n",
      "Data columns (total 13 columns):\n",
      " #   Column         Non-Null Count  Dtype  \n",
      "---  ------         --------------  -----  \n",
      " 0   name           8128 non-null   object \n",
      " 1   year           8128 non-null   int64  \n",
      " 2   selling_price  8128 non-null   int64  \n",
      " 3   km_driven      8128 non-null   int64  \n",
      " 4   fuel           8128 non-null   object \n",
      " 5   seller_type    8128 non-null   object \n",
      " 6   transmission   8128 non-null   object \n",
      " 7   owner          8128 non-null   object \n",
      " 8   mileage        7907 non-null   float64\n",
      " 9   engine         7907 non-null   float64\n",
      " 10  max_power      7913 non-null   object \n",
      " 11  torque         7640 non-null   object \n",
      " 12  seats          7907 non-null   float64\n",
      "dtypes: float64(3), int64(3), object(7)\n",
      "memory usage: 825.6+ KB\n"
     ]
    }
   ],
   "source": [
    "# Info\n",
    "cardata.info()"
   ]
  },
  {
   "cell_type": "code",
   "execution_count": 98,
   "id": "65b84c1e",
   "metadata": {},
   "outputs": [
    {
     "data": {
      "text/plain": [
       "Index(['name', 'year', 'selling_price', 'km_driven', 'fuel', 'seller_type',\n",
       "       'transmission', 'owner', 'mileage', 'engine', 'max_power', 'torque',\n",
       "       'seats'],\n",
       "      dtype='object')"
      ]
     },
     "execution_count": 98,
     "metadata": {},
     "output_type": "execute_result"
    }
   ],
   "source": [
    "# Columns\n",
    "cardata.columns"
   ]
  },
  {
   "cell_type": "code",
   "execution_count": 99,
   "id": "4b40de19",
   "metadata": {},
   "outputs": [
    {
     "data": {
      "text/html": [
       "<div>\n",
       "<style scoped>\n",
       "    .dataframe tbody tr th:only-of-type {\n",
       "        vertical-align: middle;\n",
       "    }\n",
       "\n",
       "    .dataframe tbody tr th {\n",
       "        vertical-align: top;\n",
       "    }\n",
       "\n",
       "    .dataframe thead th {\n",
       "        text-align: right;\n",
       "    }\n",
       "</style>\n",
       "<table border=\"1\" class=\"dataframe\">\n",
       "  <thead>\n",
       "    <tr style=\"text-align: right;\">\n",
       "      <th></th>\n",
       "      <th>year</th>\n",
       "      <th>selling_price</th>\n",
       "      <th>km_driven</th>\n",
       "      <th>mileage</th>\n",
       "      <th>engine</th>\n",
       "      <th>seats</th>\n",
       "    </tr>\n",
       "  </thead>\n",
       "  <tbody>\n",
       "    <tr>\n",
       "      <th>count</th>\n",
       "      <td>8128.000000</td>\n",
       "      <td>8.128000e+03</td>\n",
       "      <td>8.128000e+03</td>\n",
       "      <td>7907.000000</td>\n",
       "      <td>7907.000000</td>\n",
       "      <td>7907.000000</td>\n",
       "    </tr>\n",
       "    <tr>\n",
       "      <th>mean</th>\n",
       "      <td>2013.804011</td>\n",
       "      <td>6.382718e+05</td>\n",
       "      <td>6.981951e+04</td>\n",
       "      <td>19.418783</td>\n",
       "      <td>1458.625016</td>\n",
       "      <td>5.416719</td>\n",
       "    </tr>\n",
       "    <tr>\n",
       "      <th>std</th>\n",
       "      <td>4.044249</td>\n",
       "      <td>8.062534e+05</td>\n",
       "      <td>5.655055e+04</td>\n",
       "      <td>4.037145</td>\n",
       "      <td>503.916303</td>\n",
       "      <td>0.959588</td>\n",
       "    </tr>\n",
       "    <tr>\n",
       "      <th>min</th>\n",
       "      <td>1983.000000</td>\n",
       "      <td>2.999900e+04</td>\n",
       "      <td>1.000000e+00</td>\n",
       "      <td>0.000000</td>\n",
       "      <td>624.000000</td>\n",
       "      <td>2.000000</td>\n",
       "    </tr>\n",
       "    <tr>\n",
       "      <th>25%</th>\n",
       "      <td>2011.000000</td>\n",
       "      <td>2.549990e+05</td>\n",
       "      <td>3.500000e+04</td>\n",
       "      <td>16.780000</td>\n",
       "      <td>1197.000000</td>\n",
       "      <td>5.000000</td>\n",
       "    </tr>\n",
       "    <tr>\n",
       "      <th>50%</th>\n",
       "      <td>2015.000000</td>\n",
       "      <td>4.500000e+05</td>\n",
       "      <td>6.000000e+04</td>\n",
       "      <td>19.300000</td>\n",
       "      <td>1248.000000</td>\n",
       "      <td>5.000000</td>\n",
       "    </tr>\n",
       "    <tr>\n",
       "      <th>75%</th>\n",
       "      <td>2017.000000</td>\n",
       "      <td>6.750000e+05</td>\n",
       "      <td>9.800000e+04</td>\n",
       "      <td>22.320000</td>\n",
       "      <td>1582.000000</td>\n",
       "      <td>5.000000</td>\n",
       "    </tr>\n",
       "    <tr>\n",
       "      <th>max</th>\n",
       "      <td>2020.000000</td>\n",
       "      <td>1.000000e+07</td>\n",
       "      <td>2.360457e+06</td>\n",
       "      <td>42.000000</td>\n",
       "      <td>3604.000000</td>\n",
       "      <td>14.000000</td>\n",
       "    </tr>\n",
       "  </tbody>\n",
       "</table>\n",
       "</div>"
      ],
      "text/plain": [
       "              year  selling_price     km_driven      mileage       engine  \\\n",
       "count  8128.000000   8.128000e+03  8.128000e+03  7907.000000  7907.000000   \n",
       "mean   2013.804011   6.382718e+05  6.981951e+04    19.418783  1458.625016   \n",
       "std       4.044249   8.062534e+05  5.655055e+04     4.037145   503.916303   \n",
       "min    1983.000000   2.999900e+04  1.000000e+00     0.000000   624.000000   \n",
       "25%    2011.000000   2.549990e+05  3.500000e+04    16.780000  1197.000000   \n",
       "50%    2015.000000   4.500000e+05  6.000000e+04    19.300000  1248.000000   \n",
       "75%    2017.000000   6.750000e+05  9.800000e+04    22.320000  1582.000000   \n",
       "max    2020.000000   1.000000e+07  2.360457e+06    42.000000  3604.000000   \n",
       "\n",
       "             seats  \n",
       "count  7907.000000  \n",
       "mean      5.416719  \n",
       "std       0.959588  \n",
       "min       2.000000  \n",
       "25%       5.000000  \n",
       "50%       5.000000  \n",
       "75%       5.000000  \n",
       "max      14.000000  "
      ]
     },
     "execution_count": 99,
     "metadata": {},
     "output_type": "execute_result"
    }
   ],
   "source": [
    "#Describe variables\n",
    "cardata.describe()"
   ]
  },
  {
   "cell_type": "code",
   "execution_count": 100,
   "id": "a850163b",
   "metadata": {},
   "outputs": [
    {
     "data": {
      "text/plain": [
       "count    7907.000000\n",
       "mean       19.418783\n",
       "std         4.037145\n",
       "min         0.000000\n",
       "25%        16.780000\n",
       "50%        19.300000\n",
       "75%        22.320000\n",
       "max        42.000000\n",
       "Name: mileage, dtype: float64"
      ]
     },
     "execution_count": 100,
     "metadata": {},
     "output_type": "execute_result"
    }
   ],
   "source": [
    "# Mileage variable\n",
    "cardata.mileage.describe()"
   ]
  },
  {
   "cell_type": "code",
   "execution_count": 101,
   "id": "2b79c719",
   "metadata": {},
   "outputs": [
    {
     "data": {
      "text/plain": [
       "count    8.128000e+03\n",
       "mean     6.382718e+05\n",
       "std      8.062534e+05\n",
       "min      2.999900e+04\n",
       "25%      2.549990e+05\n",
       "50%      4.500000e+05\n",
       "75%      6.750000e+05\n",
       "max      1.000000e+07\n",
       "Name: selling_price, dtype: float64"
      ]
     },
     "execution_count": 101,
     "metadata": {},
     "output_type": "execute_result"
    }
   ],
   "source": [
    "# Selling price variable\n",
    "cardata.selling_price.describe()"
   ]
  },
  {
   "cell_type": "code",
   "execution_count": 102,
   "id": "3128a0fa",
   "metadata": {},
   "outputs": [
    {
     "data": {
      "text/plain": [
       "5.0     6254\n",
       "7.0     1120\n",
       "8.0      236\n",
       "4.0      133\n",
       "9.0       80\n",
       "6.0       62\n",
       "10.0      19\n",
       "2.0        2\n",
       "14.0       1\n",
       "Name: seats, dtype: int64"
      ]
     },
     "execution_count": 102,
     "metadata": {},
     "output_type": "execute_result"
    }
   ],
   "source": [
    "cardata.seats.value_counts()"
   ]
  },
  {
   "cell_type": "code",
   "execution_count": 103,
   "id": "00106cd2",
   "metadata": {},
   "outputs": [
    {
     "data": {
      "text/plain": [
       "First Owner             5289\n",
       "Second Owner            2105\n",
       "Third Owner              555\n",
       "Fourth & Above Owner     174\n",
       "Test Drive Car             5\n",
       "Name: owner, dtype: int64"
      ]
     },
     "execution_count": 103,
     "metadata": {},
     "output_type": "execute_result"
    }
   ],
   "source": [
    "cardata.owner.value_counts()"
   ]
  },
  {
   "cell_type": "code",
   "execution_count": 104,
   "id": "af21d9ad",
   "metadata": {},
   "outputs": [
    {
     "data": {
      "text/plain": [
       "Individual          6766\n",
       "Dealer              1126\n",
       "Trustmark Dealer     236\n",
       "Name: seller_type, dtype: int64"
      ]
     },
     "execution_count": 104,
     "metadata": {},
     "output_type": "execute_result"
    }
   ],
   "source": [
    "cardata.seller_type.value_counts()"
   ]
  },
  {
   "cell_type": "code",
   "execution_count": 105,
   "id": "e96cff45",
   "metadata": {},
   "outputs": [
    {
     "data": {
      "text/html": [
       "<div>\n",
       "<style scoped>\n",
       "    .dataframe tbody tr th:only-of-type {\n",
       "        vertical-align: middle;\n",
       "    }\n",
       "\n",
       "    .dataframe tbody tr th {\n",
       "        vertical-align: top;\n",
       "    }\n",
       "\n",
       "    .dataframe thead th {\n",
       "        text-align: right;\n",
       "    }\n",
       "</style>\n",
       "<table border=\"1\" class=\"dataframe\">\n",
       "  <thead>\n",
       "    <tr style=\"text-align: right;\">\n",
       "      <th>seller_type</th>\n",
       "      <th>Dealer</th>\n",
       "      <th>Individual</th>\n",
       "      <th>Trustmark Dealer</th>\n",
       "    </tr>\n",
       "    <tr>\n",
       "      <th>owner</th>\n",
       "      <th></th>\n",
       "      <th></th>\n",
       "      <th></th>\n",
       "    </tr>\n",
       "  </thead>\n",
       "  <tbody>\n",
       "    <tr>\n",
       "      <th>First Owner</th>\n",
       "      <td>1018</td>\n",
       "      <td>4068</td>\n",
       "      <td>203</td>\n",
       "    </tr>\n",
       "    <tr>\n",
       "      <th>Fourth &amp; Above Owner</th>\n",
       "      <td>0</td>\n",
       "      <td>174</td>\n",
       "      <td>0</td>\n",
       "    </tr>\n",
       "    <tr>\n",
       "      <th>Second Owner</th>\n",
       "      <td>99</td>\n",
       "      <td>1973</td>\n",
       "      <td>33</td>\n",
       "    </tr>\n",
       "    <tr>\n",
       "      <th>Test Drive Car</th>\n",
       "      <td>5</td>\n",
       "      <td>0</td>\n",
       "      <td>0</td>\n",
       "    </tr>\n",
       "    <tr>\n",
       "      <th>Third Owner</th>\n",
       "      <td>4</td>\n",
       "      <td>551</td>\n",
       "      <td>0</td>\n",
       "    </tr>\n",
       "  </tbody>\n",
       "</table>\n",
       "</div>"
      ],
      "text/plain": [
       "seller_type           Dealer  Individual  Trustmark Dealer\n",
       "owner                                                     \n",
       "First Owner             1018        4068               203\n",
       "Fourth & Above Owner       0         174                 0\n",
       "Second Owner              99        1973                33\n",
       "Test Drive Car             5           0                 0\n",
       "Third Owner                4         551                 0"
      ]
     },
     "execution_count": 105,
     "metadata": {},
     "output_type": "execute_result"
    }
   ],
   "source": [
    "# Cross tabulation\n",
    "pd.crosstab(cardata.owner,cardata.seller_type)"
   ]
  },
  {
   "cell_type": "code",
   "execution_count": 106,
   "id": "fef85cb8",
   "metadata": {},
   "outputs": [
    {
     "data": {
      "text/html": [
       "<div>\n",
       "<style scoped>\n",
       "    .dataframe tbody tr th:only-of-type {\n",
       "        vertical-align: middle;\n",
       "    }\n",
       "\n",
       "    .dataframe tbody tr th {\n",
       "        vertical-align: top;\n",
       "    }\n",
       "\n",
       "    .dataframe thead th {\n",
       "        text-align: right;\n",
       "    }\n",
       "</style>\n",
       "<table border=\"1\" class=\"dataframe\">\n",
       "  <thead>\n",
       "    <tr style=\"text-align: right;\">\n",
       "      <th>seller_type</th>\n",
       "      <th>Dealer</th>\n",
       "      <th>Individual</th>\n",
       "      <th>Trustmark Dealer</th>\n",
       "    </tr>\n",
       "    <tr>\n",
       "      <th>fuel</th>\n",
       "      <th></th>\n",
       "      <th></th>\n",
       "      <th></th>\n",
       "    </tr>\n",
       "  </thead>\n",
       "  <tbody>\n",
       "    <tr>\n",
       "      <th>CNG</th>\n",
       "      <td>0</td>\n",
       "      <td>57</td>\n",
       "      <td>0</td>\n",
       "    </tr>\n",
       "    <tr>\n",
       "      <th>Diesel</th>\n",
       "      <td>704</td>\n",
       "      <td>3664</td>\n",
       "      <td>34</td>\n",
       "    </tr>\n",
       "    <tr>\n",
       "      <th>LPG</th>\n",
       "      <td>2</td>\n",
       "      <td>36</td>\n",
       "      <td>0</td>\n",
       "    </tr>\n",
       "    <tr>\n",
       "      <th>Petrol</th>\n",
       "      <td>420</td>\n",
       "      <td>3009</td>\n",
       "      <td>202</td>\n",
       "    </tr>\n",
       "  </tbody>\n",
       "</table>\n",
       "</div>"
      ],
      "text/plain": [
       "seller_type  Dealer  Individual  Trustmark Dealer\n",
       "fuel                                             \n",
       "CNG               0          57                 0\n",
       "Diesel          704        3664                34\n",
       "LPG               2          36                 0\n",
       "Petrol          420        3009               202"
      ]
     },
     "execution_count": 106,
     "metadata": {},
     "output_type": "execute_result"
    }
   ],
   "source": [
    "pd.crosstab(cardata.fuel,cardata.seller_type)"
   ]
  },
  {
   "cell_type": "code",
   "execution_count": 107,
   "id": "28fa5405",
   "metadata": {},
   "outputs": [
    {
     "data": {
      "text/plain": [
       "<AxesSubplot: ylabel='Frequency'>"
      ]
     },
     "execution_count": 107,
     "metadata": {},
     "output_type": "execute_result"
    },
    {
     "data": {
      "image/png": "[encoded data removed]",
      "text/plain": [
       "<Figure size 640x480 with 1 Axes>"
      ]
     },
     "metadata": {},
     "output_type": "display_data"
    }
   ],
   "source": [
    "cardata.selling_price.plot(kind='hist')"
   ]
  },
  {
   "cell_type": "code",
   "execution_count": 108,
   "id": "6dc0ddb8",
   "metadata": {},
   "outputs": [
    {
     "data": {
      "text/plain": [
       "<AxesSubplot: >"
      ]
     },
     "execution_count": 108,
     "metadata": {},
     "output_type": "execute_result"
    },
    {
     "data": {
      "image/png": "[encoded data removed]",
      "text/plain": [
       "<Figure size 640x480 with 1 Axes>"
      ]
     },
     "metadata": {},
     "output_type": "display_data"
    }
   ],
   "source": [
    "cardata.selling_price.plot(kind='box',vert=False)"
   ]
  },
  {
   "cell_type": "code",
   "execution_count": 109,
   "id": "ba805042",
   "metadata": {},
   "outputs": [
    {
     "data": {
      "text/plain": [
       "<AxesSubplot: ylabel='Density'>"
      ]
     },
     "execution_count": 109,
     "metadata": {},
     "output_type": "execute_result"
    },
    {
     "data": {
      "image/png": "[encoded data removed]",
      "text/plain": [
       "<Figure size 640x480 with 1 Axes>"
      ]
     },
     "metadata": {},
     "output_type": "display_data"
    }
   ],
   "source": [
    "cardata.selling_price.plot(kind='density')"
   ]
  },
  {
   "cell_type": "code",
   "execution_count": 110,
   "id": "476c93e9",
   "metadata": {},
   "outputs": [
    {
     "data": {
      "text/plain": [
       "<AxesSubplot: ylabel='Frequency'>"
      ]
     },
     "execution_count": 110,
     "metadata": {},
     "output_type": "execute_result"
    },
    {
     "data": {
      "image/png": "[encoded data removed]",
      "text/plain": [
       "<Figure size 640x480 with 1 Axes>"
      ]
     },
     "metadata": {},
     "output_type": "display_data"
    }
   ],
   "source": [
    "cardata.mileage.plot(kind='hist')"
   ]
  },
  {
   "cell_type": "code",
   "execution_count": 111,
   "id": "61662401",
   "metadata": {},
   "outputs": [
    {
     "data": {
      "text/plain": [
       "<AxesSubplot: >"
      ]
     },
     "execution_count": 111,
     "metadata": {},
     "output_type": "execute_result"
    },
    {
     "data": {
      "image/png": "[encoded data removed]",
      "text/plain": [
       "<Figure size 640x480 with 1 Axes>"
      ]
     },
     "metadata": {},
     "output_type": "display_data"
    }
   ],
   "source": [
    "cardata.mileage.plot(kind='box',vert=False)"
   ]
  },
  {
   "cell_type": "code",
   "execution_count": 112,
   "id": "45009ea4",
   "metadata": {},
   "outputs": [
    {
     "data": {
      "text/plain": [
       "<AxesSubplot: ylabel='Density'>"
      ]
     },
     "execution_count": 112,
     "metadata": {},
     "output_type": "execute_result"
    },
    {
     "data": {
      "image/png": "[encoded data removed]",
      "text/plain": [
       "<Figure size 640x480 with 1 Axes>"
      ]
     },
     "metadata": {},
     "output_type": "display_data"
    }
   ],
   "source": [
    "cardata.mileage.plot(kind='density')"
   ]
  },
  {
   "cell_type": "code",
   "execution_count": 113,
   "id": "b24e7b64",
   "metadata": {},
   "outputs": [
    {
     "data": {
      "text/html": [
       "<div>\n",
       "<style scoped>\n",
       "    .dataframe tbody tr th:only-of-type {\n",
       "        vertical-align: middle;\n",
       "    }\n",
       "\n",
       "    .dataframe tbody tr th {\n",
       "        vertical-align: top;\n",
       "    }\n",
       "\n",
       "    .dataframe thead th {\n",
       "        text-align: right;\n",
       "    }\n",
       "</style>\n",
       "<table border=\"1\" class=\"dataframe\">\n",
       "  <thead>\n",
       "    <tr style=\"text-align: right;\">\n",
       "      <th></th>\n",
       "      <th>selling_price</th>\n",
       "      <th>mileage</th>\n",
       "    </tr>\n",
       "  </thead>\n",
       "  <tbody>\n",
       "    <tr>\n",
       "      <th>selling_price</th>\n",
       "      <td>6.500446e+11</td>\n",
       "      <td>-414015.974545</td>\n",
       "    </tr>\n",
       "    <tr>\n",
       "      <th>mileage</th>\n",
       "      <td>-4.140160e+05</td>\n",
       "      <td>16.298540</td>\n",
       "    </tr>\n",
       "  </tbody>\n",
       "</table>\n",
       "</div>"
      ],
      "text/plain": [
       "               selling_price        mileage\n",
       "selling_price   6.500446e+11 -414015.974545\n",
       "mileage        -4.140160e+05      16.298540"
      ]
     },
     "execution_count": 113,
     "metadata": {},
     "output_type": "execute_result"
    }
   ],
   "source": [
    "#covariance of selling_price , mileage\n",
    "cardata[['selling_price','mileage']].cov()"
   ]
  },
  {
   "cell_type": "code",
   "execution_count": 114,
   "id": "09451f3b",
   "metadata": {},
   "outputs": [
    {
     "data": {
      "text/html": [
       "<div>\n",
       "<style scoped>\n",
       "    .dataframe tbody tr th:only-of-type {\n",
       "        vertical-align: middle;\n",
       "    }\n",
       "\n",
       "    .dataframe tbody tr th {\n",
       "        vertical-align: top;\n",
       "    }\n",
       "\n",
       "    .dataframe thead th {\n",
       "        text-align: right;\n",
       "    }\n",
       "</style>\n",
       "<table border=\"1\" class=\"dataframe\">\n",
       "  <thead>\n",
       "    <tr style=\"text-align: right;\">\n",
       "      <th></th>\n",
       "      <th>selling_price</th>\n",
       "      <th>mileage</th>\n",
       "    </tr>\n",
       "  </thead>\n",
       "  <tbody>\n",
       "    <tr>\n",
       "      <th>selling_price</th>\n",
       "      <td>1.000000</td>\n",
       "      <td>-0.126054</td>\n",
       "    </tr>\n",
       "    <tr>\n",
       "      <th>mileage</th>\n",
       "      <td>-0.126054</td>\n",
       "      <td>1.000000</td>\n",
       "    </tr>\n",
       "  </tbody>\n",
       "</table>\n",
       "</div>"
      ],
      "text/plain": [
       "               selling_price   mileage\n",
       "selling_price       1.000000 -0.126054\n",
       "mileage            -0.126054  1.000000"
      ]
     },
     "execution_count": 114,
     "metadata": {},
     "output_type": "execute_result"
    }
   ],
   "source": [
    "#correlation of selling_price , mileage\n",
    "cardata[['selling_price','mileage']].corr()"
   ]
  },
  {
   "cell_type": "code",
   "execution_count": 115,
   "id": "f2f69619",
   "metadata": {},
   "outputs": [
    {
     "name": "stderr",
     "output_type": "stream",
     "text": [
      "C:\\Users\\Neha singh\\anaconda3\\lib\\site-packages\\pandas\\plotting\\_matplotlib\\core.py:1114: UserWarning: No data for colormapping provided via 'c'. Parameters 'cmap' will be ignored\n",
      "  scatter = ax.scatter(\n"
     ]
    },
    {
     "data": {
      "text/plain": [
       "<AxesSubplot: xlabel='selling_price', ylabel='mileage'>"
      ]
     },
     "execution_count": 115,
     "metadata": {},
     "output_type": "execute_result"
    },
    {
     "data": {
      "image/png": "[encoded data removed]",
      "text/plain": [
       "<Figure size 640x480 with 1 Axes>"
      ]
     },
     "metadata": {},
     "output_type": "display_data"
    }
   ],
   "source": [
    "#Scatter plot of selling_price , mileage\n",
    "cardata.plot(x='selling_price',y='mileage',kind='scatter')"
   ]
  },
  {
   "cell_type": "code",
   "execution_count": 116,
   "id": "8ddcdced",
   "metadata": {},
   "outputs": [
    {
     "data": {
      "text/plain": [
       "transmission\n",
       "Automatic    1.870828e+06\n",
       "Manual       4.554259e+05\n",
       "Name: selling_price, dtype: float64"
      ]
     },
     "execution_count": 116,
     "metadata": {},
     "output_type": "execute_result"
    }
   ],
   "source": [
    "cardata.selling_price.groupby(cardata.transmission).mean()"
   ]
  },
  {
   "cell_type": "code",
   "execution_count": 117,
   "id": "f6af5bcf",
   "metadata": {},
   "outputs": [
    {
     "data": {
      "text/plain": [
       "transmission\n",
       "Automatic    2.691349e+12\n",
       "Manual       8.872370e+10\n",
       "Name: selling_price, dtype: float64"
      ]
     },
     "execution_count": 117,
     "metadata": {},
     "output_type": "execute_result"
    }
   ],
   "source": [
    "cardata.selling_price.groupby(cardata.transmission).var()"
   ]
  },
  {
   "cell_type": "code",
   "execution_count": 118,
   "id": "18b78313",
   "metadata": {},
   "outputs": [
    {
     "data": {
      "text/plain": [
       "transmission\n",
       "Automatic    17.564765\n",
       "Manual       19.699883\n",
       "Name: mileage, dtype: float64"
      ]
     },
     "execution_count": 118,
     "metadata": {},
     "output_type": "execute_result"
    }
   ],
   "source": [
    "cardata.mileage.groupby(cardata.transmission).mean()"
   ]
  },
  {
   "cell_type": "code",
   "execution_count": 119,
   "id": "37bb4221",
   "metadata": {},
   "outputs": [
    {
     "data": {
      "text/plain": [
       "transmission\n",
       "Automatic    15.883919\n",
       "Manual       15.763457\n",
       "Name: mileage, dtype: float64"
      ]
     },
     "execution_count": 119,
     "metadata": {},
     "output_type": "execute_result"
    }
   ],
   "source": [
    "cardata.mileage.groupby(cardata.transmission).var()"
   ]
  },
  {
   "cell_type": "code",
   "execution_count": 120,
   "id": "1ab07442",
   "metadata": {},
   "outputs": [
    {
     "data": {
      "text/plain": [
       "fuel\n",
       "CNG       301017.491228\n",
       "Diesel    791452.921627\n",
       "LPG       200421.052632\n",
       "Petrol    462441.061691\n",
       "Name: selling_price, dtype: float64"
      ]
     },
     "execution_count": 120,
     "metadata": {},
     "output_type": "execute_result"
    }
   ],
   "source": [
    "cardata.selling_price.groupby(cardata.fuel).mean()"
   ]
  },
  {
   "cell_type": "code",
   "execution_count": 121,
   "id": "8d8b7d35",
   "metadata": {},
   "outputs": [
    {
     "data": {
      "text/plain": [
       "fuel\n",
       "CNG       1.245061e+10\n",
       "Diesel    8.260897e+11\n",
       "LPG       7.211656e+09\n",
       "Petrol    3.903611e+11\n",
       "Name: selling_price, dtype: float64"
      ]
     },
     "execution_count": 121,
     "metadata": {},
     "output_type": "execute_result"
    }
   ],
   "source": [
    "cardata.selling_price.groupby(cardata.fuel).var()"
   ]
  },
  {
   "cell_type": "code",
   "execution_count": 122,
   "id": "f568cdec",
   "metadata": {},
   "outputs": [],
   "source": [
    "#split data\n",
    "transmission0=cardata[cardata.transmission==\"Automatic\"]\n",
    "transmission1=cardata[cardata.transmission==\"Manual\"]"
   ]
  },
  {
   "cell_type": "code",
   "execution_count": 123,
   "id": "8a2a0829",
   "metadata": {},
   "outputs": [
    {
     "name": "stdout",
     "output_type": "stream",
     "text": [
      "(1050, 13)\n",
      "(7078, 13)\n"
     ]
    }
   ],
   "source": [
    "print (transmission0.shape)\n",
    "print (transmission1.shape)"
   ]
  },
  {
   "cell_type": "code",
   "execution_count": 124,
   "id": "2aa6f65f",
   "metadata": {},
   "outputs": [],
   "source": [
    "from scipy.stats import ttest_ind"
   ]
  },
  {
   "cell_type": "code",
   "execution_count": 125,
   "id": "17fac250",
   "metadata": {},
   "outputs": [
    {
     "data": {
      "text/plain": [
       "Ttest_indResult(statistic=27.888813193478946, pvalue=8.531946079710315e-129)"
      ]
     },
     "execution_count": 125,
     "metadata": {},
     "output_type": "execute_result"
    }
   ],
   "source": [
    "ttest_ind(transmission0.selling_price,transmission1.selling_price,equal_var=False)"
   ]
  },
  {
   "cell_type": "code",
   "execution_count": 126,
   "id": "c46fd10a",
   "metadata": {},
   "outputs": [
    {
     "data": {
      "text/plain": [
       "0.0"
      ]
     },
     "execution_count": 126,
     "metadata": {},
     "output_type": "execute_result"
    }
   ],
   "source": [
    "np.round(8.531946079710315e-129)\n",
    "# since p-value=8.531 is less than 0.05 , reject null"
   ]
  },
  {
   "cell_type": "code",
   "execution_count": 127,
   "id": "ec623df2",
   "metadata": {},
   "outputs": [
    {
     "data": {
      "text/html": [
       "<div>\n",
       "<style scoped>\n",
       "    .dataframe tbody tr th:only-of-type {\n",
       "        vertical-align: middle;\n",
       "    }\n",
       "\n",
       "    .dataframe tbody tr th {\n",
       "        vertical-align: top;\n",
       "    }\n",
       "\n",
       "    .dataframe thead th {\n",
       "        text-align: right;\n",
       "    }\n",
       "</style>\n",
       "<table border=\"1\" class=\"dataframe\">\n",
       "  <thead>\n",
       "    <tr style=\"text-align: right;\">\n",
       "      <th>seller_type</th>\n",
       "      <th>Dealer</th>\n",
       "      <th>Individual</th>\n",
       "      <th>Trustmark Dealer</th>\n",
       "    </tr>\n",
       "    <tr>\n",
       "      <th>fuel</th>\n",
       "      <th></th>\n",
       "      <th></th>\n",
       "      <th></th>\n",
       "    </tr>\n",
       "  </thead>\n",
       "  <tbody>\n",
       "    <tr>\n",
       "      <th>CNG</th>\n",
       "      <td>0</td>\n",
       "      <td>57</td>\n",
       "      <td>0</td>\n",
       "    </tr>\n",
       "    <tr>\n",
       "      <th>Diesel</th>\n",
       "      <td>704</td>\n",
       "      <td>3664</td>\n",
       "      <td>34</td>\n",
       "    </tr>\n",
       "    <tr>\n",
       "      <th>LPG</th>\n",
       "      <td>2</td>\n",
       "      <td>36</td>\n",
       "      <td>0</td>\n",
       "    </tr>\n",
       "    <tr>\n",
       "      <th>Petrol</th>\n",
       "      <td>420</td>\n",
       "      <td>3009</td>\n",
       "      <td>202</td>\n",
       "    </tr>\n",
       "  </tbody>\n",
       "</table>\n",
       "</div>"
      ],
      "text/plain": [
       "seller_type  Dealer  Individual  Trustmark Dealer\n",
       "fuel                                             \n",
       "CNG               0          57                 0\n",
       "Diesel          704        3664                34\n",
       "LPG               2          36                 0\n",
       "Petrol          420        3009               202"
      ]
     },
     "execution_count": 127,
     "metadata": {},
     "output_type": "execute_result"
    }
   ],
   "source": [
    "# Test Null No Associatio between fuel and seller_type\n",
    "pd.crosstab(cardata.fuel,cardata.seller_type)"
   ]
  },
  {
   "cell_type": "code",
   "execution_count": 128,
   "id": "3519cc86",
   "metadata": {},
   "outputs": [],
   "source": [
    "# split data\n",
    "fuel0=cardata[cardata.fuel=='CNG']\n",
    "fuel1=cardata[cardata.fuel=='Diesel']\n",
    "fuel2=cardata[cardata.fuel=='LPG']\n",
    "fuel3=cardata[cardata.fuel=='Petrol']"
   ]
  },
  {
   "cell_type": "code",
   "execution_count": 129,
   "id": "eff47ed0",
   "metadata": {},
   "outputs": [
    {
     "name": "stdout",
     "output_type": "stream",
     "text": [
      "(57, 13)\n",
      "(4402, 13)\n",
      "(38, 13)\n",
      "(3631, 13)\n"
     ]
    }
   ],
   "source": [
    "print (fuel0.shape)\n",
    "print (fuel1.shape)\n",
    "print (fuel2.shape)\n",
    "print (fuel3.shape)"
   ]
  },
  {
   "cell_type": "code",
   "execution_count": 130,
   "id": "1d8f5a42",
   "metadata": {},
   "outputs": [],
   "source": [
    "from scipy.stats import f_oneway"
   ]
  },
  {
   "cell_type": "code",
   "execution_count": 131,
   "id": "67d172dc",
   "metadata": {},
   "outputs": [
    {
     "data": {
      "text/plain": [
       "F_onewayResult(statistic=122.88062883888716, pvalue=7.768067697277526e-78)"
      ]
     },
     "execution_count": 131,
     "metadata": {},
     "output_type": "execute_result"
    }
   ],
   "source": [
    "f_oneway(fuel0.selling_price,fuel1.selling_price,fuel2.selling_price,fuel3.selling_price)"
   ]
  },
  {
   "cell_type": "code",
   "execution_count": 132,
   "id": "48590c84",
   "metadata": {},
   "outputs": [
    {
     "data": {
      "text/plain": [
       "fuel\n",
       "CNG       24.165660\n",
       "Diesel    19.642624\n",
       "LPG       18.577143\n",
       "Petrol    19.082301\n",
       "Name: mileage, dtype: float64"
      ]
     },
     "execution_count": 132,
     "metadata": {},
     "output_type": "execute_result"
    }
   ],
   "source": [
    "cardata.mileage.groupby(cardata.fuel).mean()"
   ]
  },
  {
   "cell_type": "code",
   "execution_count": 133,
   "id": "70de0e36",
   "metadata": {},
   "outputs": [
    {
     "data": {
      "text/plain": [
       "F_onewayResult(statistic=nan, pvalue=nan)"
      ]
     },
     "execution_count": 133,
     "metadata": {},
     "output_type": "execute_result"
    }
   ],
   "source": [
    "f_oneway(fuel0.mileage,fuel1.mileage,fuel2.mileage,fuel3.mileage)"
   ]
  },
  {
   "cell_type": "code",
   "execution_count": 134,
   "id": "11c2617b",
   "metadata": {},
   "outputs": [
    {
     "data": {
      "text/html": [
       "<div>\n",
       "<style scoped>\n",
       "    .dataframe tbody tr th:only-of-type {\n",
       "        vertical-align: middle;\n",
       "    }\n",
       "\n",
       "    .dataframe tbody tr th {\n",
       "        vertical-align: top;\n",
       "    }\n",
       "\n",
       "    .dataframe thead th {\n",
       "        text-align: right;\n",
       "    }\n",
       "</style>\n",
       "<table border=\"1\" class=\"dataframe\">\n",
       "  <thead>\n",
       "    <tr style=\"text-align: right;\">\n",
       "      <th>seller_type</th>\n",
       "      <th>Dealer</th>\n",
       "      <th>Individual</th>\n",
       "      <th>Trustmark Dealer</th>\n",
       "    </tr>\n",
       "    <tr>\n",
       "      <th>fuel</th>\n",
       "      <th></th>\n",
       "      <th></th>\n",
       "      <th></th>\n",
       "    </tr>\n",
       "  </thead>\n",
       "  <tbody>\n",
       "    <tr>\n",
       "      <th>CNG</th>\n",
       "      <td>0</td>\n",
       "      <td>57</td>\n",
       "      <td>0</td>\n",
       "    </tr>\n",
       "    <tr>\n",
       "      <th>Diesel</th>\n",
       "      <td>704</td>\n",
       "      <td>3664</td>\n",
       "      <td>34</td>\n",
       "    </tr>\n",
       "    <tr>\n",
       "      <th>LPG</th>\n",
       "      <td>2</td>\n",
       "      <td>36</td>\n",
       "      <td>0</td>\n",
       "    </tr>\n",
       "    <tr>\n",
       "      <th>Petrol</th>\n",
       "      <td>420</td>\n",
       "      <td>3009</td>\n",
       "      <td>202</td>\n",
       "    </tr>\n",
       "  </tbody>\n",
       "</table>\n",
       "</div>"
      ],
      "text/plain": [
       "seller_type  Dealer  Individual  Trustmark Dealer\n",
       "fuel                                             \n",
       "CNG               0          57                 0\n",
       "Diesel          704        3664                34\n",
       "LPG               2          36                 0\n",
       "Petrol          420        3009               202"
      ]
     },
     "execution_count": 134,
     "metadata": {},
     "output_type": "execute_result"
    }
   ],
   "source": [
    "# Test Null No Associatio between fuel and seller_type\n",
    "pd.crosstab(cardata.fuel,cardata.seller_type)"
   ]
  },
  {
   "cell_type": "code",
   "execution_count": 135,
   "id": "505c10bc",
   "metadata": {},
   "outputs": [],
   "source": [
    "from scipy.stats import chi2_contingency"
   ]
  },
  {
   "cell_type": "code",
   "execution_count": 136,
   "id": "9aa828be",
   "metadata": {},
   "outputs": [
    {
     "data": {
      "text/plain": [
       "(200.82868982394092,\n",
       " 1.2641980292155646e-40,\n",
       " 6,\n",
       " array([[7.89640748e+00, 4.74485728e+01, 1.65501969e+00],\n",
       "        [6.09824311e+02, 3.66436171e+03, 1.27813976e+02],\n",
       "        [5.26427165e+00, 3.16323819e+01, 1.10334646e+00],\n",
       "        [5.03015010e+02, 3.02255733e+03, 1.05427657e+02]]))"
      ]
     },
     "execution_count": 136,
     "metadata": {},
     "output_type": "execute_result"
    }
   ],
   "source": [
    "chi2_contingency(pd.crosstab(cardata.fuel,cardata.seller_type))\n",
    "#since p-value=1.2641980292155646e-40 is less than 0.05 , Reject Null"
   ]
  },
  {
   "cell_type": "code",
   "execution_count": 137,
   "id": "5efcd911",
   "metadata": {},
   "outputs": [
    {
     "data": {
      "text/html": [
       "<div>\n",
       "<style scoped>\n",
       "    .dataframe tbody tr th:only-of-type {\n",
       "        vertical-align: middle;\n",
       "    }\n",
       "\n",
       "    .dataframe tbody tr th {\n",
       "        vertical-align: top;\n",
       "    }\n",
       "\n",
       "    .dataframe thead th {\n",
       "        text-align: right;\n",
       "    }\n",
       "</style>\n",
       "<table border=\"1\" class=\"dataframe\">\n",
       "  <thead>\n",
       "    <tr style=\"text-align: right;\">\n",
       "      <th>seller_type</th>\n",
       "      <th>Dealer</th>\n",
       "      <th>Individual</th>\n",
       "      <th>Trustmark Dealer</th>\n",
       "    </tr>\n",
       "    <tr>\n",
       "      <th>owner</th>\n",
       "      <th></th>\n",
       "      <th></th>\n",
       "      <th></th>\n",
       "    </tr>\n",
       "  </thead>\n",
       "  <tbody>\n",
       "    <tr>\n",
       "      <th>First Owner</th>\n",
       "      <td>1018</td>\n",
       "      <td>4068</td>\n",
       "      <td>203</td>\n",
       "    </tr>\n",
       "    <tr>\n",
       "      <th>Fourth &amp; Above Owner</th>\n",
       "      <td>0</td>\n",
       "      <td>174</td>\n",
       "      <td>0</td>\n",
       "    </tr>\n",
       "    <tr>\n",
       "      <th>Second Owner</th>\n",
       "      <td>99</td>\n",
       "      <td>1973</td>\n",
       "      <td>33</td>\n",
       "    </tr>\n",
       "    <tr>\n",
       "      <th>Test Drive Car</th>\n",
       "      <td>5</td>\n",
       "      <td>0</td>\n",
       "      <td>0</td>\n",
       "    </tr>\n",
       "    <tr>\n",
       "      <th>Third Owner</th>\n",
       "      <td>4</td>\n",
       "      <td>551</td>\n",
       "      <td>0</td>\n",
       "    </tr>\n",
       "  </tbody>\n",
       "</table>\n",
       "</div>"
      ],
      "text/plain": [
       "seller_type           Dealer  Individual  Trustmark Dealer\n",
       "owner                                                     \n",
       "First Owner             1018        4068               203\n",
       "Fourth & Above Owner       0         174                 0\n",
       "Second Owner              99        1973                33\n",
       "Test Drive Car             5           0                 0\n",
       "Third Owner                4         551                 0"
      ]
     },
     "execution_count": 137,
     "metadata": {},
     "output_type": "execute_result"
    }
   ],
   "source": [
    "pd.crosstab(cardata.owner,cardata.seller_type)"
   ]
  },
  {
   "cell_type": "code",
   "execution_count": 138,
   "id": "b7e7911d",
   "metadata": {},
   "outputs": [
    {
     "data": {
      "text/plain": [
       "(488.8853591293214,\n",
       " 1.7045659526821565e-100,\n",
       " 8,\n",
       " array([[7.32703494e+02, 4.40272810e+03, 1.53568406e+02],\n",
       "        [2.41048228e+01, 1.44843012e+02, 5.05216535e+00],\n",
       "        [2.91612943e+02, 1.75226747e+03, 6.11195866e+01],\n",
       "        [6.92667323e-01, 4.16215551e+00, 1.45177165e-01],\n",
       "        [7.68860728e+01, 4.61999262e+02, 1.61146654e+01]]))"
      ]
     },
     "execution_count": 138,
     "metadata": {},
     "output_type": "execute_result"
    }
   ],
   "source": [
    "chi2_contingency(pd.crosstab(cardata.owner,cardata.seller_type))\n",
    "#since p-value=1.7045659526821565e-100 is less than 0.05 , Reject Null"
   ]
  },
  {
   "cell_type": "code",
   "execution_count": 139,
   "id": "46f7e6ec",
   "metadata": {},
   "outputs": [
    {
     "data": {
      "text/plain": [
       "torque           488\n",
       "mileage          221\n",
       "engine           221\n",
       "seats            221\n",
       "max_power        215\n",
       "name               0\n",
       "year               0\n",
       "selling_price      0\n",
       "km_driven          0\n",
       "fuel               0\n",
       "seller_type        0\n",
       "transmission       0\n",
       "owner              0\n",
       "dtype: int64"
      ]
     },
     "execution_count": 139,
     "metadata": {},
     "output_type": "execute_result"
    }
   ],
   "source": [
    "# Missing values treatment\n",
    "cardata.isnull().sum().sort_values(ascending=False)"
   ]
  },
  {
   "cell_type": "code",
   "execution_count": 140,
   "id": "15272666",
   "metadata": {},
   "outputs": [
    {
     "data": {
      "text/plain": [
       "4000     931\n",
       "2000     850\n",
       "3500     757\n",
       "3000     712\n",
       "2500     703\n",
       "1750     556\n",
       "NaN      488\n",
       "2750     453\n",
       "2800     401\n",
       "4200     306\n",
       "4500     258\n",
       "3400     182\n",
       "2200     168\n",
       "2250     138\n",
       "4800     136\n",
       "2700     105\n",
       "3600      85\n",
       "4250      80\n",
       "4386      77\n",
       "3250      74\n",
       "4600      70\n",
       "4400      69\n",
       "2400      63\n",
       "1900      50\n",
       "3800      49\n",
       "1800      44\n",
       "4300      40\n",
       "2600      34\n",
       "5200      34\n",
       "5000      33\n",
       "1500      31\n",
       "4100      28\n",
       "4850      28\n",
       "3200      23\n",
       "3750      23\n",
       "4700      11\n",
       "4750      10\n",
       "3100       6\n",
       "4,500      6\n",
       "1400       3\n",
       "3300       3\n",
       "2650       1\n",
       "500        1\n",
       "2680       1\n",
       "21800      1\n",
       "1600       1\n",
       "1850       1\n",
       "4388       1\n",
       "5300       1\n",
       "1740       1\n",
       "3700       1\n",
       "Name: torque, dtype: int64"
      ]
     },
     "execution_count": 140,
     "metadata": {},
     "output_type": "execute_result"
    }
   ],
   "source": [
    "cardata.torque.value_counts(dropna=False)"
   ]
  },
  {
   "cell_type": "code",
   "execution_count": 141,
   "id": "c576acd7",
   "metadata": {},
   "outputs": [],
   "source": [
    "cardata.torque=cardata.torque.fillna(cardata.torque.value_counts().idxmax())"
   ]
  },
  {
   "cell_type": "code",
   "execution_count": 142,
   "id": "dd81f8f1",
   "metadata": {},
   "outputs": [
    {
     "data": {
      "text/plain": [
       "18.90    225\n",
       "NaN      221\n",
       "19.70    173\n",
       "18.60    164\n",
       "21.10    158\n",
       "        ... \n",
       "17.42      1\n",
       "18.24      1\n",
       "10.71      1\n",
       "21.76      1\n",
       "16.51      1\n",
       "Name: mileage, Length: 382, dtype: int64"
      ]
     },
     "execution_count": 142,
     "metadata": {},
     "output_type": "execute_result"
    }
   ],
   "source": [
    "cardata.mileage.value_counts(dropna=False)"
   ]
  },
  {
   "cell_type": "code",
   "execution_count": 143,
   "id": "feb45797",
   "metadata": {},
   "outputs": [],
   "source": [
    "cardata.mileage=cardata.mileage.fillna(cardata.mileage.value_counts().idxmax())"
   ]
  },
  {
   "cell_type": "code",
   "execution_count": 144,
   "id": "9ffa46e0",
   "metadata": {},
   "outputs": [],
   "source": [
    "cardata.engine=cardata.engine.fillna(cardata.engine.value_counts().idxmax())"
   ]
  },
  {
   "cell_type": "code",
   "execution_count": 145,
   "id": "81e77205",
   "metadata": {},
   "outputs": [],
   "source": [
    "cardata.seats=cardata.seats.fillna(cardata.seats.value_counts().idxmax())"
   ]
  },
  {
   "cell_type": "code",
   "execution_count": 146,
   "id": "d556eec2",
   "metadata": {},
   "outputs": [],
   "source": [
    "cardata.max_power=cardata.max_power.fillna(cardata.max_power.value_counts().idxmax())"
   ]
  },
  {
   "cell_type": "code",
   "execution_count": 147,
   "id": "b121b63f",
   "metadata": {},
   "outputs": [
    {
     "name": "stdout",
     "output_type": "stream",
     "text": [
      "<class 'pandas.core.frame.DataFrame'>\n",
      "RangeIndex: 8128 entries, 0 to 8127\n",
      "Data columns (total 13 columns):\n",
      " #   Column         Non-Null Count  Dtype  \n",
      "---  ------         --------------  -----  \n",
      " 0   name           8128 non-null   object \n",
      " 1   year           8128 non-null   int64  \n",
      " 2   selling_price  8128 non-null   int64  \n",
      " 3   km_driven      8128 non-null   int64  \n",
      " 4   fuel           8128 non-null   object \n",
      " 5   seller_type    8128 non-null   object \n",
      " 6   transmission   8128 non-null   object \n",
      " 7   owner          8128 non-null   object \n",
      " 8   mileage        8128 non-null   float64\n",
      " 9   engine         8128 non-null   float64\n",
      " 10  max_power      8128 non-null   object \n",
      " 11  torque         8128 non-null   object \n",
      " 12  seats          8128 non-null   float64\n",
      "dtypes: float64(3), int64(3), object(7)\n",
      "memory usage: 825.6+ KB\n"
     ]
    }
   ],
   "source": [
    "cardata.info()"
   ]
  },
  {
   "cell_type": "code",
   "execution_count": 148,
   "id": "bdeb8545",
   "metadata": {},
   "outputs": [],
   "source": [
    "cardata['car_age']=2022-cardata.year"
   ]
  },
  {
   "cell_type": "code",
   "execution_count": 149,
   "id": "fd37c760",
   "metadata": {},
   "outputs": [
    {
     "data": {
      "text/plain": [
       "count    8128.000000\n",
       "mean        8.195989\n",
       "std         4.044249\n",
       "min         2.000000\n",
       "25%         5.000000\n",
       "50%         7.000000\n",
       "75%        11.000000\n",
       "max        39.000000\n",
       "Name: car_age, dtype: float64"
      ]
     },
     "execution_count": 149,
     "metadata": {},
     "output_type": "execute_result"
    }
   ],
   "source": [
    "cardata.car_age.describe()"
   ]
  },
  {
   "cell_type": "code",
   "execution_count": 150,
   "id": "bcfd6a99",
   "metadata": {},
   "outputs": [
    {
     "data": {
      "text/plain": [
       "5     1018\n",
       "6      859\n",
       "4      807\n",
       "7      776\n",
       "9      670\n",
       "10     651\n",
       "8      621\n",
       "11     592\n",
       "3      583\n",
       "12     394\n",
       "13     246\n",
       "14     214\n",
       "15     183\n",
       "16     124\n",
       "17      97\n",
       "2       74\n",
       "18      62\n",
       "19      49\n",
       "20      27\n",
       "22      22\n",
       "23      18\n",
       "25      11\n",
       "21      10\n",
       "24      10\n",
       "26       3\n",
       "28       3\n",
       "27       2\n",
       "39       1\n",
       "31       1\n",
       "Name: car_age, dtype: int64"
      ]
     },
     "execution_count": 150,
     "metadata": {},
     "output_type": "execute_result"
    }
   ],
   "source": [
    "cardata.car_age.value_counts()"
   ]
  },
  {
   "cell_type": "code",
   "execution_count": 151,
   "id": "237bc198",
   "metadata": {},
   "outputs": [],
   "source": [
    "cardata=cardata.drop(\"year\",axis=1)"
   ]
  },
  {
   "cell_type": "code",
   "execution_count": 152,
   "id": "7d3b092d",
   "metadata": {},
   "outputs": [
    {
     "name": "stdout",
     "output_type": "stream",
     "text": [
      "<class 'pandas.core.frame.DataFrame'>\n",
      "RangeIndex: 8128 entries, 0 to 8127\n",
      "Data columns (total 13 columns):\n",
      " #   Column         Non-Null Count  Dtype  \n",
      "---  ------         --------------  -----  \n",
      " 0   name           8128 non-null   object \n",
      " 1   selling_price  8128 non-null   int64  \n",
      " 2   km_driven      8128 non-null   int64  \n",
      " 3   fuel           8128 non-null   object \n",
      " 4   seller_type    8128 non-null   object \n",
      " 5   transmission   8128 non-null   object \n",
      " 6   owner          8128 non-null   object \n",
      " 7   mileage        8128 non-null   float64\n",
      " 8   engine         8128 non-null   float64\n",
      " 9   max_power      8128 non-null   object \n",
      " 10  torque         8128 non-null   object \n",
      " 11  seats          8128 non-null   float64\n",
      " 12  car_age        8128 non-null   int64  \n",
      "dtypes: float64(3), int64(3), object(7)\n",
      "memory usage: 825.6+ KB\n"
     ]
    }
   ],
   "source": [
    "cardata.info()"
   ]
  },
  {
   "cell_type": "code",
   "execution_count": 153,
   "id": "60f71409",
   "metadata": {},
   "outputs": [],
   "source": [
    "#split data\n",
    "objectcols=cardata.select_dtypes(include=['object'])\n",
    "numericcols=cardata.select_dtypes(include=np.number)"
   ]
  },
  {
   "cell_type": "code",
   "execution_count": 154,
   "id": "f781f107",
   "metadata": {},
   "outputs": [
    {
     "data": {
      "text/html": [
       "<div>\n",
       "<style scoped>\n",
       "    .dataframe tbody tr th:only-of-type {\n",
       "        vertical-align: middle;\n",
       "    }\n",
       "\n",
       "    .dataframe tbody tr th {\n",
       "        vertical-align: top;\n",
       "    }\n",
       "\n",
       "    .dataframe thead th {\n",
       "        text-align: right;\n",
       "    }\n",
       "</style>\n",
       "<table border=\"1\" class=\"dataframe\">\n",
       "  <thead>\n",
       "    <tr style=\"text-align: right;\">\n",
       "      <th></th>\n",
       "      <th>name</th>\n",
       "      <th>fuel</th>\n",
       "      <th>seller_type</th>\n",
       "      <th>transmission</th>\n",
       "      <th>owner</th>\n",
       "      <th>max_power</th>\n",
       "      <th>torque</th>\n",
       "    </tr>\n",
       "  </thead>\n",
       "  <tbody>\n",
       "    <tr>\n",
       "      <th>0</th>\n",
       "      <td>Maruti Swift Dzire VDI</td>\n",
       "      <td>Diesel</td>\n",
       "      <td>Individual</td>\n",
       "      <td>Manual</td>\n",
       "      <td>First Owner</td>\n",
       "      <td>74</td>\n",
       "      <td>2000</td>\n",
       "    </tr>\n",
       "    <tr>\n",
       "      <th>1</th>\n",
       "      <td>Skoda Rapid 1.5 TDI Ambition</td>\n",
       "      <td>Diesel</td>\n",
       "      <td>Individual</td>\n",
       "      <td>Manual</td>\n",
       "      <td>Second Owner</td>\n",
       "      <td>103.52</td>\n",
       "      <td>2500</td>\n",
       "    </tr>\n",
       "    <tr>\n",
       "      <th>2</th>\n",
       "      <td>Honda City 2017-2020 EXi</td>\n",
       "      <td>Petrol</td>\n",
       "      <td>Individual</td>\n",
       "      <td>Manual</td>\n",
       "      <td>Third Owner</td>\n",
       "      <td>78</td>\n",
       "      <td>2700</td>\n",
       "    </tr>\n",
       "    <tr>\n",
       "      <th>3</th>\n",
       "      <td>Hyundai i20 Sportz Diesel</td>\n",
       "      <td>Diesel</td>\n",
       "      <td>Individual</td>\n",
       "      <td>Manual</td>\n",
       "      <td>First Owner</td>\n",
       "      <td>90</td>\n",
       "      <td>4000</td>\n",
       "    </tr>\n",
       "    <tr>\n",
       "      <th>4</th>\n",
       "      <td>Maruti Swift VXI BSIII</td>\n",
       "      <td>Petrol</td>\n",
       "      <td>Individual</td>\n",
       "      <td>Manual</td>\n",
       "      <td>First Owner</td>\n",
       "      <td>88.2</td>\n",
       "      <td>4500</td>\n",
       "    </tr>\n",
       "  </tbody>\n",
       "</table>\n",
       "</div>"
      ],
      "text/plain": [
       "                           name    fuel seller_type transmission  \\\n",
       "0        Maruti Swift Dzire VDI  Diesel  Individual       Manual   \n",
       "1  Skoda Rapid 1.5 TDI Ambition  Diesel  Individual       Manual   \n",
       "2      Honda City 2017-2020 EXi  Petrol  Individual       Manual   \n",
       "3     Hyundai i20 Sportz Diesel  Diesel  Individual       Manual   \n",
       "4        Maruti Swift VXI BSIII  Petrol  Individual       Manual   \n",
       "\n",
       "          owner max_power torque  \n",
       "0   First Owner        74   2000  \n",
       "1  Second Owner    103.52   2500  \n",
       "2   Third Owner        78   2700  \n",
       "3   First Owner        90   4000  \n",
       "4   First Owner      88.2   4500  "
      ]
     },
     "execution_count": 154,
     "metadata": {},
     "output_type": "execute_result"
    }
   ],
   "source": [
    "objectcols.head()"
   ]
  },
  {
   "cell_type": "code",
   "execution_count": 155,
   "id": "5b1337f2",
   "metadata": {},
   "outputs": [
    {
     "data": {
      "text/html": [
       "<div>\n",
       "<style scoped>\n",
       "    .dataframe tbody tr th:only-of-type {\n",
       "        vertical-align: middle;\n",
       "    }\n",
       "\n",
       "    .dataframe tbody tr th {\n",
       "        vertical-align: top;\n",
       "    }\n",
       "\n",
       "    .dataframe thead th {\n",
       "        text-align: right;\n",
       "    }\n",
       "</style>\n",
       "<table border=\"1\" class=\"dataframe\">\n",
       "  <thead>\n",
       "    <tr style=\"text-align: right;\">\n",
       "      <th></th>\n",
       "      <th>selling_price</th>\n",
       "      <th>km_driven</th>\n",
       "      <th>mileage</th>\n",
       "      <th>engine</th>\n",
       "      <th>seats</th>\n",
       "      <th>car_age</th>\n",
       "    </tr>\n",
       "  </thead>\n",
       "  <tbody>\n",
       "    <tr>\n",
       "      <th>0</th>\n",
       "      <td>450000</td>\n",
       "      <td>145500</td>\n",
       "      <td>23.40</td>\n",
       "      <td>1248.0</td>\n",
       "      <td>5.0</td>\n",
       "      <td>8</td>\n",
       "    </tr>\n",
       "    <tr>\n",
       "      <th>1</th>\n",
       "      <td>370000</td>\n",
       "      <td>120000</td>\n",
       "      <td>21.14</td>\n",
       "      <td>1498.0</td>\n",
       "      <td>5.0</td>\n",
       "      <td>8</td>\n",
       "    </tr>\n",
       "    <tr>\n",
       "      <th>2</th>\n",
       "      <td>158000</td>\n",
       "      <td>140000</td>\n",
       "      <td>17.70</td>\n",
       "      <td>1497.0</td>\n",
       "      <td>5.0</td>\n",
       "      <td>16</td>\n",
       "    </tr>\n",
       "    <tr>\n",
       "      <th>3</th>\n",
       "      <td>225000</td>\n",
       "      <td>127000</td>\n",
       "      <td>23.00</td>\n",
       "      <td>1396.0</td>\n",
       "      <td>5.0</td>\n",
       "      <td>12</td>\n",
       "    </tr>\n",
       "    <tr>\n",
       "      <th>4</th>\n",
       "      <td>130000</td>\n",
       "      <td>120000</td>\n",
       "      <td>16.10</td>\n",
       "      <td>1298.0</td>\n",
       "      <td>5.0</td>\n",
       "      <td>15</td>\n",
       "    </tr>\n",
       "  </tbody>\n",
       "</table>\n",
       "</div>"
      ],
      "text/plain": [
       "   selling_price  km_driven  mileage  engine  seats  car_age\n",
       "0         450000     145500    23.40  1248.0    5.0        8\n",
       "1         370000     120000    21.14  1498.0    5.0        8\n",
       "2         158000     140000    17.70  1497.0    5.0       16\n",
       "3         225000     127000    23.00  1396.0    5.0       12\n",
       "4         130000     120000    16.10  1298.0    5.0       15"
      ]
     },
     "execution_count": 155,
     "metadata": {},
     "output_type": "execute_result"
    }
   ],
   "source": [
    "numericcols.head()"
   ]
  },
  {
   "cell_type": "code",
   "execution_count": 156,
   "id": "6df94e54",
   "metadata": {},
   "outputs": [
    {
     "name": "stdout",
     "output_type": "stream",
     "text": [
      "(8128, 6)\n",
      "(8128, 7)\n"
     ]
    }
   ],
   "source": [
    "print (numericcols.shape)\n",
    "print (objectcols.shape)"
   ]
  },
  {
   "cell_type": "code",
   "execution_count": 157,
   "id": "b4a53a35",
   "metadata": {},
   "outputs": [],
   "source": [
    "from sklearn.preprocessing import StandardScaler"
   ]
  },
  {
   "cell_type": "code",
   "execution_count": 158,
   "id": "4ee9a235",
   "metadata": {},
   "outputs": [],
   "source": [
    "scaler=StandardScaler()"
   ]
  },
  {
   "cell_type": "code",
   "execution_count": 159,
   "id": "8f3ce3e4",
   "metadata": {},
   "outputs": [],
   "source": [
    "numeric_scaled=scaler.fit_transform(numericcols)"
   ]
  },
  {
   "cell_type": "code",
   "execution_count": 160,
   "id": "b87a64c7",
   "metadata": {},
   "outputs": [],
   "source": [
    "numeric_scaled=pd.DataFrame(numeric_scaled,columns=['selling_price','km_driven','mileage','engine','seats','car_age'])"
   ]
  },
  {
   "cell_type": "code",
   "execution_count": 161,
   "id": "3589b1d7",
   "metadata": {},
   "outputs": [
    {
     "data": {
      "text/html": [
       "<div>\n",
       "<style scoped>\n",
       "    .dataframe tbody tr th:only-of-type {\n",
       "        vertical-align: middle;\n",
       "    }\n",
       "\n",
       "    .dataframe tbody tr th {\n",
       "        vertical-align: top;\n",
       "    }\n",
       "\n",
       "    .dataframe thead th {\n",
       "        text-align: right;\n",
       "    }\n",
       "</style>\n",
       "<table border=\"1\" class=\"dataframe\">\n",
       "  <thead>\n",
       "    <tr style=\"text-align: right;\">\n",
       "      <th></th>\n",
       "      <th>selling_price</th>\n",
       "      <th>km_driven</th>\n",
       "      <th>mileage</th>\n",
       "      <th>engine</th>\n",
       "      <th>seats</th>\n",
       "      <th>car_age</th>\n",
       "    </tr>\n",
       "  </thead>\n",
       "  <tbody>\n",
       "    <tr>\n",
       "      <th>0</th>\n",
       "      <td>-0.233529</td>\n",
       "      <td>1.338363</td>\n",
       "      <td>1.003214</td>\n",
       "      <td>-0.411305</td>\n",
       "      <td>-0.427258</td>\n",
       "      <td>-0.048464</td>\n",
       "    </tr>\n",
       "    <tr>\n",
       "      <th>1</th>\n",
       "      <td>-0.332759</td>\n",
       "      <td>0.887411</td>\n",
       "      <td>0.435734</td>\n",
       "      <td>0.090536</td>\n",
       "      <td>-0.427258</td>\n",
       "      <td>-0.048464</td>\n",
       "    </tr>\n",
       "    <tr>\n",
       "      <th>2</th>\n",
       "      <td>-0.595720</td>\n",
       "      <td>1.241098</td>\n",
       "      <td>-0.428040</td>\n",
       "      <td>0.088528</td>\n",
       "      <td>-0.427258</td>\n",
       "      <td>1.929775</td>\n",
       "    </tr>\n",
       "    <tr>\n",
       "      <th>3</th>\n",
       "      <td>-0.512615</td>\n",
       "      <td>1.011202</td>\n",
       "      <td>0.902775</td>\n",
       "      <td>-0.114215</td>\n",
       "      <td>-0.427258</td>\n",
       "      <td>0.940656</td>\n",
       "    </tr>\n",
       "    <tr>\n",
       "      <th>4</th>\n",
       "      <td>-0.630451</td>\n",
       "      <td>0.887411</td>\n",
       "      <td>-0.829795</td>\n",
       "      <td>-0.310937</td>\n",
       "      <td>-0.427258</td>\n",
       "      <td>1.682495</td>\n",
       "    </tr>\n",
       "  </tbody>\n",
       "</table>\n",
       "</div>"
      ],
      "text/plain": [
       "   selling_price  km_driven   mileage    engine     seats   car_age\n",
       "0      -0.233529   1.338363  1.003214 -0.411305 -0.427258 -0.048464\n",
       "1      -0.332759   0.887411  0.435734  0.090536 -0.427258 -0.048464\n",
       "2      -0.595720   1.241098 -0.428040  0.088528 -0.427258  1.929775\n",
       "3      -0.512615   1.011202  0.902775 -0.114215 -0.427258  0.940656\n",
       "4      -0.630451   0.887411 -0.829795 -0.310937 -0.427258  1.682495"
      ]
     },
     "execution_count": 161,
     "metadata": {},
     "output_type": "execute_result"
    }
   ],
   "source": [
    "numeric_scaled.head(5)"
   ]
  },
  {
   "cell_type": "code",
   "execution_count": 162,
   "id": "8cc8e46c",
   "metadata": {},
   "outputs": [],
   "source": [
    "from sklearn.preprocessing import LabelEncoder"
   ]
  },
  {
   "cell_type": "code",
   "execution_count": 163,
   "id": "09279115",
   "metadata": {},
   "outputs": [],
   "source": [
    "le=LabelEncoder()"
   ]
  },
  {
   "cell_type": "code",
   "execution_count": 164,
   "id": "b16ef5c2",
   "metadata": {},
   "outputs": [],
   "source": [
    "objectcols_LabelEncoder=objectcols.apply(le.fit_transform)"
   ]
  },
  {
   "cell_type": "code",
   "execution_count": 165,
   "id": "b12e10fc",
   "metadata": {},
   "outputs": [
    {
     "data": {
      "text/html": [
       "<div>\n",
       "<style scoped>\n",
       "    .dataframe tbody tr th:only-of-type {\n",
       "        vertical-align: middle;\n",
       "    }\n",
       "\n",
       "    .dataframe tbody tr th {\n",
       "        vertical-align: top;\n",
       "    }\n",
       "\n",
       "    .dataframe thead th {\n",
       "        text-align: right;\n",
       "    }\n",
       "</style>\n",
       "<table border=\"1\" class=\"dataframe\">\n",
       "  <thead>\n",
       "    <tr style=\"text-align: right;\">\n",
       "      <th></th>\n",
       "      <th>name</th>\n",
       "      <th>fuel</th>\n",
       "      <th>seller_type</th>\n",
       "      <th>transmission</th>\n",
       "      <th>owner</th>\n",
       "      <th>max_power</th>\n",
       "      <th>torque</th>\n",
       "    </tr>\n",
       "  </thead>\n",
       "  <tbody>\n",
       "    <tr>\n",
       "      <th>0</th>\n",
       "      <td>1307</td>\n",
       "      <td>1</td>\n",
       "      <td>1</td>\n",
       "      <td>1</td>\n",
       "      <td>0</td>\n",
       "      <td>244</td>\n",
       "      <td>8</td>\n",
       "    </tr>\n",
       "    <tr>\n",
       "      <th>1</th>\n",
       "      <td>1607</td>\n",
       "      <td>1</td>\n",
       "      <td>1</td>\n",
       "      <td>1</td>\n",
       "      <td>2</td>\n",
       "      <td>15</td>\n",
       "      <td>13</td>\n",
       "    </tr>\n",
       "    <tr>\n",
       "      <th>2</th>\n",
       "      <td>385</td>\n",
       "      <td>3</td>\n",
       "      <td>1</td>\n",
       "      <td>1</td>\n",
       "      <td>4</td>\n",
       "      <td>253</td>\n",
       "      <td>17</td>\n",
       "    </tr>\n",
       "    <tr>\n",
       "      <th>3</th>\n",
       "      <td>781</td>\n",
       "      <td>1</td>\n",
       "      <td>1</td>\n",
       "      <td>1</td>\n",
       "      <td>0</td>\n",
       "      <td>295</td>\n",
       "      <td>32</td>\n",
       "    </tr>\n",
       "    <tr>\n",
       "      <th>4</th>\n",
       "      <td>1349</td>\n",
       "      <td>3</td>\n",
       "      <td>1</td>\n",
       "      <td>1</td>\n",
       "      <td>0</td>\n",
       "      <td>287</td>\n",
       "      <td>40</td>\n",
       "    </tr>\n",
       "  </tbody>\n",
       "</table>\n",
       "</div>"
      ],
      "text/plain": [
       "   name  fuel  seller_type  transmission  owner  max_power  torque\n",
       "0  1307     1            1             1      0        244       8\n",
       "1  1607     1            1             1      2         15      13\n",
       "2   385     3            1             1      4        253      17\n",
       "3   781     1            1             1      0        295      32\n",
       "4  1349     3            1             1      0        287      40"
      ]
     },
     "execution_count": 165,
     "metadata": {},
     "output_type": "execute_result"
    }
   ],
   "source": [
    "objectcols_LabelEncoder.head(5)"
   ]
  },
  {
   "cell_type": "code",
   "execution_count": 166,
   "id": "f2ffacee",
   "metadata": {},
   "outputs": [],
   "source": [
    "objectcols_dummy=pd.get_dummies(objectcols)"
   ]
  },
  {
   "cell_type": "code",
   "execution_count": 167,
   "id": "74c9f0de",
   "metadata": {},
   "outputs": [
    {
     "data": {
      "text/html": [
       "<div>\n",
       "<style scoped>\n",
       "    .dataframe tbody tr th:only-of-type {\n",
       "        vertical-align: middle;\n",
       "    }\n",
       "\n",
       "    .dataframe tbody tr th {\n",
       "        vertical-align: top;\n",
       "    }\n",
       "\n",
       "    .dataframe thead th {\n",
       "        text-align: right;\n",
       "    }\n",
       "</style>\n",
       "<table border=\"1\" class=\"dataframe\">\n",
       "  <thead>\n",
       "    <tr style=\"text-align: right;\">\n",
       "      <th></th>\n",
       "      <th>name_Ambassador CLASSIC 1500 DSL AC</th>\n",
       "      <th>name_Ambassador Classic 2000 DSZ AC PS</th>\n",
       "      <th>name_Ambassador Grand 1500 DSZ BSIII</th>\n",
       "      <th>name_Ambassador Grand 2000 DSZ PW CL</th>\n",
       "      <th>name_Ashok Leyland Stile LE</th>\n",
       "      <th>name_Audi A3 35 TDI Premium Plus</th>\n",
       "      <th>name_Audi A3 40 TFSI Premium</th>\n",
       "      <th>name_Audi A4 1.8 TFSI</th>\n",
       "      <th>name_Audi A4 2.0 TDI</th>\n",
       "      <th>name_Audi A4 2.0 TDI 177  Premium Plus</th>\n",
       "      <th>...</th>\n",
       "      <th>torque_4500</th>\n",
       "      <th>torque_4600</th>\n",
       "      <th>torque_4700</th>\n",
       "      <th>torque_4750</th>\n",
       "      <th>torque_4800</th>\n",
       "      <th>torque_4850</th>\n",
       "      <th>torque_500</th>\n",
       "      <th>torque_5000</th>\n",
       "      <th>torque_5200</th>\n",
       "      <th>torque_5300</th>\n",
       "    </tr>\n",
       "  </thead>\n",
       "  <tbody>\n",
       "    <tr>\n",
       "      <th>0</th>\n",
       "      <td>0</td>\n",
       "      <td>0</td>\n",
       "      <td>0</td>\n",
       "      <td>0</td>\n",
       "      <td>0</td>\n",
       "      <td>0</td>\n",
       "      <td>0</td>\n",
       "      <td>0</td>\n",
       "      <td>0</td>\n",
       "      <td>0</td>\n",
       "      <td>...</td>\n",
       "      <td>0</td>\n",
       "      <td>0</td>\n",
       "      <td>0</td>\n",
       "      <td>0</td>\n",
       "      <td>0</td>\n",
       "      <td>0</td>\n",
       "      <td>0</td>\n",
       "      <td>0</td>\n",
       "      <td>0</td>\n",
       "      <td>0</td>\n",
       "    </tr>\n",
       "    <tr>\n",
       "      <th>1</th>\n",
       "      <td>0</td>\n",
       "      <td>0</td>\n",
       "      <td>0</td>\n",
       "      <td>0</td>\n",
       "      <td>0</td>\n",
       "      <td>0</td>\n",
       "      <td>0</td>\n",
       "      <td>0</td>\n",
       "      <td>0</td>\n",
       "      <td>0</td>\n",
       "      <td>...</td>\n",
       "      <td>0</td>\n",
       "      <td>0</td>\n",
       "      <td>0</td>\n",
       "      <td>0</td>\n",
       "      <td>0</td>\n",
       "      <td>0</td>\n",
       "      <td>0</td>\n",
       "      <td>0</td>\n",
       "      <td>0</td>\n",
       "      <td>0</td>\n",
       "    </tr>\n",
       "    <tr>\n",
       "      <th>2</th>\n",
       "      <td>0</td>\n",
       "      <td>0</td>\n",
       "      <td>0</td>\n",
       "      <td>0</td>\n",
       "      <td>0</td>\n",
       "      <td>0</td>\n",
       "      <td>0</td>\n",
       "      <td>0</td>\n",
       "      <td>0</td>\n",
       "      <td>0</td>\n",
       "      <td>...</td>\n",
       "      <td>0</td>\n",
       "      <td>0</td>\n",
       "      <td>0</td>\n",
       "      <td>0</td>\n",
       "      <td>0</td>\n",
       "      <td>0</td>\n",
       "      <td>0</td>\n",
       "      <td>0</td>\n",
       "      <td>0</td>\n",
       "      <td>0</td>\n",
       "    </tr>\n",
       "    <tr>\n",
       "      <th>3</th>\n",
       "      <td>0</td>\n",
       "      <td>0</td>\n",
       "      <td>0</td>\n",
       "      <td>0</td>\n",
       "      <td>0</td>\n",
       "      <td>0</td>\n",
       "      <td>0</td>\n",
       "      <td>0</td>\n",
       "      <td>0</td>\n",
       "      <td>0</td>\n",
       "      <td>...</td>\n",
       "      <td>0</td>\n",
       "      <td>0</td>\n",
       "      <td>0</td>\n",
       "      <td>0</td>\n",
       "      <td>0</td>\n",
       "      <td>0</td>\n",
       "      <td>0</td>\n",
       "      <td>0</td>\n",
       "      <td>0</td>\n",
       "      <td>0</td>\n",
       "    </tr>\n",
       "    <tr>\n",
       "      <th>4</th>\n",
       "      <td>0</td>\n",
       "      <td>0</td>\n",
       "      <td>0</td>\n",
       "      <td>0</td>\n",
       "      <td>0</td>\n",
       "      <td>0</td>\n",
       "      <td>0</td>\n",
       "      <td>0</td>\n",
       "      <td>0</td>\n",
       "      <td>0</td>\n",
       "      <td>...</td>\n",
       "      <td>1</td>\n",
       "      <td>0</td>\n",
       "      <td>0</td>\n",
       "      <td>0</td>\n",
       "      <td>0</td>\n",
       "      <td>0</td>\n",
       "      <td>0</td>\n",
       "      <td>0</td>\n",
       "      <td>0</td>\n",
       "      <td>0</td>\n",
       "    </tr>\n",
       "  </tbody>\n",
       "</table>\n",
       "<p>5 rows × 2442 columns</p>\n",
       "</div>"
      ],
      "text/plain": [
       "   name_Ambassador CLASSIC 1500 DSL AC  \\\n",
       "0                                    0   \n",
       "1                                    0   \n",
       "2                                    0   \n",
       "3                                    0   \n",
       "4                                    0   \n",
       "\n",
       "   name_Ambassador Classic 2000 DSZ AC PS  \\\n",
       "0                                       0   \n",
       "1                                       0   \n",
       "2                                       0   \n",
       "3                                       0   \n",
       "4                                       0   \n",
       "\n",
       "   name_Ambassador Grand 1500 DSZ BSIII  name_Ambassador Grand 2000 DSZ PW CL  \\\n",
       "0                                     0                                     0   \n",
       "1                                     0                                     0   \n",
       "2                                     0                                     0   \n",
       "3                                     0                                     0   \n",
       "4                                     0                                     0   \n",
       "\n",
       "   name_Ashok Leyland Stile LE  name_Audi A3 35 TDI Premium Plus  \\\n",
       "0                            0                                 0   \n",
       "1                            0                                 0   \n",
       "2                            0                                 0   \n",
       "3                            0                                 0   \n",
       "4                            0                                 0   \n",
       "\n",
       "   name_Audi A3 40 TFSI Premium  name_Audi A4 1.8 TFSI  name_Audi A4 2.0 TDI  \\\n",
       "0                             0                      0                     0   \n",
       "1                             0                      0                     0   \n",
       "2                             0                      0                     0   \n",
       "3                             0                      0                     0   \n",
       "4                             0                      0                     0   \n",
       "\n",
       "   name_Audi A4 2.0 TDI 177  Premium Plus  ...  torque_4500  torque_4600  \\\n",
       "0                                       0  ...            0            0   \n",
       "1                                       0  ...            0            0   \n",
       "2                                       0  ...            0            0   \n",
       "3                                       0  ...            0            0   \n",
       "4                                       0  ...            1            0   \n",
       "\n",
       "   torque_4700  torque_4750  torque_4800  torque_4850  torque_500  \\\n",
       "0            0            0            0            0           0   \n",
       "1            0            0            0            0           0   \n",
       "2            0            0            0            0           0   \n",
       "3            0            0            0            0           0   \n",
       "4            0            0            0            0           0   \n",
       "\n",
       "   torque_5000  torque_5200  torque_5300  \n",
       "0            0            0            0  \n",
       "1            0            0            0  \n",
       "2            0            0            0  \n",
       "3            0            0            0  \n",
       "4            0            0            0  \n",
       "\n",
       "[5 rows x 2442 columns]"
      ]
     },
     "execution_count": 167,
     "metadata": {},
     "output_type": "execute_result"
    }
   ],
   "source": [
    "objectcols_dummy.head()"
   ]
  },
  {
   "cell_type": "code",
   "execution_count": 168,
   "id": "9d020f8f",
   "metadata": {},
   "outputs": [],
   "source": [
    "cardata=pd.concat([numeric_scaled,objectcols_dummy],axis=1)"
   ]
  },
  {
   "cell_type": "code",
   "execution_count": 169,
   "id": "e2fc46b1",
   "metadata": {},
   "outputs": [],
   "source": [
    "y=cardata.selling_price \n",
    "x=cardata.drop([\"selling_price\"],axis=1)"
   ]
  },
  {
   "cell_type": "code",
   "execution_count": 170,
   "id": "f007d722",
   "metadata": {},
   "outputs": [
    {
     "data": {
      "text/plain": [
       "<AxesSubplot: ylabel='Frequency'>"
      ]
     },
     "execution_count": 170,
     "metadata": {},
     "output_type": "execute_result"
    },
    {
     "data": {
      "image/png": "[encoded data removed]",
      "text/plain": [
       "<Figure size 640x480 with 1 Axes>"
      ]
     },
     "metadata": {},
     "output_type": "display_data"
    }
   ],
   "source": [
    "y.plot(kind='hist')"
   ]
  },
  {
   "cell_type": "code",
   "execution_count": 171,
   "id": "7ef80d3d",
   "metadata": {},
   "outputs": [],
   "source": [
    "from sklearn.linear_model import LinearRegression"
   ]
  },
  {
   "cell_type": "code",
   "execution_count": 172,
   "id": "e5225050",
   "metadata": {},
   "outputs": [],
   "source": [
    "reg=LinearRegression()"
   ]
  },
  {
   "cell_type": "code",
   "execution_count": 173,
   "id": "8fe65d97",
   "metadata": {},
   "outputs": [],
   "source": [
    "regmodel=reg.fit(x,y)"
   ]
  },
  {
   "cell_type": "code",
   "execution_count": 174,
   "id": "fea52d66",
   "metadata": {},
   "outputs": [
    {
     "data": {
      "text/plain": [
       "0.9891878125067668"
      ]
     },
     "execution_count": 174,
     "metadata": {},
     "output_type": "execute_result"
    }
   ],
   "source": [
    "regmodel.score(x,y)"
   ]
  },
  {
   "cell_type": "code",
   "execution_count": 175,
   "id": "5f3c8e65",
   "metadata": {},
   "outputs": [
    {
     "data": {
      "text/plain": [
       "151403045988.09018"
      ]
     },
     "execution_count": 175,
     "metadata": {},
     "output_type": "execute_result"
    }
   ],
   "source": [
    "regmodel.intercept_"
   ]
  },
  {
   "cell_type": "code",
   "execution_count": 176,
   "id": "460391ab",
   "metadata": {},
   "outputs": [
    {
     "name": "stdout",
     "output_type": "stream",
     "text": [
      "[('km_driven', -0.015641874900595827), ('mileage', 0.03077090791767878), ('engine', 0.07898638383422651), ('seats', -0.18305801805084487), ('car_age', -0.16232253620876702), ('name_Ambassador CLASSIC 1500 DSL AC', 11694994525.068077), ('name_Ambassador Classic 2000 DSZ AC PS', -3527493800.850375), ('name_Ambassador Grand 1500 DSZ BSIII', -3527493801.394635), ('name_Ambassador Grand 2000 DSZ PW CL', -3527493801.291955), ('name_Ashok Leyland Stile LE', 796452475.4751439), ('name_Audi A3 35 TDI Premium Plus', -10543164666.906607), ('name_Audi A3 40 TFSI Premium', -5011872491.074021), ('name_Audi A4 1.8 TFSI', -21023694318.141285), ('name_Audi A4 2.0 TDI', -2589264298.553184), ('name_Audi A4 2.0 TDI 177  Premium Plus', -2925474674.5030146), ('name_Audi A4 35 TDI Premium Plus', 1871198815.0737488), ('name_Audi A6 2.0 TDI', -2925474673.320848), ('name_Audi A6 2.0 TDI  Design Edition', 1871198814.5126626), ('name_Audi A6 2.0 TDI Premium Plus', -2925474673.5021787), ('name_Audi A6 2.0 TDI Technology', -2925474673.822185), ('name_Audi A6 35 TFSI Matrix', -656933157.3463774), ('name_Audi Q3 2.0 TDI Quattro Premium Plus', -2925474673.2570763), ('name_Audi Q3 35 TDI Quattro Premium Plus', -2925474672.7411737), ('name_Audi Q3 35 TDI Quattro Technology', -980881424.3436753), ('name_Audi Q5 2.0 TDI', 5978396242.779776), ('name_Audi Q5 3.0 TDI Quattro', 998533499.7995104), ('name_Audi Q5 35TDI Premium Plus', 2407662796.632369), ('name_Audi Q5 45 TDI quattro Technology', 998533500.8454682), ('name_Audi Q7 3.0 TDI Quattro', 998533500.2432294), ('name_Audi Q7 3.0 TDI Quattro Premium Plus', 998533500.3983582), ('name_Audi Q7 35 TDI Quattro Premium', 998533501.2558022), ('name_BMW 3 Series 320d', 1871198815.364445), ('name_BMW 3 Series 320d Corporate Edition', -980881425.9876089), ('name_BMW 3 Series 320d GT Luxury Line', 1871198815.8928597), ('name_BMW 3 Series 320d Highline', -980881425.4058533), ('name_BMW 3 Series 320d Luxury Line', 1871198814.106698), ('name_BMW 3 Series 320d Luxury Line Plus', 1871198814.4799106), ('name_BMW 3 Series 320d Luxury Plus', 1871198814.0665588), ('name_BMW 3 Series 320d Prestige', 1871198814.3687065), ('name_BMW 3 Series 320d Sedan', -980881425.4851451), ('name_BMW 3 Series GT Luxury Line', 2407662795.6117296), ('name_BMW 5 Series 520d', -3918872001.9691296), ('name_BMW 5 Series 520d Luxury Line', 1871198816.4626558), ('name_BMW 5 Series 520d Sedan', 3058781709.972686), ('name_BMW 5 Series 520d Sport Line', 1871198816.673439), ('name_BMW 5 Series 523i', -2889569161.6788554), ('name_BMW 5 Series 525d', -1728653238.2455983), ('name_BMW 5 Series 530d', -3254566485.438539), ('name_BMW 6 Series GT 630d Luxury Line', -2034197089.3502111), ('name_BMW 7 Series 730Ld', -9547452091.059826), ('name_BMW X1 sDrive 20D xLine', 3058781711.11357), ('name_BMW X1 sDrive 20d Sportline', 1871198815.7280905), ('name_BMW X1 sDrive20d', 1871198813.730457), ('name_BMW X1 sDrive20d M Sport', 1871198813.8157675), ('name_BMW X1 sDrive20i xLine', -5219577039.032283), ('name_BMW X3 xDrive20d', 1871198814.6900294), ('name_BMW X4 M Sport X xDrive20d', 1871198818.1331902), ('name_BMW X5 3.0d', -3254566486.5548673), ('name_BMW X6 xDrive30d', -5128173582.338087), ('name_BMW X7 xDrive 30d DPE', -653279808.1266047), ('name_Chevrolet Aveo 1.4 LS', -5382296700.141412), ('name_Chevrolet Aveo U-VA 1.2', -1856734995.2640185), ('name_Chevrolet Aveo U-VA 1.2 LS', -2079936480.0839174), ('name_Chevrolet Aveo U-VA 1.2 LT', -1856734995.2062862), ('name_Chevrolet Beat Diesel', -2717851697.4434276), ('name_Chevrolet Beat Diesel LS', -2717851697.4174476), ('name_Chevrolet Beat Diesel LT', -2717851697.3979397), ('name_Chevrolet Beat Diesel LT Option', -2717851697.403761), ('name_Chevrolet Beat LS', 4980482495.198214), ('name_Chevrolet Beat LT', 4980482495.222225), ('name_Chevrolet Captiva 2.2 LT', 1406288677.232284), ('name_Chevrolet Captiva 2.2 LTZ AWD', 1871198813.6242418), ('name_Chevrolet Captiva LT', -2017840896.0929453), ('name_Chevrolet Cruze LT', -2017840896.5763555), ('name_Chevrolet Cruze LTZ', -2017840896.5121536), ('name_Chevrolet Cruze LTZ AT', -1552930760.2745352), ('name_Chevrolet Enjoy 1.3 TCDi LS 7', 799120719.1341732), ('name_Chevrolet Enjoy 1.3 TCDi LS 8', 799120719.448411), ('name_Chevrolet Enjoy 1.3 TCDi LT 8', 799120719.4692866), ('name_Chevrolet Enjoy 1.3 TCDi LTZ 7', 799120719.4314399), ('name_Chevrolet Enjoy 1.3 TCDi LTZ 8', 799120719.4717464), ('name_Chevrolet Enjoy 1.4 LTZ 7', -206220327.87237093), ('name_Chevrolet Enjoy Petrol LS 7 Seater', -4214253370.6977177), ('name_Chevrolet Enjoy TCDi LS 8 Seater', -2362991987.517003), ('name_Chevrolet Enjoy TCDi LT 7 Seater', -2362991987.644807), ('name_Chevrolet Enjoy TCDi LTZ 7 Seater', -2362991987.6207576), ('name_Chevrolet Optra 1.6 LT Royale', -5529488779.365302), ('name_Chevrolet Optra Magnum 1.6 LT Petrol', -1735760713.451213), ('name_Chevrolet Optra Magnum 2.0 LS', 317189618.23958516), ('name_Chevrolet Optra Magnum 2.0 LS BSIII', 317189618.2100146), ('name_Chevrolet Optra Magnum 2.0 LT', 317189618.2414213), ('name_Chevrolet Optra Magnum 2.0 LT BS3', 317189618.25297683), ('name_Chevrolet Sail 1.2 LS', -4522394478.870481), ('name_Chevrolet Sail 1.2 LS ABS', -4522394478.659595), ('name_Chevrolet Sail 1.2 LT ABS', -4522394478.693136), ('name_Chevrolet Sail 1.3 LS', 2593871572.574031), ('name_Chevrolet Sail Hatchback 1.2', -1030755862.8036269), ('name_Chevrolet Sail Hatchback 1.2 LS', -1030755862.8011216), ('name_Chevrolet Sail Hatchback Diesel', 15948382.0829716), ('name_Chevrolet Sail Hatchback Diesel Base', 15948382.06301107), ('name_Chevrolet Sail Hatchback LS ABS', 15948382.162011288), ('name_Chevrolet Sail Hatchback LT ABS', 15948381.952601682), ('name_Chevrolet Sail Hatchback Petrol', -2430795525.4029355), ('name_Chevrolet Sail Hatchback Petrol LS ABS', -2430795525.4391813), ('name_Chevrolet Sail LT ABS', 2593871572.7186985), ('name_Chevrolet Spark 1.0', 147973347.63440514), ('name_Chevrolet Spark 1.0 E', -1499768599.855171), ('name_Chevrolet Spark 1.0 LS', 147973347.66416866), ('name_Chevrolet Spark 1.0 LT', 147973347.65262085), ('name_Chevrolet Spark 1.0 LT LPG', -2482288330.6839666), ('name_Chevrolet Spark 1.0 LT Option Pack w/ Airbag', -1499768599.8178384), ('name_Chevrolet Spark 1.0 PS', -1499768599.8897007), ('name_Chevrolet Spark 1.0 PS LPG', 2322333747.0278006), ('name_Chevrolet Tavera B1-10 seats BSII', 1379121225.5548282), ('name_Chevrolet Tavera B2 8 Seats BSIII', 1379121225.3937352), ('name_Chevrolet Tavera B3 LT L1 10 Seats BSIII', 1379121225.563777), ('name_Chevrolet Tavera LS B3 10 Seats BSII', 1379121225.5711358), ('name_Chevrolet Tavera Neo 3 10 Seats BSIII', -525486906.5471175), ('name_Chevrolet Tavera Neo 3 9 Str BSIII', -525486906.75483596), ('name_Chevrolet Tavera Neo 3 LS 10 Seats BSIII', -525486906.4838313), ('name_Chevrolet Tavera Neo 3 LS 10 Str', -1223637294.8560765), ('name_Chevrolet Tavera Neo 3 LS 9 Str BSIII', -525486906.6731635), ('name_Chevrolet Tavera Neo 3 LT 9 Seats BSIII', -525486906.56365937), ('name_Chevrolet Tavera Neo 3 LT 9 Seats BSIV', -1223637294.7544806), ('name_Chevrolet Tavera Neo LS B3 - 10 seats BSIII', 1379121225.5846071), ('name_Chevrolet Tavera Neo LS B3 - 7(C) seats BSIII', 1379121224.9110143), ('name_Chevrolet Tavera Neo LT-L - 9 seats BSII', 1379121225.3833935), ('name_Chevrolet Trailblazer LTZ 4X2 AT', -6878678918.985707), ('name_Daewoo Matiz SD', -2974074680.5106773), ('name_Daewoo Matiz SS', -2974074680.488139), ('name_Datsun GO A', 716800046.7398634), ('name_Datsun GO A EPS', 716800046.7831628), ('name_Datsun GO A Option Petrol', 716800046.9626663), ('name_Datsun GO A Petrol', 716800046.8050092), ('name_Datsun GO Anniversary Edition', 716800046.8628708), ('name_Datsun GO D', 716800046.5421252), ('name_Datsun GO D Petrol', 716800046.722888), ('name_Datsun GO Plus A', 716800047.2173721), ('name_Datsun GO Plus A Option Petrol', 716800047.4410881), ('name_Datsun GO Plus Anniversary Edition', 716800047.1866329), ('name_Datsun GO Plus D', 716800047.115052), ('name_Datsun GO Plus D1', 716800047.1468432), ('name_Datsun GO Plus T', 716800047.1549329), ('name_Datsun GO Plus T BSIV', 716800047.1732658), ('name_Datsun GO Plus T Option BSIV', 716800047.1874927), ('name_Datsun GO Plus T VDC', 716800047.3499132), ('name_Datsun GO T BSIV', 716800046.733459), ('name_Datsun GO T Option', 716800046.8605071), ('name_Datsun GO T Option BSIV', 716800046.7976846), ('name_Datsun GO T Petrol', 716800046.7898899), ('name_Datsun RediGO 1.0 S', 1455432558.2887857), ('name_Datsun RediGO 1.0 T Option', 1455432558.3390126), ('name_Datsun RediGO A', -2379346898.951913), ('name_Datsun RediGO AMT 1.0 S', 1920342694.525899), ('name_Datsun RediGO S', -2379346898.886154), ('name_Datsun RediGO SV 1.0', 1455432558.2841446), ('name_Datsun RediGO Sport', 1369240038.8312976), ('name_Datsun RediGO T', -2379346898.8582997), ('name_Datsun RediGO T Option', -2379346898.910022), ('name_Fiat Avventura MULTIJET Emotion', 398108239.29765296), ('name_Fiat Avventura Power Up 1.3 Active', 398108239.14033735), ('name_Fiat Avventura Power Up 1.3 Emotion', 398108239.3133897), ('name_Fiat Grande Punto 1.3 Dynamic (Diesel)', 796452474.7781035), ('name_Fiat Grande Punto 1.3 Emotion (Diesel)', 796452474.7297546), ('name_Fiat Grande Punto 1.3 Emotion Pack 90HP (Diesel)', -412747200.53274375), ('name_Fiat Grande Punto 1.4 Emotion', -746769209.3184808), ('name_Fiat Grande Punto Active (Diesel)', 796452474.639579), ('name_Fiat Grande Punto EVO 1.2 Dynamic', 716800047.1775458), ('name_Fiat Grande Punto EVO 1.3 Active', 796452474.6689001), ('name_Fiat Grande Punto EVO 1.3 Dynamic', 796452474.7900891), ('name_Fiat Grande Punto Sport 90', -109728856.37507945), ('name_Fiat Linea 1.3 Active', -264547426.87444812), ('name_Fiat Linea 1.3 Multijet Active', -412747200.6114679), ('name_Fiat Linea 1.3 Multijet Emotion', -412747200.29939014), ('name_Fiat Linea Classic 1.3 Multijet', 796452474.7118479), ('name_Fiat Linea Classic Plus 1.3 Multijet', 796452474.7168206), ('name_Fiat Linea Emotion', -746769209.360479), ('name_Fiat Linea Emotion (Diesel)', -412747200.5415861), ('name_Fiat Palio 1.2', 716800046.9034661), ('name_Fiat Palio 1.2 ELX', 716800047.0490818), ('name_Fiat Punto 1.2 Active', 716800047.1510683), ('name_Fiat Punto 1.3 Emotion', 2593871572.796404), ('name_Fiat Punto EVO 1.3 Emotion', -412747200.6394297), ('name_Fiat Punto Pure 1.2L FIRE', 716800046.9965918), ('name_Force Gurkha Hard Top BS3 4WD', -4664655025.182268), ('name_Force One EX', -3102510485.9002066), ('name_Force One SX ABS 7 Seating', -458014448.57513607), ('name_Ford Aspire Titanium BSIV', 150674659.545154), ('name_Ford Aspire Titanium Diesel BSIV', -3279641072.578458), ('name_Ford Aspire Trend Diesel BSIV', -3279641072.8029284), ('name_Ford Aspire Trend Plus', 150674659.53803673), ('name_Ford Classic 1.4 Duratorq CLXI', 2593871572.6613007), ('name_Ford Classic 1.4 Duratorq Titanium', 2593871572.6988335), ('name_Ford Classic 1.6 Duratec CLXI', -2221371318.7352076), ('name_Ford Classic 1.6 Duratec LXI', -2221371318.636374), ('name_Ford Classic 1.6 Duratec Titanium', -2221371318.570758), ('name_Ford EcoSport 1.5 Diesel Ambiente BSIV', 1824055297.1038938), ('name_Ford EcoSport 1.5 Diesel Titanium BSIV', 1824055297.2814837), ('name_Ford EcoSport 1.5 Diesel Titanium Plus BSIV', 1824055297.3233936), ('name_Ford EcoSport 1.5 Diesel Trend BSIV', 1824055297.0424178), ('name_Ford EcoSport 1.5 Diesel Trend Plus BSIV', 1824055297.1401377), ('name_Ford EcoSport 1.5 Petrol Ambiente BSIV', -3795998659.4453163), ('name_Ford EcoSport 1.5 Petrol Titanium BSIV', -2974922271.023815), ('name_Ford EcoSport 1.5 Petrol Titanium Plus BSIV', -3795998659.156005), ('name_Ford EcoSport 1.5 Petrol Trend BSIV', -3795998659.430933), ('name_Ford EcoSport 1.5 TDCi Ambiente BSIV', -393729929.7849644), ('name_Ford EcoSport 1.5 TDCi Platinum Edition BSIV', -393729929.54605776), ('name_Ford EcoSport 1.5 TDCi Signature BSIV', -393729929.48104817), ('name_Ford EcoSport 1.5 TDCi Titanium BE BSIV', -393729929.51028943), ('name_Ford EcoSport 1.5 TDCi Titanium BSIV', -393729929.68703574), ('name_Ford EcoSport 1.5 TDCi Titanium Plus BE BSIV', -393729929.5054695), ('name_Ford EcoSport 1.5 TDCi Titanium Plus BSIV', -393729929.72543305), ('name_Ford EcoSport 1.5 TDCi Trend Plus BSIV', -393729929.72097975), ('name_Ford EcoSport 1.5 Ti VCT AT Titanium BE BSIV', 147687775.984211), ('name_Ford EcoSport 1.5 Ti VCT AT Titanium BSIV', 147687776.1057368), ('name_Ford EcoSport 1.5 Ti VCT MT Titanium BSIV', -317222360.256632), ('name_Ford EcoSport 1.5 Ti VCT MT Trend BSIV', -317222360.3230305), ('name_Ford EcoSport S Diesel BSIV', 1824055297.5545173), ('name_Ford Ecosport 1.0 Ecoboost Titanium Optional', -2356665350.973637), ('name_Ford Ecosport 1.5 DV5 MT Titanium', -1333939411.656618), ('name_Ford Ecosport 1.5 DV5 MT Titanium Optional', -1333939411.734816), ('name_Ford Ecosport 1.5 DV5 MT Trend', -1333939411.9074624), ('name_Ford Ecosport 1.5 Diesel Titanium', 1824055297.3948827), ('name_Ford Ecosport 1.5 Diesel Trend', 1824055297.3341057), ('name_Ford Ecosport 1.5 Petrol Ambiente', -2141508689.5359957), ('name_Ford Ecosport 1.5 Petrol Titanium', -2141508689.4974577), ('name_Ford Ecosport 1.5 Ti VCT AT Titanium', -237393949.92268324), ('name_Ford Ecosport 1.5 Ti VCT MT Titanium', -702304086.3343396), ('name_Ford Ecosport Sports Diesel', 1824055297.2801447), ('name_Ford Endeavour 2.2 Titanium AT 4X2', -526335561.97957265), ('name_Ford Endeavour 2.5L 4X2', 1461634765.0548146), ('name_Ford Endeavour 2.5L 4X2 MT', 1461634764.948009), ('name_Ford Endeavour 3.0L 4X2 AT', -1186689390.2404592), ('name_Ford Endeavour 3.0L 4X4 AT', -1186689389.5020988), ('name_Ford Endeavour 3.2 Titanium AT 4X4', -30924402.25274343), ('name_Ford Endeavour 4x2 XLT Limited Edition', -10486361998.898975), ('name_Ford Endeavour Hurricane Limited Edition', -5999399151.0814495), ('name_Ford Fiesta 1.4 Durasport EXI', 255942275.1816918), ('name_Ford Fiesta 1.4 Duratec EXI', 255942275.2411218), ('name_Ford Fiesta 1.4 Duratec EXI Limited Edition', 255942275.1801839), ('name_Ford Fiesta 1.4 Duratec ZXI', 255942275.16113424), ('name_Ford Fiesta 1.4 Duratorq EXI', 2133013801.024483), ('name_Ford Fiesta 1.4 Duratorq ZXI', 2133013801.109589), ('name_Ford Fiesta 1.4 SXi TDCi', 2593871572.7511225), ('name_Ford Fiesta 1.4 SXi TDCi ABS', 2133013801.063414), ('name_Ford Fiesta 1.4 TDCi EXI', 2133013801.138477), ('name_Ford Fiesta 1.4 ZXi Duratec', 255942275.1438124), ('name_Ford Fiesta 1.4 ZXi TDCi ABS', 2133013801.0793009), ('name_Ford Fiesta 1.4 ZXi TDCi LE', 2133013801.0560138), ('name_Ford Fiesta 1.4 ZXi TDCi Limited Edition', 2133013800.9638243), ('name_Ford Fiesta 1.5 TDCi Ambiente', -2026593194.8604207), ('name_Ford Fiesta 1.5 TDCi Titanium', -2026593194.6592753), ('name_Ford Fiesta 1.5 TDCi Trend', -2026593194.7672305), ('name_Ford Fiesta 1.6 Duratec EXI', -3661221298.7791653), ('name_Ford Fiesta 1.6 SXI ABS Duratec', 716800046.9999943), ('name_Ford Fiesta 1.6 ZXi ABS', -3661221298.8123717), ('name_Ford Fiesta Classic 1.4 Duratorq CLXI', 2593871572.7634406), ('name_Ford Fiesta Classic 1.4 Duratorq LXI', 2593871572.765993), ('name_Ford Fiesta Classic 1.4 SXI Duratorq', 2593871572.7759013), ('name_Ford Fiesta Classic 1.6 Duratec CLXI', -2221371318.7115498), ('name_Ford Fiesta Classic 1.6 Duratec LXI', -2221371318.6886926), ('name_Ford Fiesta Classic 1.6 SXI Duratec', -2221371318.5005083), ('name_Ford Fiesta Diesel Style', 1130302316.6678915), ('name_Ford Fiesta EXi 1.4 TDCi Ltd', 2133013801.0053477), ('name_Ford Fiesta Titanium 1.5 TDCi', 1130302316.579587), ('name_Ford Figo 1.2P Ambiente MT', -131746592.7725337), ('name_Ford Figo 1.2P Sports Edition MT', -131746592.50567025), ('name_Ford Figo 1.2P Titanium MT', -131746592.67270957), ('name_Ford Figo 1.2P Titanium Opt MT', -131746592.69193661), ('name_Ford Figo 1.2P Titanium Plus MT', -131746592.55432701), ('name_Ford Figo 1.2P Trend MT', -131746592.79799707), ('name_Ford Figo 1.5 Sports Edition MT', 438446886.58257234), ('name_Ford Figo 1.5D Ambiente MT', 438446886.3514062), ('name_Ford Figo 1.5D Base MT', 438446886.39345944), ('name_Ford Figo 1.5D Titanium MT', 438446886.527261), ('name_Ford Figo 1.5D Titanium Opt MT', 438446886.48758054), ('name_Ford Figo 1.5D Trend MT', 438446886.4620065), ('name_Ford Figo 1.5P Titanium AT', 886320287.3632857), ('name_Ford Figo Aspire 1.2 Ti-VCT Sports Edition', -131746592.57458238), ('name_Ford Figo Aspire 1.2 Ti-VCT Titanium', -131746592.50029963), ('name_Ford Figo Aspire 1.2 Ti-VCT Titanium Plus', -131746592.63101472), ('name_Ford Figo Aspire 1.2 Ti-VCT Trend', -131746592.63126145), ('name_Ford Figo Aspire 1.5 TDCi Ambiente', 438446886.47956675), ('name_Ford Figo Aspire 1.5 TDCi Sports Edition', 438446886.6148936), ('name_Ford Figo Aspire 1.5 TDCi Titanium', 438446886.61202085), ('name_Ford Figo Aspire 1.5 TDCi Titanium Opt', 438446886.5593189), ('name_Ford Figo Aspire 1.5 TDCi Trend', 438446886.53959036), ('name_Ford Figo Aspire 1.5 Ti-VCT Titanium', -5657831464.5851), ('name_Ford Figo Aspire Facelift', 2593871572.93626), ('name_Ford Figo Aspire Titanium', 150674659.51433083), ('name_Ford Figo Aspire Titanium Diesel', 1824055297.1288366), ('name_Ford Figo Diesel Celebration Edition', -2873750821.07937), ('name_Ford Figo Diesel EXI', 2133013800.934081), ('name_Ford Figo Diesel EXI Option', 2133013800.8741298), ('name_Ford Figo Diesel LXI', 2133013800.8863847), ('name_Ford Figo Diesel Titanium', 2133013800.9438775), ('name_Ford Figo Diesel ZXI', 2133013800.935765), ('name_Ford Figo Petrol EXI', -1132048546.0908937), ('name_Ford Figo Petrol LXI', -1132048546.152128), ('name_Ford Figo Petrol Titanium', -1132048546.0951524), ('name_Ford Figo Petrol ZXI', -1132048546.086046), ('name_Ford Figo Titanium Blu', 150674659.56428897), ('name_Ford Figo Titanium Diesel', 1824055297.0699537), ('name_Ford Figo Titanium Diesel BSIV', -3279641072.7061324), ('name_Ford Freestyle Titanium Diesel', -671997965.1631006), ('name_Ford Freestyle Titanium Diesel BSIV', -507163068.07873744), ('name_Ford Freestyle Titanium Petrol BSIV', -2100484779.014171), ('name_Ford Freestyle Titanium Plus Diesel', -671997965.271997), ('name_Ford Freestyle Titanium Plus Diesel BSIV', -507163068.0080925), ('name_Ford Freestyle Titanium Plus Petrol BSIV', -2100484778.967643), ('name_Ford Freestyle Trend Diesel', -507163067.93216944), ('name_Ford Freestyle Trend Diesel BSIV', -507163068.0886846), ('name_Ford Freestyle Trend Petrol BSIV', -2100484778.9901254), ('name_Ford Fusion 1.4 TDCi Diesel', 2133013800.981008), ('name_Ford Fusion Plus 1.4 TDCi Diesel', 2133013800.9360824), ('name_Ford Ikon 1.3 CLXi', -1132048545.6871057), ('name_Ford Ikon 1.3 Flair', -1132048545.7614338), ('name_Ford Ikon 1.4 TDCi DuraTorq', 2133013801.0053682), ('name_Ford Ikon 1.6 EXi NXt', -1986800381.8003614), ('name_Ford Ikon 1.6 Nxt', -1986800381.9539518), ('name_Ford Ikon 1.6 Really Sport', -1986800381.8141105), ('name_Ford Ikon 1.8 D', 2593871572.893654), ('name_Honda Amaze Anniversary Edition', 873726398.524537), ('name_Honda Amaze E Diesel BSIV', -507163068.3346879), ('name_Honda Amaze E Option i-DTEC', 873726398.504438), ('name_Honda Amaze E i-DTEC', 873726398.4532177), ('name_Honda Amaze E i-Dtech', 873726398.4954027), ('name_Honda Amaze E i-VTEC', 90953008.69220972), ('name_Honda Amaze EX i-Vtech', 90953008.68507707), ('name_Honda Amaze S AT i-Vtech', 555863144.9965742), ('name_Honda Amaze S CVT Diesel BSIV', 2277694288.827245), ('name_Honda Amaze S CVT Petrol BSIV', -177462177.79276806), ('name_Honda Amaze S CVT i-VTEC', -177462177.54767913), ('name_Honda Amaze S Diesel', -507163068.4026792), ('name_Honda Amaze S Diesel BSIV', -507163068.1896395), ('name_Honda Amaze S Option i-DTEC', 873726398.4573776), ('name_Honda Amaze S Petrol BSIV', -642372314.0926182), ('name_Honda Amaze S i-DTEC', 873726398.536313), ('name_Honda Amaze S i-Dtech', 873726398.4527923), ('name_Honda Amaze S i-VTEC', 90953008.84072408), ('name_Honda Amaze S i-Vtech', 90953008.66356425), ('name_Honda Amaze SX i-DTEC', 873726398.565064), ('name_Honda Amaze V CVT Petrol BSIV', -177462177.55555505), ('name_Honda Amaze V Petrol BSIV', -642372314.0636294), ('name_Honda Amaze VX Diesel BSIV', -507163068.1639173), ('name_Honda Amaze VX O iDTEC', 873726398.4178214), ('name_Honda Amaze VX Petrol BSIV', -642372314.0700035), ('name_Honda Amaze VX i-DTEC', 873726398.5585248), ('name_Honda Amaze VX i-VTEC', 90953008.73956372), ('name_Honda Amaze i-VTEC Privilege Edition', 90953008.78723113), ('name_Honda Aord 2.4 A/T', -2825695856.607803), ('name_Honda Aord 2.4 AT', -2825695856.613436), ('name_Honda Aord 2.4 M/T', -3290605992.777959), ('name_Honda Aord 2.4 MT', -3290605993.0556536), ('name_Honda Aord V6 AT', -3605724765.0825152), ('name_Honda Aord VTi-L MT', -2484763965.2481694), ('name_Honda BR-V i-DTEC S MT', 873726399.3869617), ('name_Honda BR-V i-DTEC VX MT', 873726399.3802638), ('name_Honda BR-V i-VTEC E MT', -361909002.0925216), ('name_Honda BR-V i-VTEC S MT', -361909001.9933679), ('name_Honda BR-V i-VTEC VX MT', -361909001.823159), ('name_Honda BRV i-DTEC V MT', 873726399.4183285), ('name_Honda BRV i-VTEC V CVT', 103001134.53785548), ('name_Honda BRV i-VTEC V MT', -361909001.8856344), ('name_Honda Brio 1.2 E MT', -131746592.7650414), ('name_Honda Brio 1.2 S MT', -131746592.7182137), ('name_Honda Brio 1.2 VX MT', -131746592.64819607), ('name_Honda Brio E MT', -131746592.76563016), ('name_Honda Brio Exclusive Edition', -131746592.72917958), ('name_Honda Brio S MT', -131746592.716397), ('name_Honda Brio V MT', -131746592.6560516), ('name_Honda CR-V 2.0L 2WD AT', -3063760915.2978425), ('name_Honda CR-V 2.4 4WD AT', -4386795815.2526455), ('name_Honda CR-V 2.4L 4WD', 513609407.3958845), ('name_Honda CR-V 2.4L 4WD AT', 978519543.593882), ('name_Honda CR-V 2.4L 4WD AT AVN', 1903778062.0541332), ('name_Honda CR-V 2.4L 4WD MT', 513609407.15052885), ('name_Honda City 1.3 EXI', 5050604390.816613), ('name_Honda City 1.5 E MT', 384459874.0774563), ('name_Honda City 1.5 EXI', 3724325357.312083), ('name_Honda City 1.5 GXI', 3724325357.4595523), ('name_Honda City 1.5 GXI CVT', 1181710183.4655051), ('name_Honda City 1.5 S Inspire', 384459874.095599), ('name_Honda City 1.5 S MT', 384459874.102733), ('name_Honda City 1.5 V AT', 849370010.5824481), ('name_Honda City 1.5 V Elegance', 384459874.078179), ('name_Honda City 1.5 V Inspire', 384459874.0984517), ('name_Honda City 1.5 V MT', 384459874.09370685), ('name_Honda City 1.5 V MT Exclusive', 384459874.0379862), ('name_Honda City 1.5 V MT Sunroof', -1125143173.5644588), ('name_Honda City 2017-2020 EXi', -2934228927.8490696), ('name_Honda City 2017-2020 GXi', -2934228927.809107), ('name_Honda City 2017-2020 VTEC', -1260860660.894651), ('name_Honda City Corporate Edition', -1125143173.7386408), ('name_Honda City E', -1125143173.6842258), ('name_Honda City S', -3595683126.071017), ('name_Honda City V AT', -660233037.3250012), ('name_Honda City V MT', -1125143173.8575637), ('name_Honda City VX CVT', -1418560978.0553281), ('name_Honda City ZXi AT', 4189235493.5704656), ('name_Honda City i DTEC E', 873726398.6058599), ('name_Honda City i DTEC S', 873726398.6499805), ('name_Honda City i DTEC SV', 873726398.6497769), ('name_Honda City i DTEC V', 873726398.706115), ('name_Honda City i DTEC VX', 873726398.8005066), ('name_Honda City i DTEC VX Option', 873726398.8492258), ('name_Honda City i DTec E', 873726398.7986437), ('name_Honda City i DTec S', 873726398.6752636), ('name_Honda City i DTec SV', 873726398.7314847), ('name_Honda City i DTec V', 873726398.6126778), ('name_Honda City i DTec VX', 873726398.9680834), ('name_Honda City i VTEC CVT SV', 103001133.97687097), ('name_Honda City i VTEC CVT VX', 103001134.22100952), ('name_Honda City i VTEC E', -361909002.3249207), ('name_Honda City i VTEC S', -361909002.4940692), ('name_Honda City i VTEC SV', -361909002.49556893), ('name_Honda City i VTEC V', -361909002.2842833), ('name_Honda City i VTEC VX', -361909002.21908534), ('name_Honda City i VTEC VX Option', -361909002.28681153), ('name_Honda City i VTEC VX Option BL', -361909002.0746126), ('name_Honda City i-DTEC V', -2994252565.8816), ('name_Honda City i-DTEC VX', -2994252565.960814), ('name_Honda City i-DTEC ZX', -2994252566.064403), ('name_Honda City i-VTEC CVT V', -1418560978.2917752), ('name_Honda City i-VTEC CVT VX', -1418560978.389715), ('name_Honda City i-VTEC CVT ZX', -1418560978.2136414), ('name_Honda City i-VTEC S', -361909002.5100969), ('name_Honda City i-VTEC V', -1883471114.9629142), ('name_Honda City i-VTEC VX', -1883471114.5795872), ('name_Honda Civic 1.8 (E) MT', 303519439.1298049), ('name_Honda Civic 1.8 S AT', 768429575.3868672), ('name_Honda Civic 1.8 S MT', 303519439.1478483), ('name_Honda Civic 1.8 V AT', 768429575.4141098), ('name_Honda Civic 1.8 V MT', 303519439.21192664), ('name_Honda Civic 1.8 V MT Inspire', -3087176997.2329183), ('name_Honda Civic Hybrid', -981317389.0250297), ('name_Honda Civic ZX', -4684745808.898479), ('name_Honda Civic ZX Diesel BSIV', 2261531401.572348), ('name_Honda Jazz 1.2 S AT i VTEC', -177462177.66710144), ('name_Honda Jazz 1.2 S i VTEC', -642372313.9119948), ('name_Honda Jazz 1.2 SV i VTEC', -642372313.8735188), ('name_Honda Jazz 1.2 V AT i VTEC', -177462177.6284655), ('name_Honda Jazz 1.2 V AT i VTEC Privilege', -177462177.67498478), ('name_Honda Jazz 1.2 V i VTEC', -642372313.9390268), ('name_Honda Jazz 1.2 VX i VTEC', -642372313.9802537), ('name_Honda Jazz 1.5 E i DTEC', 873726398.3635418), ('name_Honda Jazz 1.5 S i DTEC', 873726398.5846468), ('name_Honda Jazz 1.5 V i DTEC', 873726398.5461246), ('name_Honda Jazz 1.5 VX i DTEC', 873726398.5832162), ('name_Honda Jazz Basic', -642372314.4017743), ('name_Honda Jazz Select Edition Active', -642372313.9705625), ('name_Honda Jazz V', -642372313.9954506), ('name_Honda Jazz V CVT', -177462177.4961312), ('name_Honda Jazz V Diesel', 873726398.4291339), ('name_Honda Jazz VX', -642372313.8504627), ('name_Honda Jazz VX CVT', -177462177.51772267), ('name_Honda Jazz VX Diesel', 873726398.5165563), ('name_Honda Mobilio RS Option i DTEC', 873726399.3560313), ('name_Honda Mobilio RS i DTEC', 873726399.082334), ('name_Honda Mobilio S i DTEC', 873726398.9417672), ('name_Honda Mobilio S i VTEC', -361909002.1148481), ('name_Honda Mobilio V i DTEC', 873726399.0225538), ('name_Honda Mobilio V i VTEC', -361909002.16828525), ('name_Honda WR-V i-DTEC S', 873726398.6976027), ('name_Honda WR-V i-DTEC VX', 873726398.8912435), ('name_Honda WR-V i-VTEC S', -642372313.8061748), ('name_Honda WR-V i-VTEC VX', -642372313.7977865), ('name_Hyundai Aent CRDi', 2201554850.2393823), ('name_Hyundai Aent DLS', 2201554850.3168283), ('name_Hyundai Aent Executive', -1366644370.4321837), ('name_Hyundai Aent Executive CNG', 485987104.1546236), ('name_Hyundai Aent Executive LPG', 438338154.4374339), ('name_Hyundai Aent GLE', -740237972.994776), ('name_Hyundai Aent GLE CNG', 1112393501.4756467), ('name_Hyundai Aent GLS', -740237972.9589217), ('name_Hyundai Aent GLS 1.6', -740237972.9049754), ('name_Hyundai Aent GLS 1.6 ABS', -740237972.9494268), ('name_Hyundai Aent GLX', -740237972.859572), ('name_Hyundai Aent Gvs', 716800047.0741034), ('name_Hyundai Aent VIVA CRDi', 2201554850.3504767), ('name_Hyundai Creta 1.4 CRDi Base', 1130302317.2419565), ('name_Hyundai Creta 1.4 CRDi S', 1130302317.2246823), ('name_Hyundai Creta 1.4 CRDi S Plus', 1130302317.4250605), ('name_Hyundai Creta 1.4 E Plus', 1130302317.1720543), ('name_Hyundai Creta 1.4 EX Diesel', 1130302317.287308), ('name_Hyundai Creta 1.6 CRDi AT S Plus', 1032388051.1171386), ('name_Hyundai Creta 1.6 CRDi AT SX Plus', 1032388051.144046), ('name_Hyundai Creta 1.6 CRDi Anniversary Edition', 567477914.6757692), ('name_Hyundai Creta 1.6 CRDi SX', 567477914.6816151), ('name_Hyundai Creta 1.6 CRDi SX Option', 567477914.695914), ('name_Hyundai Creta 1.6 CRDi SX Plus', 567477914.7617067), ('name_Hyundai Creta 1.6 CRDi SX Plus Dual Tone', 567477915.0202037), ('name_Hyundai Creta 1.6 Gamma SX Plus', 151483655.8876618), ('name_Hyundai Creta 1.6 SX', 151483656.12817836), ('name_Hyundai Creta 1.6 SX Automatic', 616393792.4215469), ('name_Hyundai Creta 1.6 SX Automatic Diesel', 1032388050.8360771), ('name_Hyundai Creta 1.6 SX Diesel', 567477914.5519062), ('name_Hyundai Creta 1.6 SX Option', 151483656.04041496), ('name_Hyundai Creta 1.6 SX Option Executive', 151483656.36892977), ('name_Hyundai Creta 1.6 VTVT E Plus', 151483655.6729858), ('name_Hyundai Creta 1.6 VTVT S', 151483655.7054467), ('name_Hyundai EON 1.0 Era Plus', 255942275.0538996), ('name_Hyundai EON 1.0 Kappa Magna Plus', 255942275.05253175), ('name_Hyundai EON 1.0 Kappa Magna Plus Optional', 255942275.09476846), ('name_Hyundai EON 1.0 Magna Plus Option O', 255942275.07964134), ('name_Hyundai EON D Lite', 157373422.1570646), ('name_Hyundai EON D Lite Plus', 157373422.11416698), ('name_Hyundai EON D Lite Plus Option', 157373422.05336574), ('name_Hyundai EON Era', 157373422.16995263), ('name_Hyundai EON Era Plus', 157373422.1446517), ('name_Hyundai EON Era Plus Sports Edition', 157373422.18582144), ('name_Hyundai EON LPG Era Plus', 1962355947.0598733), ('name_Hyundai EON Magna Optional', 157373422.22116742), ('name_Hyundai EON Magna Plus', 157373422.1520192), ('name_Hyundai EON Magna Plus Option', 157373422.22603604), ('name_Hyundai EON Sportz', 157373422.1480769), ('name_Hyundai Elantra CRDi', 739926015.5632862), ('name_Hyundai Elantra CRDi SX', 567477914.5935794), ('name_Hyundai Elantra CRDi SX Option AT', 1557654338.872953), ('name_Hyundai Elantra GLS', -2618405410.376475), ('name_Hyundai Elantra GT', -3083315546.5817623), ('name_Hyundai Elantra S', -1958292132.9814787), ('name_Hyundai Elantra SX', -1958292133.140176), ('name_Hyundai Elantra SX AT', -1493381996.7224722), ('name_Hyundai Elite i20 Asta Option BSIV', 324483324.50868744), ('name_Hyundai Elite i20 Asta Option CVT BSIV', 789393460.8197263), ('name_Hyundai Elite i20 Asta Option Diesel', 1130302316.904152), ('name_Hyundai Elite i20 Diesel Sportz', 1130302316.7739546), ('name_Hyundai Elite i20 Magna Plus BSIV', 324483324.2812913), ('name_Hyundai Elite i20 Petrol Asta', 324483324.3343656), ('name_Hyundai Elite i20 Petrol Asta Option', 324483324.4116079), ('name_Hyundai Elite i20 Petrol CVT Magna Executive', 789393460.5260847), ('name_Hyundai Elite i20 Petrol Magna Exective', 324483324.2412814), ('name_Hyundai Elite i20 Petrol Sportz', 324483324.34901184), ('name_Hyundai Elite i20 Sportz Plus BSIV', 324483324.36956686), ('name_Hyundai Elite i20 Sportz Plus CVT BSIV', 789393460.6609254), ('name_Hyundai Elite i20 Sportz Plus Diesel', 1130302316.8519428), ('name_Hyundai Elite i20 Sportz Plus Dual Tone BSIV', 324483324.34780633), ('name_Hyundai Getz 1.1 GLE', -2119903815.7321754), ('name_Hyundai Getz 1.1 GVS', -2119903815.6634724), ('name_Hyundai Getz 1.3 GVS', -1253944132.1395793), ('name_Hyundai Getz 1.5 CRDi GVS', 1174767439.4008245), ('name_Hyundai Getz GLE', -139551435.87757254), ('name_Hyundai Getz GLS', -139551435.8482584), ('name_Hyundai Getz GLX', -139551435.8489832), ('name_Hyundai Grand i10 1.2 CRDi Asta', 215611530.9318165), ('name_Hyundai Grand i10 1.2 CRDi Magna', 215611530.7555489), ('name_Hyundai Grand i10 1.2 CRDi Sportz', 215611530.77988416), ('name_Hyundai Grand i10 1.2 CRDi Sportz Option', 215611530.90121412), ('name_Hyundai Grand i10 1.2 Kappa Asta', 324483324.27295357), ('name_Hyundai Grand i10 1.2 Kappa Era', 324483324.1471172), ('name_Hyundai Grand i10 1.2 Kappa Magna AT', 789393460.5101174), ('name_Hyundai Grand i10 1.2 Kappa Magna BSIV', 324483324.1722725), ('name_Hyundai Grand i10 1.2 Kappa Sportz AT', 789393460.5711318), ('name_Hyundai Grand i10 1.2 Kappa Sportz BSIV', 324483324.2237105), ('name_Hyundai Grand i10 1.2 Kappa Sportz Dual Tone', 324483324.251605), ('name_Hyundai Grand i10 1.2 Kappa Sportz Option', 324483324.20406556), ('name_Hyundai Grand i10 AT Asta', 789393460.348542), ('name_Hyundai Grand i10 AT Sportz', 789393460.4365208), ('name_Hyundai Grand i10 Asta', 324483324.0899749), ('name_Hyundai Grand i10 Asta Option', 324483324.0680971), ('name_Hyundai Grand i10 CRDi Asta', 745022979.8688573), ('name_Hyundai Grand i10 CRDi Asta Option', 745022979.798611), ('name_Hyundai Grand i10 CRDi Magna', 745022979.805485), ('name_Hyundai Grand i10 CRDi SportZ Edition', 745022979.8382641), ('name_Hyundai Grand i10 CRDi Sportz', 745022979.801379), ('name_Hyundai Grand i10 Magna', 324483324.0402488), ('name_Hyundai Grand i10 Magna AT', 789393460.3773135), ('name_Hyundai Grand i10 Nios AMT Sportz', 789393460.5513242), ('name_Hyundai Grand i10 Nios Sportz', 324483324.3465603), ('name_Hyundai Grand i10 SportZ Edition', 324483324.2202989), ('name_Hyundai Grand i10 Sportz', 324483324.0484504), ('name_Hyundai Grand i10 Sportz Celebration Edition', 324483324.08342546), ('name_Hyundai Santa Fe 2WD AT', -1095148957.8522305), ('name_Hyundai Santa Fe 2WD MT', -1560059094.11771), ('name_Hyundai Santa Fe 4WD AT', -1095148958.0565672), ('name_Hyundai Santa Fe 4X4', -1560059094.2918105), ('name_Hyundai Santa Fe 4x4 AT', -1095148957.558979), ('name_Hyundai Santro AT', 1181710183.33188), ('name_Hyundai Santro AT CNG', 2569431521.6483912), ('name_Hyundai Santro Asta BSIV', 255942275.23065275), ('name_Hyundai Santro DX', 716800047.0554816), ('name_Hyundai Santro Era', 255942275.05150452), ('name_Hyundai Santro GLS I - Euro I', 716800047.2010264), ('name_Hyundai Santro GLS I - Euro II', 716800047.0287628), ('name_Hyundai Santro GS zipDrive - Euro I', 716800047.1580347), ('name_Hyundai Santro GS zipDrive - Euro II', 716800047.0159565), ('name_Hyundai Santro GS zipPlus', 716800047.1227963), ('name_Hyundai Santro LE', 716800047.0879667), ('name_Hyundai Santro LP - Euro II', 716800047.0411879), ('name_Hyundai Santro LP zipPlus', 716800047.0807858), ('name_Hyundai Santro LS zipPlus', 716800047.1545389), ('name_Hyundai Santro Magna', -3593817113.7595334), ('name_Hyundai Santro Magna AMT BSIV', 720852411.4050392), ('name_Hyundai Santro Magna BSIV', 255942275.12372762), ('name_Hyundai Santro Sportz AMT BSIV', 720852411.4477435), ('name_Hyundai Santro Sportz BSIV', 255942275.1284068), ('name_Hyundai Santro Xing (Non-AC)', 147973347.79906046), ('name_Hyundai Santro Xing ABS', 716800046.8945969), ('name_Hyundai Santro Xing Base', 716800046.9765707), ('name_Hyundai Santro Xing GL', 147973347.80541864), ('name_Hyundai Santro Xing GL CNG', 2569431521.4290824), ('name_Hyundai Santro Xing GL LPG', 305213924.9201073), ('name_Hyundai Santro Xing GL PLUS CNG', 2569431521.4657035), ('name_Hyundai Santro Xing GL Plus', 147973347.71530175), ('name_Hyundai Santro Xing GL Plus LPG', 1952955872.5732949), ('name_Hyundai Santro Xing GLS', 147973347.74561208), ('name_Hyundai Santro Xing GLS CNG', 2000604822.2906158), ('name_Hyundai Santro Xing GLS LPG', 1952955872.6381187), ('name_Hyundai Santro Xing XG', 716800047.0086544), ('name_Hyundai Santro Xing XG AT', 1181710183.3595939), ('name_Hyundai Santro Xing XG AT eRLX Euro II', 1181710183.2653294), ('name_Hyundai Santro Xing XG AT eRLX Euro III', 1181710183.297689), ('name_Hyundai Santro Xing XK eRLX Euro II', -1499768599.826806), ('name_Hyundai Santro Xing XK eRLX EuroIII', -1499768599.7687922), ('name_Hyundai Santro Xing XL', 716800046.9619251), ('name_Hyundai Santro Xing XL eRLX Euro II', 716800047.0009267), ('name_Hyundai Santro Xing XO', 716800046.9822642), ('name_Hyundai Santro Xing XO eRLX Euro II', 716800046.9832661), ('name_Hyundai Santro Xing XP', 716800047.0326424), ('name_Hyundai Santro Xing XS', -1499768599.7743874), ('name_Hyundai Santro Xing XS eRLX Euro II', 716800047.0784048), ('name_Hyundai Santro Xing XS eRLX Euro III', 716800046.9903682), ('name_Hyundai Sonata 2.0L CRDi MT', -220074216.20910197), ('name_Hyundai Sonata 2.4 GDi MT', -2694899269.8411775), ('name_Hyundai Sonata 2.4L AT', -4392392005.964673), ('name_Hyundai Sonata CRDi M/T', -1477407772.5919979), ('name_Hyundai Tucson 2.0 e-VGT 2WD AT GLS', -3142264333.7334037), ('name_Hyundai Tucson CRDi', -3354825398.961328), ('name_Hyundai Venue SX Plus Dual Tone Turbo DCT', -27323130.867589694), ('name_Hyundai Venue SX Plus Turbo DCT BSIV', -27323131.02466266), ('name_Hyundai Verna 1.4 CRDi', 1130302316.8682976), ('name_Hyundai Verna 1.4 CX', 1130302316.8827994), ('name_Hyundai Verna 1.4 VTVT', -16535720.386200864), ('name_Hyundai Verna 1.6 CRDI', -4804596318.949775), ('name_Hyundai Verna 1.6 CRDI AT SX Option', 1032388050.7969562), ('name_Hyundai Verna 1.6 CRDi EX AT', -4339686182.654389), ('name_Hyundai Verna 1.6 CRDi EX MT', -4804596318.992806), ('name_Hyundai Verna 1.6 CRDi S', 567477914.3302305), ('name_Hyundai Verna 1.6 CRDi S Option', -1197514459.1722934), ('name_Hyundai Verna 1.6 CRDi SX', 567477914.3280412), ('name_Hyundai Verna 1.6 SX', -1197514459.304388), ('name_Hyundai Verna 1.6 SX CRDI (O) AT', -732604322.905697), ('name_Hyundai Verna 1.6 SX CRDi (O)', -1197514459.265288), ('name_Hyundai Verna 1.6 SX VTVT (O)', -302818772.59554946), ('name_Hyundai Verna 1.6 SX VTVT AT', 162091363.6851231), ('name_Hyundai Verna 1.6 VGT CRDi', -1197514459.4064782), ('name_Hyundai Verna 1.6 VTVT', -302818772.6490756), ('name_Hyundai Verna 1.6 VTVT AT SX', 162091364.0397789), ('name_Hyundai Verna 1.6 VTVT S', -302818772.4088536), ('name_Hyundai Verna 1.6 VTVT S Option', -4883269489.408188), ('name_Hyundai Verna 1.6 VTVT SX', -302818772.3461452), ('name_Hyundai Verna 1.6 Xi ABS', -504295167.6571766), ('name_Hyundai Verna CRDi', 1174767439.4436302), ('name_Hyundai Verna CRDi 1.4 EX', 1130302317.027175), ('name_Hyundai Verna CRDi 1.6 AT SX Option', 1032388050.998518), ('name_Hyundai Verna CRDi 1.6 AT SX Plus', 1032388050.8002994), ('name_Hyundai Verna CRDi 1.6 EX', 567477914.4406902), ('name_Hyundai Verna CRDi 1.6 SX', 567477914.4869624), ('name_Hyundai Verna CRDi 1.6 SX Option', 567477914.6737735), ('name_Hyundai Verna CRDi ABS', 1174767439.4333894), ('name_Hyundai Verna CRDi SX', 1174767439.5076787), ('name_Hyundai Verna CRDi SX ABS', 1174767439.5260835), ('name_Hyundai Verna S', -784327323.605737), ('name_Hyundai Verna SX', -784327323.6802126), ('name_Hyundai Verna SX CRDi AT', -732604323.0140711), ('name_Hyundai Verna SX Diesel', 1092744202.4115615), ('name_Hyundai Verna SX Opt', -784327323.5631238), ('name_Hyundai Verna Transform CRDi VGT SX ABS', 1174767439.4084978), ('name_Hyundai Verna Transform SX VGT CRDi', 1174767439.3272953), ('name_Hyundai Verna Transform SX VGT CRDi AT BS III', 1639677575.6335294), ('name_Hyundai Verna Transform SX VTVT', -504295167.63715893), ('name_Hyundai Verna Transform VGT CRDi', 1174767439.2889073), ('name_Hyundai Verna Transform VTVT', -504295167.61845523), ('name_Hyundai Verna VTVT 1.6 AT SX Option', 616393792.2823627), ('name_Hyundai Verna VTVT 1.6 SX', 151483655.78977183), ('name_Hyundai Verna VTVT 1.6 SX Option', 151483655.95761245), ('name_Hyundai Verna XXi ABS (Petrol)', -504295167.4646016), ('name_Hyundai Verna Xi (Petrol)', -504295167.6024473), ('name_Hyundai Xcent 1.1 CRDi Base', -1119574763.7580698), ('name_Hyundai Xcent 1.1 CRDi S', -1119574763.7183437), ('name_Hyundai Xcent 1.1 CRDi S Option', -1005156182.2696412), ('name_Hyundai Xcent 1.1 CRDi SX', -1119574763.6683612), ('name_Hyundai Xcent 1.1 CRDi SX Option', -1119574763.621317), ('name_Hyundai Xcent 1.2 CRDi E', 215611530.82763147), ('name_Hyundai Xcent 1.2 CRDi E Plus', 215611530.80776787), ('name_Hyundai Xcent 1.2 CRDi S', 215611530.93725005), ('name_Hyundai Xcent 1.2 CRDi SX', 215611530.9055481), ('name_Hyundai Xcent 1.2 CRDi SX Option', 215611530.96179423), ('name_Hyundai Xcent 1.2 Kappa AT S Option', 789393460.4665895), ('name_Hyundai Xcent 1.2 Kappa AT SX Option', 789393460.3430072), ('name_Hyundai Xcent 1.2 Kappa Base', 324483323.96879935), ('name_Hyundai Xcent 1.2 Kappa S', 324483324.0352715), ('name_Hyundai Xcent 1.2 Kappa S Option', 324483324.25761926), ('name_Hyundai Xcent 1.2 Kappa SX', 324483324.0803379), ('name_Hyundai Xcent 1.2 Kappa SX Option', 324483324.1243241), ('name_Hyundai Xcent 1.2 Kappa SX Option AT', 789393460.4405288), ('name_Hyundai Xcent 1.2 VTVT E', 324483324.08600307), ('name_Hyundai Xcent 1.2 VTVT E Plus', 324483324.1456037), ('name_Hyundai Xcent 1.2 VTVT S', 324483324.2174635), ('name_Hyundai Xcent 1.2 VTVT S AT', 789393460.5529977), ('name_Hyundai Xcent 1.2 VTVT SX', 324483324.1443512), ('name_Hyundai Xcent 1.2 VTVT SX Option', 324483324.33434534), ('name_Hyundai i10 Asta', -64287373.280725464), ('name_Hyundai i10 Asta Sunroof AT', -554752971.2937131), ('name_Hyundai i10 Era', 255942275.19701314), ('name_Hyundai i10 Era 1.1', 255942275.16681892), ('name_Hyundai i10 Era 1.1 iTech SE', 255942275.26689404), ('name_Hyundai i10 LPG', -2945839821.9201126), ('name_Hyundai i10 Magna', -64287373.406754054), ('name_Hyundai i10 Magna 1.1L', 255942275.20226312), ('name_Hyundai i10 Magna 1.2 iTech SE', -64287373.402159095), ('name_Hyundai i10 Magna LPG', 2060924800.061048), ('name_Hyundai i10 Sportz', -64287373.39538985), ('name_Hyundai i10 Sportz 1.1L', 255942275.18947852), ('name_Hyundai i10 Sportz 1.1L LPG', 2060924800.0274143), ('name_Hyundai i10 Sportz 1.2', -64287373.388258696), ('name_Hyundai i10 Sportz 1.2 AT', 400622762.9385524), ('name_Hyundai i10 Sportz AT', 400622762.9309436), ('name_Hyundai i10 Sportz Option', -64287373.365764886), ('name_Hyundai i20 1.2 Asta', -1019663107.5680935), ('name_Hyundai i20 1.2 Asta Dual Tone', -1019663107.5574768), ('name_Hyundai i20 1.2 Asta Option', -1019663107.5396682), ('name_Hyundai i20 1.2 Magna', -1019663107.6263356), ('name_Hyundai i20 1.2 Magna Executive', -1019663107.6763432), ('name_Hyundai i20 1.2 Sportz', -1019663107.5963773), ('name_Hyundai i20 1.2 Spotz', -1019663107.6399443), ('name_Hyundai i20 1.4 Asta', 1130302316.785015), ('name_Hyundai i20 1.4 Asta (AT)', -900347419.6273772), ('name_Hyundai i20 1.4 Asta Dual Tone', 1130302316.7560241), ('name_Hyundai i20 1.4 Asta Option', 1130302316.777042), ('name_Hyundai i20 1.4 CRDi Asta', 1130302316.5895567), ('name_Hyundai i20 1.4 CRDi Era', 1130302316.580789), ('name_Hyundai i20 1.4 CRDi Magna', 1130302316.601794), ('name_Hyundai i20 1.4 CRDi Sportz', 1130302316.5906274), ('name_Hyundai i20 1.4 Magna AT', -1919324457.6579213), ('name_Hyundai i20 1.4 Sportz', 1130302316.6876855), ('name_Hyundai i20 2015-2017 Asta 1.2', -1019663107.5538249), ('name_Hyundai i20 2015-2017 Asta 1.4 CRDi', 1130302316.7406013), ('name_Hyundai i20 2015-2017 Asta Option 1.2', -1019663107.5348346), ('name_Hyundai i20 2015-2017 Asta Option 1.4 CRDi', 1130302316.8335924), ('name_Hyundai i20 2015-2017 Magna 1.2', -1019663107.6737162), ('name_Hyundai i20 2015-2017 Magna 1.4 CRDi', 1130302316.6258907), ('name_Hyundai i20 2015-2017 Sportz 1.2', -1019663107.6463342), ('name_Hyundai i20 2015-2017 Sportz 1.4 CRDi', 1130302316.6050303), ('name_Hyundai i20 2015-2017 Sportz Option 1.2', -1019663107.6970185), ('name_Hyundai i20 2015-2017 Sportz Option 1.4 CRDi', 1130302316.6354365), ('name_Hyundai i20 Active 1.2', 324483324.28632754), ('name_Hyundai i20 Active 1.2 S', 324483324.37928927), ('name_Hyundai i20 Active 1.2 SX', 324483324.36848813), ('name_Hyundai i20 Active 1.2 SX Dual Tone', 324483324.3891607), ('name_Hyundai i20 Active 1.2 SX with AVN', 324483324.3621407), ('name_Hyundai i20 Active 1.4', 1130302316.5971713), ('name_Hyundai i20 Active 1.4 S', 1130302316.729011), ('name_Hyundai i20 Active 1.4 SX', 1130302316.73013), ('name_Hyundai i20 Active 1.4 SX Dual Tone', 1130302316.7828555), ('name_Hyundai i20 Active 1.4 SX with AVN', 1130302316.71567), ('name_Hyundai i20 Active Base Petrol', 324483324.3108024), ('name_Hyundai i20 Active S Diesel', 1130302316.8933146), ('name_Hyundai i20 Active S Petrol', 324483324.4007707), ('name_Hyundai i20 Active SX Diesel', 1130302316.7946315), ('name_Hyundai i20 Active SX Petrol', 324483324.3590067), ('name_Hyundai i20 Asta', -1019663107.6013721), ('name_Hyundai i20 Asta (o)', -1019663107.4991765), ('name_Hyundai i20 Asta (o) 1.4 CRDi (Diesel)', 1130302316.5734577), ('name_Hyundai i20 Asta 1.2', -1019663107.5119314), ('name_Hyundai i20 Asta 1.4 CRDi', 1130302316.6654978), ('name_Hyundai i20 Asta 1.4 CRDi (Diesel)', 1130302316.6544695), ('name_Hyundai i20 Asta Option 1.2', -1019663107.5965364), ('name_Hyundai i20 Asta Option 1.4 CRDi', 1130302316.6954083), ('name_Hyundai i20 Asta Optional With Sunroof 1.2', -1019663107.6154398), ('name_Hyundai i20 Asta Optional with Sunroof 1.2', -1019663107.4755636), ('name_Hyundai i20 Diesel Asta Option', 1130302316.632146), ('name_Hyundai i20 Era 1.2', -1019663107.6549754), ('name_Hyundai i20 Era 1.4 CRDi', 1130302316.571244), ('name_Hyundai i20 Era Diesel', 1130302316.6474576), ('name_Hyundai i20 Magna', -1019663107.629393), ('name_Hyundai i20 Magna 1.2', -1019663107.6598265), ('name_Hyundai i20 Magna 1.4 CRDi', 1130302316.5912788), ('name_Hyundai i20 Magna 1.4 CRDi (Diesel)', 1130302316.6051676), ('name_Hyundai i20 Magna Optional 1.2', -6129502675.749994), ('name_Hyundai i20 Magna Optional 1.4 CRDi', 1130302316.2869284), ('name_Hyundai i20 Petrol CVT Asta', 789393460.7400116), ('name_Hyundai i20 Sportz 1.2', -1019663107.6415066), ('name_Hyundai i20 Sportz 1.4 CRDi', 1130302316.5883274), ('name_Hyundai i20 Sportz AT 1.4', -538434990.9116566), ('name_Hyundai i20 Sportz Diesel', 1130302316.4886944), ('name_Hyundai i20 Sportz Option 1.2', -1019663107.5993776), ('name_Hyundai i20 Sportz Option 1.4 CRDi', 1130302316.6313217), ('name_Isuzu D-Max V-Cross 4X4', -642239909.1626351), ('name_Isuzu D-Max V-Cross Z Prestige', -1552930758.6088936), ('name_Isuzu MU 7 AT Premium', -1786742021.3621864), ('name_Isuzu MUX 2WD', 139108598.20275056), ('name_Jaguar XE 2016-2019 2.0L Diesel Prestige', -3918872000.208532), ('name_Jaguar XF 2.0 Diesel Portfolio', -3918871999.593642), ('name_Jaguar XF 2.2 Litre Luxury', -2395481261.1146784), ('name_Jaguar XF 3.0 Litre S Premium Luxury', -2209584219.504774), ('name_Jaguar XF Diesel', -2209584219.536888), ('name_Jeep Compass 1.4 Limited', -3189804879.2614045), ('name_Jeep Compass 1.4 Limited Plus BSIV', -1584191811.244202), ('name_Jeep Compass 1.4 Sport', -3654715015.4305143), ('name_Jeep Compass 2.0 Limited', 110743425.67748354), ('name_Jeep Compass 2.0 Limited 4X4', 110743425.86109138), ('name_Jeep Compass 2.0 Limited Option', 110743425.52333832), ('name_Jeep Compass 2.0 Limited Option 4X4', 110743426.09285669), ('name_Jeep Compass 2.0 Limited Plus 4X4', -2784536104.710492), ('name_Jeep Compass 2.0 Longitude BSIV', 110743425.61294946), ('name_Jeep Compass 2.0 Longitude Option BSIV', 110743425.7220178), ('name_Jeep Wrangler 2016-2019 3.6 4X4', -1872376347.799267), ('name_Kia Seltos HTE D', -1949569706.5076704), ('name_Kia Seltos HTX Plus AT D', -1484659568.8305924), ('name_Land Rover Discovery Sport TD4 SE', -2661773431.8224287), ('name_Land Rover Freelander 2 TD4 HSE', 17374052.160308074), ('name_Land Rover Range Rover Evoque 2.2L Pure', -2395481261.8133597), ('name_Lexus ES 300h', -1565996954.2865174), ('name_MG Hector Sharp AT BSIV', -472239430.2535315), ('name_MG Hector Sharp DCT Dualtone', -472239430.11242247), ('name_MG Hector Smart DCT', -472239430.31627166), ('name_Mahindra Bolero 2011-2019 Camper', -3138038453.379078), ('name_Mahindra Bolero 2011-2019 DI - AC BS III', 377302926.79654485), ('name_Mahindra Bolero 2011-2019 DI 4WD NON AC', 377302926.486413), ('name_Mahindra Bolero 2011-2019 DI BSIII', 377302926.46743315), ('name_Mahindra Bolero 2011-2019 DI NON AC BS III SILVER', 377302926.7144132), ('name_Mahindra Bolero 2011-2019 DI NON AC BS III White', 377302926.68261033), ('name_Mahindra Bolero 2011-2019 EX AC', 2025044874.2026594), ('name_Mahindra Bolero 2011-2019 EX NON AC', 2025044873.9881034), ('name_Mahindra Bolero 2011-2019 Plus - AC BSIII', 377302926.7850002), ('name_Mahindra Bolero 2011-2019 Plus AC', 2025044874.436759), ('name_Mahindra Bolero 2011-2019 Plus Non AC', 2025044874.4517748), ('name_Mahindra Bolero 2011-2019 Plus Non AC BSIV PS', 377302926.63069075), ('name_Mahindra Bolero 2011-2019 Plus-AC Plus PS BSIII', 377302926.62811476), ('name_Mahindra Bolero 2011-2019 SLE', 2025044873.9966211), ('name_Mahindra Bolero 2011-2019 SLE BSIII', 2025044874.0251794), ('name_Mahindra Bolero 2011-2019 SLX', 2025044874.0637934), ('name_Mahindra Bolero 2011-2019 SLX 2WD BSIII', 2025044874.096466), ('name_Mahindra Bolero 2011-2019 Special Edition', 2025044874.0926003), ('name_Mahindra Bolero 2011-2019 ZLX', 2025044874.0906897), ('name_Mahindra Bolero 2011-2019 ZLX BSIII', 2025044874.105709), ('name_Mahindra Bolero 2011-2019 mHAWK D70 ZLX', 745022980.4664413), ('name_Mahindra Bolero B2', -217556008.9801836), ('name_Mahindra Bolero B4', -217556009.13347548), ('name_Mahindra Bolero DI', 377302926.31118023), ('name_Mahindra Bolero DI AC BSIII', 377302926.3839238), ('name_Mahindra Bolero DI BSIII', 377302926.3059675), ('name_Mahindra Bolero DI DX 7 Seater', 377302926.3120034), ('name_Mahindra Bolero DI DX 8 Seater', 377302926.47488075), ('name_Mahindra Bolero DI Non AC BSIII', 377302926.370051), ('name_Mahindra Bolero GLX', 2593871573.0114136), ('name_Mahindra Bolero LX', 2593871573.0310063), ('name_Mahindra Bolero LX Non AC BSIII', 377302926.4307773), ('name_Mahindra Bolero PLUS AC', 377302926.39031607), ('name_Mahindra Bolero PLUS AC BSIII', 377302926.2953259), ('name_Mahindra Bolero Pik-Up CBC 1.7T', 745022979.3952987), ('name_Mahindra Bolero Pik-Up FB 1.7T', 745022979.2809983), ('name_Mahindra Bolero Power Plus LX', 745022980.3991047), ('name_Mahindra Bolero Power Plus Plus AC BSIV PS', 377302926.8389775), ('name_Mahindra Bolero Power Plus Plus Non AC BSIV PS', 377302926.7354906), ('name_Mahindra Bolero Power Plus SLE', 745022980.3837512), ('name_Mahindra Bolero Power Plus SLX', 745022980.4512216), ('name_Mahindra Bolero Power Plus ZLX', 745022980.4616407), ('name_Mahindra Bolero SLE', 377302926.3620286), ('name_Mahindra Bolero SLE BSIII', 377302926.27565134), ('name_Mahindra Bolero SLX', 377302926.36185473), ('name_Mahindra Bolero SLX 2WD', 377302926.36547047), ('name_Mahindra Bolero SLX 2WD BSIII', 377302926.33328456), ('name_Mahindra Bolero SLX 4WD BSIII', 377302926.24675477), ('name_Mahindra Bolero VLX CRDe', 377302926.43022186), ('name_Mahindra Bolero XL 10 Seater Non AC', 377302926.4158495), ('name_Mahindra Bolero ZLX BSIII', 377302926.38814026), ('name_Mahindra Ingenio CRDe', 2593871572.9476066), ('name_Mahindra Jeep CL 500 MDI', 2593871573.2905297), ('name_Mahindra Jeep Classic', 2593871573.266631), ('name_Mahindra Jeep MM 540', 2593871573.294402), ('name_Mahindra Jeep MM 550 XDB', 2593871573.2063203), ('name_Mahindra KUV 100 D75 K4 Plus', -38725564.854078576), ('name_Mahindra KUV 100 D75 K6 Plus', -38725564.85608898), ('name_Mahindra KUV 100 D75 K6 Plus 5Str', -38725565.005117506), ('name_Mahindra KUV 100 D75 K8', -38725564.70367299), ('name_Mahindra KUV 100 D75 K8 Dual Tone', -38725564.47650908), ('name_Mahindra KUV 100 G80 K2', 324483324.0717831), ('name_Mahindra KUV 100 G80 K4 Plus', 324483324.1690848), ('name_Mahindra KUV 100 G80 K4 Plus 5Str', 324483323.9698265), ('name_Mahindra KUV 100 G80 K6 Plus', 324483324.3082845), ('name_Mahindra KUV 100 G80 K8', 324483324.41326463), ('name_Mahindra KUV 100 G80 K8 Dual Tone', 324483324.26631063), ('name_Mahindra KUV 100 mFALCON D75 K2', -38725564.75208989), ('name_Mahindra KUV 100 mFALCON D75 K2 Plus', -38725564.796563044), ('name_Mahindra KUV 100 mFALCON D75 K4', -38725564.833453834), ('name_Mahindra KUV 100 mFALCON D75 K6', -38725564.74033851), ('name_Mahindra KUV 100 mFALCON D75 K6 Plus', -38725564.769663095), ('name_Mahindra KUV 100 mFALCON D75 K8', -38725564.80442481), ('name_Mahindra KUV 100 mFALCON G80 K2', 324483324.1165269), ('name_Mahindra KUV 100 mFALCON G80 K4', 324483324.1000491), ('name_Mahindra KUV 100 mFALCON G80 K4 Plus 5str', 324483323.9880115), ('name_Mahindra KUV 100 mFALCON G80 K6 AW', 324483324.15135664), ('name_Mahindra KUV 100 mFALCON G80 K8', 324483324.26294166), ('name_Mahindra KUV 100 mFALCON G80 K8 5str', 324483324.008223), ('name_Mahindra KUV 100 mFALCON G80 K8 5str AW', 324483324.1262665), ('name_Mahindra KUV 100 mFALCON G80 K8 Dual Tone', 324483324.21788436), ('name_Mahindra Logan Diesel 1.5 DLE', 454372414.0859044), ('name_Mahindra Logan Diesel 1.5 DLS', 454372414.11877275), ('name_Mahindra Logan Petrol 1.4 GLE', -1080619051.0067022), ('name_Mahindra Marazzo M2 8Str BSIV', -1313360107.692724), ('name_Mahindra Marazzo M2 BSIV', -1313360107.8419132), ('name_Mahindra Marazzo M6', -1313360107.570945), ('name_Mahindra Marazzo M6 8Str', -1313360107.339542), ('name_Mahindra Marazzo M8', -1313360107.3054535), ('name_Mahindra Marshal DI', 2593871573.0689316), ('name_Mahindra NuvoSport N8', 511813970.3115103), ('name_Mahindra NuvoSport N8 AMT', 976724106.5682056), ('name_Mahindra Quanto C2', 511813970.19929814), ('name_Mahindra Quanto C4', 511813970.0863762), ('name_Mahindra Quanto C6', 511813969.9789882), ('name_Mahindra Quanto C8', 511813970.0812998), ('name_Mahindra Renault Logan 1.4 GLX Petrol', -1080619051.0472224), ('name_Mahindra Renault Logan 1.5 DLE Diesel', 454372414.167645), ('name_Mahindra Renault Logan 1.5 DLX Diesel', 454372414.20945746), ('name_Mahindra Renault Logan 1.5 Diesel DLSX', -540536333.932912), ('name_Mahindra Scorpio 1.99 S10', 52652932.23350213), ('name_Mahindra Scorpio 1.99 S10 4WD', 52652931.898108736), ('name_Mahindra Scorpio 1.99 S4', 52652931.85767715), ('name_Mahindra Scorpio 1.99 S4 Plus', 52652931.708100036), ('name_Mahindra Scorpio 1.99 S6 Plus', 52652931.87921475), ('name_Mahindra Scorpio 1.99 S8', 52652932.01243869), ('name_Mahindra Scorpio 2.6 CRDe', 52652931.84026999), ('name_Mahindra Scorpio 2.6 CRDe SLE', 52652931.561625496), ('name_Mahindra Scorpio 2.6 DX', -3240370752.408061), ('name_Mahindra Scorpio 2.6 SLX Turbo 7 Seater', 52652931.61146347), ('name_Mahindra Scorpio 2.6 SPORTZ CRDe', 52652931.76314616), ('name_Mahindra Scorpio 2.6 Turbo 7 Str', -3240370752.3377357), ('name_Mahindra Scorpio 2.6 Turbo 9 Str', -3240370752.24896), ('name_Mahindra Scorpio 2006-2009 LX 2.6 Turbo 9 Str', 52652931.950617924), ('name_Mahindra Scorpio 2006-2009 VLX 2WD 7 Str BSIII', 52652931.720618084), ('name_Mahindra Scorpio 2009-2014 EX 2WD 7S', 796452475.4567342), ('name_Mahindra Scorpio 2009-2014 EX 2WD 9S', 796452475.8861406), ('name_Mahindra Scorpio 2009-2014 EX 9S BSIII', 796452475.7783554), ('name_Mahindra Scorpio 2009-2014 SLE 7S BSIII', 52652931.72115245), ('name_Mahindra Scorpio 2009-2014 SLE 7S BSIV', 52652931.654110864), ('name_Mahindra Scorpio 2009-2014 VLX 2WD 7S BSIV', 52652931.62026832), ('name_Mahindra Scorpio EX', 796452475.5629677), ('name_Mahindra Scorpio Gateway 2WD', -447536085.5878129), ('name_Mahindra Scorpio Getaway', 52652931.40301217), ('name_Mahindra Scorpio Intelli Hybrid S10', 52652932.350191146), ('name_Mahindra Scorpio Intelli Hybrid S10 4WD', 52652932.07858371), ('name_Mahindra Scorpio Intelli Hybrid S6 Plus', 52652931.95405912), ('name_Mahindra Scorpio LX', 52652931.9978828), ('name_Mahindra Scorpio LX 2.6 Turbo', 52652931.47087335), ('name_Mahindra Scorpio LX BSIV', 52652932.09298159), ('name_Mahindra Scorpio M2DI', -447536085.4783266), ('name_Mahindra Scorpio S10 4WD', 52652932.06553459), ('name_Mahindra Scorpio S10 7 Seater', 52652932.1348494), ('name_Mahindra Scorpio S11 4WD BSIV', -4224053670.072414), ('name_Mahindra Scorpio S11 BSIV', -4224053670.0069337), ('name_Mahindra Scorpio S2 7 Seater', 796452475.5105329), ('name_Mahindra Scorpio S2 9 Seater', 796452475.8764869), ('name_Mahindra Scorpio S3 9 Seater BSIV', 796452475.6606019), ('name_Mahindra Scorpio S4 7 Seater', 52652931.81704109), ('name_Mahindra Scorpio S4 9 Seater', 52652932.503613755), ('name_Mahindra Scorpio S4 Plus', 52652931.870008565), ('name_Mahindra Scorpio S4 Plus 4WD', 52652931.83640543), ('name_Mahindra Scorpio S5 BSIV', 52652931.92056004), ('name_Mahindra Scorpio S7 120', 52652932.31750934), ('name_Mahindra Scorpio SLE BS IV', 52652931.78003656), ('name_Mahindra Scorpio SLE BSIII', 52652931.87142892), ('name_Mahindra Scorpio SLE BSIV', 52652931.758668475), ('name_Mahindra Scorpio SLX 2.6 Turbo 8 Str', 52652931.609773025), ('name_Mahindra Scorpio SLX 4WD', 52652931.80668891), ('name_Mahindra Scorpio SLX 4WD LE', 52652931.78972853), ('name_Mahindra Scorpio VLS 2.2 mHawk', 52652931.628861696), ('name_Mahindra Scorpio VLS AT 2.2 mHAWK', 517563068.1496697), ('name_Mahindra Scorpio VLX 2WD ABS AT BSIII', 517563068.1819115), ('name_Mahindra Scorpio VLX 2WD AIRBAG AT BSIV', 52652931.95067208), ('name_Mahindra Scorpio VLX 2WD AIRBAG BSIII', 52652931.919118725), ('name_Mahindra Scorpio VLX 2WD AIRBAG BSIV', 52652931.90548066), ('name_Mahindra Scorpio VLX 2WD AIRBAG SE BSIV', 52652931.90459594), ('name_Mahindra Scorpio VLX 2WD AT BSIII', 517563068.36930704), ('name_Mahindra Scorpio VLX 2WD BSIII', 52652931.758697845), ('name_Mahindra Scorpio VLX 2WD BSIV', 52652931.95408323), ('name_Mahindra Scorpio VLX 4WD AIRBAG AT BSIV', 517563068.28751993), ('name_Mahindra Scorpio VLX 4WD AIRBAG BSIV', 52652931.88864624), ('name_Mahindra Scorpio VLX AT AIRBAG BSIV', 517563068.19558275), ('name_Mahindra Ssangyong Rexton RX5', -535781111.2736841), ('name_Mahindra Ssangyong Rexton RX7', 1871198813.7588623), ('name_Mahindra Supro LX 8 Str', -2928998769.1572146), ('name_Mahindra TUV 300 Plus P4 BSIV', 52652931.98486684), ('name_Mahindra TUV 300 T10', 511813970.42481333), ('name_Mahindra TUV 300 T4', 511813970.2092563), ('name_Mahindra TUV 300 T4 Plus', 511813970.3389752), ('name_Mahindra TUV 300 T6', 511813970.3785395), ('name_Mahindra TUV 300 T6 Plus', 511813970.3744492), ('name_Mahindra TUV 300 T6 Plus AMT', 976724106.5790309), ('name_Mahindra TUV 300 T8', 511813970.33439875), ('name_Mahindra TUV 300 T8 AMT', 976724106.8605845), ('name_Mahindra TUV 300 mHAWK100 T8', 511813970.3479487), ('name_Mahindra TUV 300 mHAWK100 T8 AMT', 976724106.7194674), ('name_Mahindra TUV 300 mHAWK100 T8 Dual Tone', 511813970.432269), ('name_Mahindra Thar 4X4', -1632705997.6147296), ('name_Mahindra Thar CRDe', -1632705997.7513814), ('name_Mahindra Thar CRDe ABS', -1632705997.6842716), ('name_Mahindra Thar CRDe AC', -1632705997.8243554), ('name_Mahindra Thar DI 4X4', 899015732.8474289), ('name_Mahindra Thar DI 4X4 PS', 899015732.965619), ('name_Mahindra Verito 1.4 G4 BSIV', -1080619051.0669026), ('name_Mahindra Verito 1.5 D2 BSIII', 454372414.05600274), ('name_Mahindra Verito 1.5 D2 BSIV', 454372413.9885139), ('name_Mahindra Verito 1.5 D4 BSIII', 454372414.0624928), ('name_Mahindra Verito 1.5 D4 BSIV', 454372414.1404199), ('name_Mahindra Verito 1.5 D6 BSIII', 454372413.97873735), ('name_Mahindra Verito 1.5 D6 BSIV', 454372414.15773207), ('name_Mahindra Verito 1.6 G6 Executive BSIII', -2529200275.1679063), ('name_Mahindra Verito Vibe 1.5 dCi D4', 454372414.0612546), ('name_Mahindra Verito Vibe 1.5 dCi D6', 454372414.48988837), ('name_Mahindra Willys CJ 3B 4X4', 2593871573.96529), ('name_Mahindra XUV300 W6 Diesel BSIV', -447536084.9890294), ('name_Mahindra XUV300 W8', -504295167.3157614), ('name_Mahindra XUV300 W8 Option BSIV', -702304085.7979208), ('name_Mahindra XUV300 W8 Option Diesel BSIV', -447536084.6785199), ('name_Mahindra XUV300 W8 Option Dual Tone Diesel BSIV', -447536084.65083146), ('name_Mahindra XUV500 AT W10 AWD', -3759143533.8829913), ('name_Mahindra XUV500 AT W10 FWD', -3759143534.1018653), ('name_Mahindra XUV500 AT W6 1.99 mHawk', -3759143534.267629), ('name_Mahindra XUV500 AT W6 2WD', -3759143534.3397913), ('name_Mahindra XUV500 AT W8 FWD', -3759143534.1654625), ('name_Mahindra XUV500 AT W9 2WD', -1160995664.165146), ('name_Mahindra XUV500 W10 1.99 mHawk', -4224053670.158643), ('name_Mahindra XUV500 W10 2WD', -4224053670.282303), ('name_Mahindra XUV500 W10 AWD', -4224053669.668456), ('name_Mahindra XUV500 W11 AT BSIV', 638045338.1260585), ('name_Mahindra XUV500 W11 BSIV', 173135201.70705462), ('name_Mahindra XUV500 W11 Option AWD', -1750198435.1632092), ('name_Mahindra XUV500 W11 Option BSIV', 173135201.77257764), ('name_Mahindra XUV500 W4', -4224053670.7122903), ('name_Mahindra XUV500 W4 1.99 mHawk', -4224053670.606198), ('name_Mahindra XUV500 W5 BSIV', 173135201.21975154), ('name_Mahindra XUV500 W6 2WD', -4224053670.6709065), ('name_Mahindra XUV500 W7', 173135200.79930532), ('name_Mahindra XUV500 W7 BSIV', 173135201.22321075), ('name_Mahindra XUV500 W8 2WD', -4224053670.677186), ('name_Mahindra XUV500 W8 4WD', -4224053670.708767), ('name_Mahindra XUV500 W8 AWD', -4224053670.6702285), ('name_Mahindra XUV500 W9 2WD', -1625905800.5335975), ('name_Mahindra XUV500 W9 BSIV', 173135201.69991663), ('name_Mahindra Xylo D2', -2078226036.1605055), ('name_Mahindra Xylo D2 BS III', 510427155.87614185), ('name_Mahindra Xylo D2 BS IV', -2078226036.0899959), ('name_Mahindra Xylo D2 BSIV', -2078226036.2126176), ('name_Mahindra Xylo D2 Maxx', 510427156.55551606), ('name_Mahindra Xylo D4', 510427155.9283866), ('name_Mahindra Xylo D4 BSIII', -3354825399.154653), ('name_Mahindra Xylo D4 BSIV', -3354825399.020869), ('name_Mahindra Xylo E4', -3354825399.3257117), ('name_Mahindra Xylo E4 8S', -3354825399.07159), ('name_Mahindra Xylo E4 ABS BS IV', -3354825399.1584473), ('name_Mahindra Xylo E4 BS III', -3354825399.083688), ('name_Mahindra Xylo E4 BS IV', -3354825399.2771716), ('name_Mahindra Xylo E6', -3354825399.282931), ('name_Mahindra Xylo E8', -3354825399.0462403), ('name_Mahindra Xylo E8 ABS Airbag', -3354825399.025962), ('name_Mahindra Xylo E8 ABS Airbag BSIV', -3354825398.517567), ('name_Mahindra Xylo E8 BS4', 2593871572.8508606), ('name_Mahindra Xylo H4', -432257107.11574996), ('name_Mahindra Xylo H9', -432257106.7087824), ('name_Maruti 800 AC', 2117231335.8403006), ('name_Maruti 800 AC BSII', 2117231335.7998652), ('name_Maruti 800 AC BSIII', 2117231335.7739592), ('name_Maruti 800 AC LPG', 11622905523.99415), ('name_Maruti 800 AC Uniq', 2117231335.7974281), ('name_Maruti 800 DX', 2117231336.05664), ('name_Maruti 800 DX 5 Speed', 2117231335.959158), ('name_Maruti 800 DX BSII', 2117231335.9080572), ('name_Maruti 800 EX', 2117231335.878115), ('name_Maruti 800 EX 5 Speed', 2117231335.763961), ('name_Maruti 800 EX BSII', 2117231335.8159919), ('name_Maruti 800 Std', 2117231335.8182564), ('name_Maruti 800 Std BSII', 2117231335.828409), ('name_Maruti 800 Std BSIII', 2117231335.8161194), ('name_Maruti 800 Std MPFi', 2117231335.8515859), ('name_Maruti 800 Uniq', -1899446252.4563868), ('name_Maruti A-Star Lxi', -422349435.9767944), ('name_Maruti A-Star Vxi', -422349435.97836465), ('name_Maruti A-Star Zxi', -422349435.997595), ('name_Maruti Alto 800 Base', 525580380.428367), ('name_Maruti Alto 800 CNG LXI', 2378211854.9757147), ('name_Maruti Alto 800 CNG LXI Optional', 2378211854.999958), ('name_Maruti Alto 800 LX', 525580380.47954553), ('name_Maruti Alto 800 LX Optional', 525580380.3847564), ('name_Maruti Alto 800 LXI', 525580380.4806777), ('name_Maruti Alto 800 LXI Airbag', 525580380.5062155), ('name_Maruti Alto 800 LXI Anniversary Edition', 525580380.5173127), ('name_Maruti Alto 800 LXI BSIV', 525580380.4450303), ('name_Maruti Alto 800 LXI CNG', 2378211854.854213), ('name_Maruti Alto 800 LXI Optional', 525580380.45533025), ('name_Maruti Alto 800 VXI', 525580380.4592342), ('name_Maruti Alto 800 VXI BSIV', 525580380.4871602), ('name_Maruti Alto 800 VXI Optional', 525580380.4743936), ('name_Maruti Alto 800 VXI Plus', 525580380.4262538), ('name_Maruti Alto AX', 4168435588.347053), ('name_Maruti Alto Green LXi (CNG)', -2624998577.7368603), ('name_Maruti Alto K10 2010-2014 VXI', 716800046.8775315), ('name_Maruti Alto K10 Knightracer', 716800046.8700103), ('name_Maruti Alto K10 LX', 716800046.9198927), ('name_Maruti Alto K10 LXI', 716800046.8683311), ('name_Maruti Alto K10 LXI CNG', -3335406742.483905), ('name_Maruti Alto K10 VXI', 716800046.8906481), ('name_Maruti Alto K10 VXI AGS', 1181710183.2010076), ('name_Maruti Alto K10 VXI AGS Optional', 1181710183.0793946), ('name_Maruti Alto K10 VXI Airbag', 716800046.7762728), ('name_Maruti Alto K10 VXI Optional', 716800046.8794007), ('name_Maruti Alto LX', 3703525452.0486603), ('name_Maruti Alto LX BSIII', 3703525452.0260696), ('name_Maruti Alto LXI', 3703525452.1359286), ('name_Maruti Alto LXi', 3703525451.9765224), ('name_Maruti Alto LXi BSIII', 3703525452.0156975), ('name_Maruti Alto STD', 3703525451.944147), ('name_Maruti Alto Std', 3703525451.959909), ('name_Maruti Baleno Alpha', 1287626843.3073518), ('name_Maruti Baleno Alpha 1.2', -1677061710.6309636), ('name_Maruti Baleno Alpha 1.3', 2593871573.02058), ('name_Maruti Baleno Alpha Automatic', -1212151574.2325702), ('name_Maruti Baleno Alpha CVT', 1752536979.6424212), ('name_Maruti Baleno Alpha Diesel', 2593871573.0302386), ('name_Maruti Baleno Delta', 1287626843.1718745), ('name_Maruti Baleno Delta 1.2', -1677061710.7663114), ('name_Maruti Baleno Delta 1.3', 2593871572.9376807), ('name_Maruti Baleno Delta Automatic', -1212151574.4907186), ('name_Maruti Baleno Delta Diesel', 2593871572.9627895), ('name_Maruti Baleno LXI', -740237973.0263566), ('name_Maruti Baleno RS 1.0 Petrol', -4141848066.100567), ('name_Maruti Baleno Sigma', 1287626843.046413), ('name_Maruti Baleno Sigma 1.2', -1677061710.849663), ('name_Maruti Baleno Sigma 1.3', 2593871572.8977766), ('name_Maruti Baleno Zeta', 1287626843.1958296), ('name_Maruti Baleno Zeta 1.2', -1677061710.7165124), ('name_Maruti Baleno Zeta 1.3', 2593871573.01204), ('name_Maruti Baleno Zeta Automatic', -1212151574.3607736), ('name_Maruti Baleno Zeta Diesel', 2593871573.0611615), ('name_Maruti Celerio LDi', -1894822846.031647), ('name_Maruti Celerio LXI', 716800046.9145182), ('name_Maruti Celerio VDi', -1894822846.057513), ('name_Maruti Celerio VXI', 716800046.9502872), ('name_Maruti Celerio VXI AT', 1181710183.275457), ('name_Maruti Celerio VXI MT BSIV', 716800046.8783487), ('name_Maruti Celerio VXi AMT', 1181710183.196311), ('name_Maruti Celerio X VXI', 716800046.9209659), ('name_Maruti Celerio X VXI Option BSIV', 716800046.8735865), ('name_Maruti Celerio X ZXI', 716800046.6330906), ('name_Maruti Celerio X ZXI BSIV', 716800046.9066085), ('name_Maruti Celerio X ZXI Option BSIV', 716800046.8872342), ('name_Maruti Celerio ZDi', -1894822845.9745495), ('name_Maruti Celerio ZXI', 716800046.9965374), ('name_Maruti Celerio ZXI AMT BSIV', 1181710183.2405794), ('name_Maruti Celerio ZXI AT', 1181710183.2019851), ('name_Maruti Celerio ZXI MT BSIV', 716800047.0217439), ('name_Maruti Celerio ZXI Optional', 716800047.0213681), ('name_Maruti Celerio ZXI Optional AMT BSIV', 1181710183.2775023), ('name_Maruti Celerio ZXI Optional MT BSIV', 716800047.1091723), ('name_Maruti Ciaz 1.3 Alpha', 1130302316.8038912), ('name_Maruti Ciaz 1.3 Sigma', 1130302316.6827197), ('name_Maruti Ciaz 1.3 Zeta', 1130302316.853724), ('name_Maruti Ciaz 1.4 Alpha', -463861546.9668882), ('name_Maruti Ciaz 1.4 Sigma', -463861547.0211162), ('name_Maruti Ciaz AT ZXi', 1048589.2906853035), ('name_Maruti Ciaz Alpha Diesel', 1130302316.9815152), ('name_Maruti Ciaz Delta Automatic BSIV', 887624847.6512812), ('name_Maruti Ciaz Delta BSIV', 422714710.9992637), ('name_Maruti Ciaz RS ZDi Plus SHVS', 1130302316.8216412), ('name_Maruti Ciaz RS ZXi Plus', -463861547.15172625), ('name_Maruti Ciaz S 1.3', 1130302316.8953776), ('name_Maruti Ciaz VDI SHVS', 1130302316.676117), ('name_Maruti Ciaz VDi Option SHVS', 1130302316.7133858), ('name_Maruti Ciaz VDi Plus', 1130302316.631982), ('name_Maruti Ciaz VDi Plus SHVS', 1130302316.637247), ('name_Maruti Ciaz VXi Plus', -463861547.0286337), ('name_Maruti Ciaz ZDi', 1130302316.6710422), ('name_Maruti Ciaz ZDi Plus', 1130302316.6722436), ('name_Maruti Ciaz ZDi Plus SHVS', 1130302316.727189), ('name_Maruti Ciaz ZXi', -463861547.05712813), ('name_Maruti Ciaz ZXi Plus', -463861547.07632077), ('name_Maruti Ciaz Zeta', 422714711.2226632), ('name_Maruti Ciaz Zeta Diesel', 1130302316.9259624), ('name_Maruti Dzire LXI', -746769209.4302164), ('name_Maruti Dzire VXI', -746769209.3777866), ('name_Maruti Dzire ZXI', -746769209.2427702), ('name_Maruti Eeco 5 STR With AC Plus HTR CNG', -719303702.474437), ('name_Maruti Eeco 5 Seater AC BSIV', -2571935177.0415344), ('name_Maruti Eeco 7 Seater Standard BSIV', -2571935176.6887712), ('name_Maruti Eeco CNG 5 Seater AC', -179043096.20304656), ('name_Maruti Eeco CNG 5 Seater AC BSIV', -179043096.12277523), ('name_Maruti Eeco CNG HTR 5-STR', 352862874.56788486), ('name_Maruti Eeco Smiles 5 Seater AC', -2571935176.9790387), ('name_Maruti Eeco Smiles 7 Seater Standard', -2571935176.665051), ('name_Maruti Ertiga 1.5 VDI', -1090891837.60412), ('name_Maruti Ertiga 1.5 ZDI', -1090891837.6274743), ('name_Maruti Ertiga BSIV LXI', -463861546.75760585), ('name_Maruti Ertiga BSIV VXI', -463861546.61975217), ('name_Maruti Ertiga BSIV ZXI Plus', -463861546.47354925), ('name_Maruti Ertiga LDI', 1130302316.9081912), ('name_Maruti Ertiga LDI Option', 1130302317.1781554), ('name_Maruti Ertiga LXI', -1366644369.7925324), ('name_Maruti Ertiga SHVS LDI Option', 1130302317.2298243), ('name_Maruti Ertiga SHVS VDI', 1130302317.2465358), ('name_Maruti Ertiga SHVS ZDI', 1130302317.2875881), ('name_Maruti Ertiga SHVS ZDI Plus', 1130302317.256471), ('name_Maruti Ertiga VDI', 1130302317.0803072), ('name_Maruti Ertiga VXI', -1366644369.7430272), ('name_Maruti Ertiga VXI CNG Limited Edition', -3211688450.2125006), ('name_Maruti Ertiga VXI Limited Edition', -463861546.65239954), ('name_Maruti Ertiga VXI Petrol', -2847733451.456305), ('name_Maruti Ertiga ZDI', 1130302316.8514776), ('name_Maruti Ertiga ZDI Plus', 1130302317.3780134), ('name_Maruti Ertiga ZXI', -1366644369.708794), ('name_Maruti Ertiga ZXI Plus Petrol', -2847733451.203015), ('name_Maruti Esteem AX', 2198868381.250349), ('name_Maruti Esteem DI', -3004119100.5438347), ('name_Maruti Esteem LX', 716800046.8646004), ('name_Maruti Esteem LX - BSIII', 1733958244.7615533), ('name_Maruti Esteem Lxi', 716800047.1369631), ('name_Maruti Esteem Lxi - BSIII', 1733958244.4865768), ('name_Maruti Esteem Vxi - BSII', 716800046.9874109), ('name_Maruti Esteem Vxi - BSIII', 1733958244.6167393), ('name_Maruti Estilo LXI', 716800046.8995588), ('name_Maruti Gypsy King ST BSIII', -1019663106.8842131), ('name_Maruti Gypsy King Soft Top', -1019663106.3835166), ('name_Maruti Gypsy King Soft Top MPI BSIV', -1019663106.7776543), ('name_Maruti Ignis 1.2 AMT Alpha BSIV', 1752536979.3511024), ('name_Maruti Ignis 1.2 AMT Delta BSIV', 1752536979.274038), ('name_Maruti Ignis 1.2 AMT Zeta BSIV', 1752536979.3968463), ('name_Maruti Ignis 1.2 Alpha BSIV', 1287626843.2093413), ('name_Maruti Ignis 1.2 Delta BSIV', 1287626842.9821184), ('name_Maruti Ignis 1.2 Zeta BSIV', 1287626843.0682986), ('name_Maruti Ignis 1.3 AMT Zeta', 3058781709.182808), ('name_Maruti Ignis 1.3 Alpha', 2593871572.7758746), ('name_Maruti Ignis Zeta', 1287626843.084657), ('name_Maruti Ignis Zeta AMT', 1752536979.3227458), ('name_Maruti Omni 5 Seater BSIV', -897181095.0497766), ('name_Maruti Omni 5 Str STD', -897181094.6235784), ('name_Maruti Omni 8 Seater BSII', -897181094.455019), ('name_Maruti Omni 8 Seater BSIV', -897181095.0714364), ('name_Maruti Omni BSIII 8-STR W/ IMMOBILISER', 716800046.9118361), ('name_Maruti Omni CNG', -1660877203.551541), ('name_Maruti Omni E 8 Str STD', 716800046.9225773), ('name_Maruti Omni E MPI STD BS IV', 716800046.9007664), ('name_Maruti Omni LPG CARGO BSIII W IMMOBILISER', -7364953742.690596), ('name_Maruti Omni LPG STD BSIV', 2521782572.05726), ('name_Maruti Omni Limited Edition', 2117231336.3225799), ('name_Maruti Omni MPI CARGO BSIV', 716800046.2894596), ('name_Maruti Omni MPI STD BSIII 8-STR W/ IMMOBILISER', -897181094.4588081), ('name_Maruti Omni MPI STD BSIV', 716800046.4093494), ('name_Maruti Ritz Genus VDi', 796452474.9033517), ('name_Maruti Ritz LDi', 859030808.0688496), ('name_Maruti Ritz LXI', 1287626842.9297054), ('name_Maruti Ritz LXi', 1287626842.8740199), ('name_Maruti Ritz VDi', 859030808.119944), ('name_Maruti Ritz VDi ABS', 859030808.0798442), ('name_Maruti Ritz VXI', 1287626843.033067), ('name_Maruti Ritz VXi', 1287626842.98361), ('name_Maruti Ritz VXi (ABS) BS IV', 1287626842.9334726), ('name_Maruti Ritz ZDi', 859030808.1424618), ('name_Maruti Ritz ZXi', 1287626843.0856197), ('name_Maruti S-Cross 2017-2020 Alpha DDiS 200 SH', 1130302316.88153), ('name_Maruti S-Cross 2017-2020 Delta DDiS 200 SH', 1130302316.8407962), ('name_Maruti S-Cross 2017-2020 Sigma DDiS 200 SH', 1130302316.7437344), ('name_Maruti S-Cross 2017-2020 Zeta DDiS 200 SH', 1130302316.92547), ('name_Maruti S-Presso VXI AT', 1181710183.1488187), ('name_Maruti SX4 Celebration Diesel', 1130302316.1284668), ('name_Maruti SX4 Green Vxi (CNG)', -282641446.6425761), ('name_Maruti SX4 S Cross 2015-2017 DDiS 200 Alpha', 1130302316.6698172), ('name_Maruti SX4 S Cross 2015-2017 DDiS 200 Sigma', 1130302316.67306), ('name_Maruti SX4 S Cross 2015-2017 DDiS 200 Zeta', 1130302316.8050363), ('name_Maruti SX4 VDI', 1130302316.2498329), ('name_Maruti SX4 Vxi BSIII', -1684217142.8752136), ('name_Maruti SX4 Vxi BSIV', -2135272921.144178), ('name_Maruti SX4 ZDI', 1130302316.3207593), ('name_Maruti SX4 ZDI Leather', 1130302316.2610362), ('name_Maruti SX4 ZXI AT', -1670362784.8676994), ('name_Maruti SX4 ZXI AT Leather', 1244801356.2836194), ('name_Maruti SX4 ZXI MT BSIV', 779891219.8498102), ('name_Maruti SX4 ZXI MT BSIV Leather', -2135272921.0479076), ('name_Maruti SX4 Zxi BSIII', -1684217142.8508718), ('name_Maruti SX4 Zxi with Leather BSIII', -1684217142.9234982), ('name_Maruti Swift 1.2 DLX (Only Delhi)', 1287626843.046667), ('name_Maruti Swift 1.3 LXI', 716800047.0474112), ('name_Maruti Swift 1.3 VXi', 716800046.9952214), ('name_Maruti Swift 1.3 ZXI', 716800047.0503316), ('name_Maruti Swift AMT VDI', 3058781709.3193717), ('name_Maruti Swift AMT VVT VXI', 1752536979.5331407), ('name_Maruti Swift AMT VXI', 1752536979.3678923), ('name_Maruti Swift AMT ZDI', 3058781709.2169147), ('name_Maruti Swift AMT ZXI', 1752536979.405168), ('name_Maruti Swift AMT ZXI BSIV', 1752536979.4495726), ('name_Maruti Swift AMT ZXI Plus BSIV', 1752536979.4508007), ('name_Maruti Swift DDiS LDI', 2593871572.752476), ('name_Maruti Swift DDiS VDI', 2593871572.8927684), ('name_Maruti Swift Dzire 1.2 Lxi BSIV', 1287626843.0813947), ('name_Maruti Swift Dzire 1.2 Vxi BSIV', 1287626843.1129398), ('name_Maruti Swift Dzire AMT VDI', 3058781709.2874074), ('name_Maruti Swift Dzire AMT VXI', 1752536979.4534576), ('name_Maruti Swift Dzire AMT VXI BS IV', 1752536979.509317), ('name_Maruti Swift Dzire AMT ZDI', 3058781709.288774), ('name_Maruti Swift Dzire AMT ZDI Plus', 3058781709.3017354), ('name_Maruti Swift Dzire AMT ZXI', 1752536979.604037), ('name_Maruti Swift Dzire AMT ZXI Plus', 1752536979.5469358), ('name_Maruti Swift Dzire LDI', 2593871572.819474), ('name_Maruti Swift Dzire LDI Optional', 2593871572.8311234), ('name_Maruti Swift Dzire LDIX Limited Edition', 2593871572.805833), ('name_Maruti Swift Dzire LDi', 859030808.1558619), ('name_Maruti Swift Dzire LXI', 1287626843.0796447), ('name_Maruti Swift Dzire LXI 1.2 BS IV', 1287626843.070078), ('name_Maruti Swift Dzire LXi', 1287626843.0219467), ('name_Maruti Swift Dzire Ldi BSIV', 859030808.2620076), ('name_Maruti Swift Dzire Tour LDI', 2593871572.8007517), ('name_Maruti Swift Dzire Tour S CNG', 1287626843.0690186), ('name_Maruti Swift Dzire VDI', 2593871572.9401054), ('name_Maruti Swift Dzire VDI Optional', 2593871572.9419823), ('name_Maruti Swift Dzire VDi', 859030808.2159914), ('name_Maruti Swift Dzire VXI', 1287626843.116133), ('name_Maruti Swift Dzire VXI 1.2', 1287626843.1726985), ('name_Maruti Swift Dzire VXI 1.2 BS IV', 1287626843.2205627), ('name_Maruti Swift Dzire VXI Optional', 1287626843.141179), ('name_Maruti Swift Dzire VXi', 1287626843.037869), ('name_Maruti Swift Dzire VXi AT', 1752536979.459018), ('name_Maruti Swift Dzire Vdi BSIV', 859030808.2323234), ('name_Maruti Swift Dzire ZDI', 2593871572.978077), ('name_Maruti Swift Dzire ZDI Plus', 2593871573.06076), ('name_Maruti Swift Dzire ZDi', 859030808.2306958), ('name_Maruti Swift Dzire ZXI', 1287626843.2328682), ('name_Maruti Swift Dzire ZXI Plus', 1287626843.380507), ('name_Maruti Swift Dzire ZXI Plus BS IV', 1287626843.3072371), ('name_Maruti Swift Dzire ZXi', 1287626843.0811532), ('name_Maruti Swift Dzire Zdi BSIV', 859030808.2433212), ('name_Maruti Swift Glam', -1227341313.132715), ('name_Maruti Swift LDI', 2593871572.803064), ('name_Maruti Swift LDI BSIV', 2593871572.7336097), ('name_Maruti Swift LDI Optional', 2593871572.728296), ('name_Maruti Swift LDI SP Limited Edition', 2593871572.8574805), ('name_Maruti Swift LXI', 1287626842.9685967), ('name_Maruti Swift LXI Option', 1287626843.021059), ('name_Maruti Swift LXI Optional-O', -1709748102.4719028), ('name_Maruti Swift LXi BSIV', -7576879.3636972755), ('name_Maruti Swift Ldi BSIII', 796452474.9182365), ('name_Maruti Swift Ldi BSIV', 796452474.953356), ('name_Maruti Swift Lxi BSIII', -1227341313.0546663), ('name_Maruti Swift Star VDI', 2593871572.895835), ('name_Maruti Swift VDI', 2593871572.868623), ('name_Maruti Swift VDI BSIV', 2593871572.9011793), ('name_Maruti Swift VDI BSIV W ABS', 2593871572.8941526), ('name_Maruti Swift VDI Deca', 2593871572.747139), ('name_Maruti Swift VDI Optional', 2593871572.9214497), ('name_Maruti Swift VDI Windsong Limited edition', 859030808.237026), ('name_Maruti Swift VDi BSIII W/ ABS', 796452474.8616862), ('name_Maruti Swift VVT VXI', 1287626843.1301374), ('name_Maruti Swift VVT ZXI', 1287626843.2016609), ('name_Maruti Swift VXI', 1287626843.0763195), ('name_Maruti Swift VXI 2018', 1287626843.0709903), ('name_Maruti Swift VXI BSIII', -1227341313.1854131), ('name_Maruti Swift VXI BSIII W/ ABS', -1227341313.0245), ('name_Maruti Swift VXI BSIV', 1287626843.136833), ('name_Maruti Swift VXI Deca', 1287626843.0997896), ('name_Maruti Swift VXI Optional', 1287626843.1209698), ('name_Maruti Swift VXI Windsong Limited edition', -1709748102.4715357), ('name_Maruti Swift VXI with ABS', -7576879.230108271), ('name_Maruti Swift VXi BSIV', -7576879.2487483015), ('name_Maruti Swift Vdi BSIII', 796452474.9305878), ('name_Maruti Swift ZDI BSIV', 2593871572.981527), ('name_Maruti Swift ZDI Plus', 2593871572.907236), ('name_Maruti Swift ZDi', 2593871572.9248214), ('name_Maruti Swift ZXI', 1287626843.0696964), ('name_Maruti Swift ZXI 2018', 1287626843.3111281), ('name_Maruti Swift ZXI ABS', -1227341313.0873222), ('name_Maruti Swift ZXI BSIII', -1227341313.164016), ('name_Maruti Swift ZXI BSIV', 1287626843.283503), ('name_Maruti Swift ZXI Plus', 1287626843.191796), ('name_Maruti Vitara Brezza LDi', 1130302316.6256516), ('name_Maruti Vitara Brezza LDi Option', 1130302316.682891), ('name_Maruti Vitara Brezza VDi', 1130302316.7606645), ('name_Maruti Vitara Brezza VDi AMT', 1595212453.069483), ('name_Maruti Vitara Brezza VDi Option', 1130302316.7502267), ('name_Maruti Vitara Brezza ZDi', 1130302316.8420117), ('name_Maruti Vitara Brezza ZDi AMT', 1595212453.1608093), ('name_Maruti Vitara Brezza ZDi Plus', 1130302316.88907), ('name_Maruti Vitara Brezza ZDi Plus AMT', 1595212453.2711332), ('name_Maruti Vitara Brezza ZDi Plus AMT Dual Tone', 1595212453.0800557), ('name_Maruti Vitara Brezza ZDi Plus Dual Tone', 1130302316.8982756), ('name_Maruti Vitara Brezza ZXI Plus AT Dual Tone', -3790998030.220449), ('name_Maruti Wagon R AMT VXI', 1181710183.175497), ('name_Maruti Wagon R AMT VXI Option', 1181710183.2385564), ('name_Maruti Wagon R AMT VXI Plus', 1181710183.24242), ('name_Maruti Wagon R AX', 1181710183.2009077), ('name_Maruti Wagon R AX BSIII', 1181710183.0829234), ('name_Maruti Wagon R AX BSIV', 716800046.9897972), ('name_Maruti Wagon R AX Minor', 1181710183.2072434), ('name_Maruti Wagon R CNG LXI', -3066295562.670848), ('name_Maruti Wagon R Duo Lxi', -50325590.586918294), ('name_Maruti Wagon R LX', 716800047.0283419), ('name_Maruti Wagon R LX BSIII', 716800046.776934), ('name_Maruti Wagon R LX Minor', 716800046.9606628), ('name_Maruti Wagon R LXI', 716800047.0497375), ('name_Maruti Wagon R LXI BS IV', 716800046.9447423), ('name_Maruti Wagon R LXI BSIII', 716800046.8939029), ('name_Maruti Wagon R LXI CNG', -2676640.915953487), ('name_Maruti Wagon R LXI CNG Optional', -2676640.906097943), ('name_Maruti Wagon R LXI DUO BS IV', -226692045.696929), ('name_Maruti Wagon R LXI DUO BSIII', -3528514219.8532453), ('name_Maruti Wagon R LXI LPG BSIV', -50325590.61504922), ('name_Maruti Wagon R LXI Minor', 716800046.9520724), ('name_Maruti Wagon R LXI Optional', 716800046.9301012), ('name_Maruti Wagon R PRIMEA', 716800047.0465238), ('name_Maruti Wagon R Stingray VXI', 716800047.0184036), ('name_Maruti Wagon R Stingray VXI Optional', 716800047.0473769), ('name_Maruti Wagon R VXI', 716800047.0419571), ('name_Maruti Wagon R VXI 1.2', 1287626842.9770842), ('name_Maruti Wagon R VXI AMT 1.2', 1752536979.2116227), ('name_Maruti Wagon R VXI AMT Opt 1.2', 1752536979.2913034), ('name_Maruti Wagon R VXI BS IV', 716800046.9811085), ('name_Maruti Wagon R VXI BS IV with ABS', 716800046.9568318), ('name_Maruti Wagon R VXI BSIII', 716800046.8954642), ('name_Maruti Wagon R VXI Minor', 716800046.9830823), ('name_Maruti Wagon R VXI Opt 1.2', 1287626843.012052), ('name_Maruti Wagon R VXI Optional', 716800046.9727478), ('name_Maruti Wagon R VXI Plus', 716800046.9616156), ('name_Maruti Wagon R VXI Plus Optional', 716800046.957093), ('name_Maruti Wagon R VXi BSII', 716800046.889296), ('name_Maruti XL6 Alpha', -504295167.04296833), ('name_Maruti Zen Base', 517351222.2569049), ('name_Maruti Zen Classic', 517351222.41435915), ('name_Maruti Zen D', -3529328274.005822), ('name_Maruti Zen Estilo 1.1 LX BSIII', 716800046.7385033), ('name_Maruti Zen Estilo 1.1 LXI BSIII', 716800046.7608237), ('name_Maruti Zen Estilo 1.1 VXI BSIII', 716800046.7811366), ('name_Maruti Zen Estilo LX BSIV', 716800046.9875058), ('name_Maruti Zen Estilo LXI BS IV', 716800046.9029651), ('name_Maruti Zen Estilo LXI BSIII', 716800046.962765), ('name_Maruti Zen Estilo LXI Green (CNG)', 2569431521.3304257), ('name_Maruti Zen Estilo Sports', -3450642058.600325), ('name_Maruti Zen Estilo VXI BSIII', 716800047.0468266), ('name_Maruti Zen Estilo VXI BSIV', 716800046.8907955), ('name_Maruti Zen Estilo VXI BSIV W ABS', 716800046.8365233), ('name_Maruti Zen LX', 517351222.28857696), ('name_Maruti Zen LX - BS III', 517351222.1508285), ('name_Maruti Zen LX BSII', 517351222.4125841), ('name_Maruti Zen LXI', 517351222.23571193), ('name_Maruti Zen LXi - BS III', 517351222.18616676), ('name_Maruti Zen Std', 517351222.3636657), ('name_Maruti Zen VXI', 517351222.37940645), ('name_Maruti Zen VXi - BS III', 517351222.3016434), ('name_Mercedes-Benz B Class B180', -1709342220.0653546), ('name_Mercedes-Benz B Class B180 Sports', -3586413746.057581), ('name_Mercedes-Benz B Class B200 CDI Sport', -1072493267.9439193), ('name_Mercedes-Benz CLA 200 CGI Sport', -5019335859.056318), ('name_Mercedes-Benz E-Class E 220 CDI Avantgarde', 575653562.0674573), ('name_Mercedes-Benz E-Class E 250 Elegance', -2928614362.113088), ('name_Mercedes-Benz E-Class E250 CDI Avantgarde', -529830027.89507246), ('name_Mercedes-Benz E-Class E250 CDI Avantgrade', -3268771858.843631), ('name_Mercedes-Benz E-Class E250 CDI Elegance', -2667905198.7155523), ('name_Mercedes-Benz E-Class E250 Edition E', -529830028.20291823), ('name_Mercedes-Benz E-Class E270 CDI', -2020378966.5550637), ('name_Mercedes-Benz E-Class E350 Petrol', -1254084150.7549272), ('name_Mercedes-Benz E-Class Exclusive E 200 BSIV', -14343478.13653272), ('name_Mercedes-Benz GL-Class 220d 4MATIC Sport', 575653565.2699249), ('name_Mercedes-Benz GL-Class 350 CDI Blue Efficiency', -524454778.69809484), ('name_Mercedes-Benz GL-Class 350 CDI Luxury', -3355101731.244517), ('name_Mercedes-Benz GLA Class 200', -956113863.5168384), ('name_Mercedes-Benz GLA Class 200 CDI', 1899456233.893185), ('name_Mercedes-Benz GLA Class 200 CDI SPORT', 1899456234.6280797), ('name_Mercedes-Benz GLA Class 200 D Sport Edition', 1899456234.2776926), ('name_Mercedes-Benz GLC 220d 4MATIC', -4253433467.1990714), ('name_Mercedes-Benz M-Class ML 250 CDI', -1469869260.0417247), ('name_Mercedes-Benz M-Class ML 350 4Matic', -3253952989.964121), ('name_Mercedes-Benz M-Class ML 350 CDI', -524454779.2613762), ('name_Mercedes-Benz New C-Class 200 K AT', -3730356377.1020055), ('name_Mercedes-Benz New C-Class 220 CDI AT', 575653561.6227527), ('name_Mercedes-Benz New C-Class 250 CDI Classic', 575653561.5827231), ('name_Mercedes-Benz New C-Class C 200 AVANTGARDE', 1472640030.0724497), ('name_Mercedes-Benz New C-Class C 200 Kompressor Elegance AT', -3431388233.684542), ('name_Mercedes-Benz New C-Class C 200 Kompressor Elegance MT', -4195266513.1603227), ('name_Mercedes-Benz New C-Class C 220 CDI BE Avantgare', -2802987662.025313), ('name_Mercedes-Benz New C-Class C 220 CDI Elegance AT', 575653560.8223169), ('name_Mercedes-Benz New C-Class C 220 CDI Elegance MT', 110743427.0048872), ('name_Mercedes-Benz New C-Class C 250 CDI Elegance', -529830030.09525317), ('name_Mercedes-Benz S-Class S 350 CDI', 481289905.1627229), ('name_Mitsubishi Lancer 2.0 GLd', 2133013801.263057), ('name_Mitsubishi Lancer 2.0 L Diesel LX', 2133013800.973185), ('name_Mitsubishi Lancer 2.0 LXd', 2133013801.3662097), ('name_Mitsubishi Pajero 2.8 SFX BSIII Single Tone', -3039970431.2013035), ('name_Mitsubishi Pajero Sport 4X4', -2587288584.56813), ('name_Mitsubishi Pajero Sport 4X4 Dual Tone', -2587288583.9068356), ('name_Mitsubishi Pajero Sport Anniversary Edition', -2318194986.357632), ('name_Nissan Kicks XL BSIV', -3402778475.2810144), ('name_Nissan Kicks XV BSIV', -3402778475.0437346), ('name_Nissan Kicks XV D BSIV', 430844000.90319675), ('name_Nissan Micra Active XL Petrol', 716800046.843534), ('name_Nissan Micra Active XV', 716800046.98581), ('name_Nissan Micra Active XV S', 716800046.8494141), ('name_Nissan Micra Diesel XL', -426150753.6871601), ('name_Nissan Micra Diesel XL Optional', -426150753.5113436), ('name_Nissan Micra Diesel XV', -426150753.6032689), ('name_Nissan Micra Diesel XV Premium', -426150753.6642283), ('name_Nissan Micra Fashion Edition XL CVT', -1391824858.9119372), ('name_Nissan Micra XE', -1080619051.2174098), ('name_Nissan Micra XL', -1080619051.090675), ('name_Nissan Micra XL Optional', -1080619051.1182292), ('name_Nissan Micra XV', -1080619050.9982133), ('name_Nissan Micra XV CVT', -1391824859.0052028), ('name_Nissan Sunny Diesel XL', -553723999.5227714), ('name_Nissan Sunny Diesel XV', -553723999.4690087), ('name_Nissan Sunny XE', -3140332321.795654), ('name_Nissan Sunny XL', -3140332321.8252068), ('name_Nissan Sunny XL AT Special Edition', -1756461182.325882), ('name_Nissan Sunny XL D', -553723999.2928863), ('name_Nissan Sunny XV', -3140332321.8824105), ('name_Nissan Sunny XV D', -553723999.3346688), ('name_Nissan Sunny XV Special Edition', -3140332321.7593946), ('name_Nissan Teana XL', -3833210325.6991286), ('name_Nissan Terrano XE 85 PS', 52652931.63222381), ('name_Nissan Terrano XL', -1735760712.7306378), ('name_Nissan Terrano XL 110 PS', 430844000.70978296), ('name_Nissan Terrano XL 85 PS', 52652931.7065634), ('name_Nissan Terrano XL D Option', 3164698369.071483), ('name_Nissan Terrano XL Plus 85 PS', 52652931.59577649), ('name_Nissan Terrano XV 110 PS', 430844000.58007705), ('name_Nissan Terrano XV D Premium AMT', 895754137.0690088), ('name_Nissan Terrano XV Premium 110 PS', 430844000.534327), ('name_Opel Astra 1.6', -1915797090.6422749), ('name_Peugeot 309 GLD', 2593871573.1296825), ('name_Renault Captur 1.5 Diesel RXT', 453051248.9296569), ('name_Renault Duster 110PS Diesel RXZ Optional with Nav', 453051248.5590974), ('name_Renault Duster 110PS Diesel RxL', 453051248.62069327), ('name_Renault Duster 110PS Diesel RxL AMT', 917961384.934909), ('name_Renault Duster 110PS Diesel RxL Explore', 453051248.4587575), ('name_Renault Duster 110PS Diesel RxZ', 453051248.7321779), ('name_Renault Duster 110PS Diesel RxZ Plus', 453051248.47326785), ('name_Renault Duster 4x4', 453051248.5271211), ('name_Renault Duster 85PS Diesel RxE', 52652931.58387041), ('name_Renault Duster 85PS Diesel RxE Adventure', 52652931.61012633), ('name_Renault Duster 85PS Diesel RxL', 52652931.55306486), ('name_Renault Duster 85PS Diesel RxL Explore', 52652931.672110245), ('name_Renault Duster 85PS Diesel RxL Option', 52652931.57972809), ('name_Renault Duster 85PS Diesel RxL Optional', 52652931.59469481), ('name_Renault Duster 85PS Diesel RxL Optional with Nav', 52652931.53034057), ('name_Renault Duster 85PS Diesel RxL Plus', 52652931.55277909), ('name_Renault Duster 85PS Diesel RxS', 52652931.82971382), ('name_Renault Duster 85PS Diesel RxZ', 52652931.45564403), ('name_Renault Duster 85PS Diesel STD', 52652931.53854129), ('name_Renault Duster Adventure Edition', 453051248.6292478), ('name_Renault Duster Adventure Edition RXZ AWD', 453051248.47201204), ('name_Renault Duster Petrol RXS CVT', -2755559706.8561783), ('name_Renault Duster RXL AWD', 453051248.9067331), ('name_Renault Duster RXZ 110PS AMT BSIV', 895754136.6815289), ('name_Renault Fluence 1.5', 3188349045.533724), ('name_Renault Fluence 2.0', -990098550.4719495), ('name_Renault Fluence Diesel E4', -1057157401.8527466), ('name_Renault KWID 1.0', 1455432558.3376138), ('name_Renault KWID 1.0 RXL', 1455432558.2583063), ('name_Renault KWID 1.0 RXT 02 Anniversary Edition', 1455432558.3695905), ('name_Renault KWID 1.0 RXT AMT Opt', 1920342694.688048), ('name_Renault KWID 1.0 RXT BSIV', 1455432558.2709224), ('name_Renault KWID 1.0 RXT Optional', 1455432558.383804), ('name_Renault KWID AMT', 1920342694.6582668), ('name_Renault KWID AMT RXL', 1920342694.833617), ('name_Renault KWID Climber 1.0 AMT', 1920342694.7806373), ('name_Renault KWID Climber 1.0 MT', 1455432558.3755949), ('name_Renault KWID Climber 1.0 MT BSIV', 1455432558.2584944), ('name_Renault KWID RXE', 2411383916.971906), ('name_Renault KWID RXL', 2411383916.9879856), ('name_Renault KWID RXT', 2411383917.029786), ('name_Renault KWID RXT Optional', 2411383917.0185947), ('name_Renault Koleos 2.0 Diesel', 526052771.8234405), ('name_Renault Lodgy 85PS RxE', 52652932.21008803), ('name_Renault Lodgy 85PS RxE 7 Seater', 52652932.050239295), ('name_Renault Lodgy 85PS RxL', 52652932.21272071), ('name_Renault Lodgy 85PS RxZ', 52652932.30931419), ('name_Renault Lodgy 85PS Std', 52652932.15239026), ('name_Renault Lodgy Stepway 110PS RXZ 7S', 430844000.7070236), ('name_Renault Lodgy Stepway 85PS RXZ 8S', 52652932.357216656), ('name_Renault Lodgy World Edition 110PS', 430844001.18057704), ('name_Renault Pulse RxL', -426150753.5227024), ('name_Renault Pulse RxL Optional', -426150753.515148), ('name_Renault Pulse RxZ', -426150753.4498221), ('name_Renault Pulse RxZ Optional', -426150753.66850495), ('name_Renault Scala Diesel RxE', -553723999.3171219), ('name_Renault Scala Diesel RxL', -553723999.3891574), ('name_Renault Scala Diesel RxZ', -553723999.3519574), ('name_Renault Triber RXT BSIV', -3249093419.20672), ('name_Renault Triber RXZ', -2996646289.08377), ('name_Renault Triber RXZ BSIV', -3249093419.0997176), ('name_Skoda Fabia 1.2 MPI Ambition', -1018040717.333027), ('name_Skoda Fabia 1.2 MPI Ambition Plus', -1080619050.5957904), ('name_Skoda Fabia 1.2 TDI Active Plus', 796452474.716279), ('name_Skoda Fabia 1.2 TDI Ambition Plus', 796452474.72809), ('name_Skoda Fabia 1.2L Diesel Ambiente', 796452474.7262493), ('name_Skoda Fabia 1.2L Diesel Elegance', 796452474.9126209), ('name_Skoda Fabia 1.4 TDI Ambiente', 745022979.6724212), ('name_Skoda Fabia Scout 1.2 TDI', 796452474.6617348), ('name_Skoda Kodiaq 2.0 TDI Style', 526052774.5570196), ('name_Skoda Laura Ambiente', -2892236260.8518004), ('name_Skoda Laura Ambiente 1.9 PD', -2892236260.793583), ('name_Skoda Laura Ambiente 2.0 TDI CR MT', 430844000.36738014), ('name_Skoda Octavia Ambiente 1.9 TDI', -540536333.9222307), ('name_Skoda Octavia Ambiente 1.9 TDI MT', -540536333.9695281), ('name_Skoda Octavia Ambition 2.0 TDI MT', 939921958.5402086), ('name_Skoda Octavia Classic 1.9 TDI MT', -540536333.8327318), ('name_Skoda Octavia Elegance 1.8 TSI AT', -5011872491.130525), ('name_Skoda Octavia L and K 1.9 TDI (MT)', -1888548084.351604), ('name_Skoda Octavia L and K 1.9 TDI MT', 1130302316.6761637), ('name_Skoda Octavia RS 1.8 Turbo Petrol MT', -4020770926.7745614), ('name_Skoda Octavia Rider 1.9 AT TDI', -540536333.987228), ('name_Skoda Octavia Style Plus 2.0 TDI AT', 1404832096.5589986), ('name_Skoda Rapid 1.5 TDI AT Ambition', -1596689444.3131251), ('name_Skoda Rapid 1.5 TDI AT Ambition Plus', 573558021.131718), ('name_Skoda Rapid 1.5 TDI AT Style BSIV', 1837686494.9011765), ('name_Skoda Rapid 1.5 TDI AT Style Plus', -1596689444.2623334), ('name_Skoda Rapid 1.5 TDI Active', -2061599580.6807387), ('name_Skoda Rapid 1.5 TDI Ambition', -2061599580.6147466), ('name_Skoda Rapid 1.5 TDI Ambition BSIV', 1372776358.6634836), ('name_Skoda Rapid 1.5 TDI Ambition Plus', 108647885.14714424), ('name_Skoda Rapid 1.5 TDI Elegance', -2061599580.9281125), ('name_Skoda Rapid 1.5 TDI Elegance Black Package', -2061599580.483841), ('name_Skoda Rapid 1.5 TDI Style Plus Black Package', -2061599580.5373764), ('name_Skoda Rapid 1.6 MPI AT Ambition BSIV', 989464825.7176316), ('name_Skoda Rapid 1.6 MPI AT Elegance', -269832848.02345), ('name_Skoda Rapid 1.6 MPI AT Style Plus', -2444911113.373933), ('name_Skoda Rapid 1.6 MPI Active BSIV', 524554689.0757467), ('name_Skoda Rapid 1.6 MPI Ambition', -2480927667.142293), ('name_Skoda Rapid 1.6 MPI Ambition BSIV', 524554689.31862855), ('name_Skoda Rapid 1.6 MPI Ambition Plus', -734742984.4052848), ('name_Skoda Rapid 1.6 MPI Elegance', -734742984.4056268), ('name_Skoda Rapid 1.6 TDI Ambition', 113478684.6906245), ('name_Skoda Rapid 1.6 TDI Ambition Plus', 113478684.8266276), ('name_Skoda Rapid 1.6 TDI Ambition Plus Alloy', 113478684.78675343), ('name_Skoda Rapid 1.6 TDI Elegance', 113478684.86870208), ('name_Skoda Rapid Monte Carlo 1.5 TDI AT BSIV', 1837686494.9315834), ('name_Skoda Rapid Ultima 1.6 TDI Elegance', 113478684.7082344), ('name_Skoda Superb 1.8 TSI', 1181710183.442604), ('name_Skoda Superb Elegance 1.8 TSI AT', -2869773110.8446345), ('name_Skoda Superb Elegance 2.0 TDI CR AT', 526052771.44310755), ('name_Skoda Superb LK 1.8 TSI AT', -3365158939.855984), ('name_Skoda Yeti Ambition 4WD', -2848530010.1755023), ('name_Tata Aria Pleasure 4x2', 61142635.1597415), ('name_Tata Aria Prestige 4x2', 61142635.09489009), ('name_Tata Aria Pride', 61142635.25053707), ('name_Tata Aria Pure LX 4x2', -2017840896.1335022), ('name_Tata Bolt Quadrajet XE', 2593871572.8653564), ('name_Tata Bolt Quadrajet XM', 2593871572.981861), ('name_Tata Bolt Revotron XE', -746769209.4029843), ('name_Tata Bolt Revotron XM', -746769209.3562303), ('name_Tata Estate Std', 2593871573.0671644), ('name_Tata Harrier XZ', -652127632.6317408), ('name_Tata Harrier XZ BSIV', 61142636.2870705), ('name_Tata Harrier XZ Dark Edition BSIV', 61142636.20302223), ('name_Tata Harrier XZ Plus', -652127632.6716018), ('name_Tata Hexa XE', 61142635.68817921), ('name_Tata Hexa XM', -1651599525.732534), ('name_Tata Hexa XT', -1651599525.5030937), ('name_Tata Hexa XTA', -1186689389.3242445), ('name_Tata Indica DLS', 2593871572.8330746), ('name_Tata Indica DLX', 2593871572.817589), ('name_Tata Indica GLS BS IV', -391860976.6067005), ('name_Tata Indica V2 1.2 GLE BSIII', -391860976.7150777), ('name_Tata Indica V2 2001-2011 DLS BSIII', -3236955910.019932), ('name_Tata Indica V2 2001-2011 eLX', 123963846.95098624), ('name_Tata Indica V2 DL', -3236955910.0397997), ('name_Tata Indica V2 DL BSIII', -3236955910.0209866), ('name_Tata Indica V2 DLE BSII', -576150687.014176), ('name_Tata Indica V2 DLE BSIII', -3236955909.9930944), ('name_Tata Indica V2 DLG TC', 2133013801.3186882), ('name_Tata Indica V2 DLS', -576150687.016577), ('name_Tata Indica V2 DLS BSIII', -2441845642.4366484), ('name_Tata Indica V2 DLS TC', 2025044873.738064), ('name_Tata Indica V2 DLX', -576150687.0089126), ('name_Tata Indica V2 DLX BSII', -576150687.1363543), ('name_Tata Indica V2 DLX BSIII', -2441845642.4123607), ('name_Tata Indica V2 DLX TC', 2133013801.2112734), ('name_Tata Indica V2 DiCOR DLG BS-III', 745022979.6396537), ('name_Tata Indica V2 Emax CNG GLX', -100756811.09351507), ('name_Tata Indica V2 GLX BSIII', -1132048546.0951147), ('name_Tata Indica V2 LSi', -1871782291.092234), ('name_Tata Indica V2 Turbomax DLS BS IV', -1119574764.1203117), ('name_Tata Indica V2 eLS', 123963846.81752524), ('name_Tata Indica V2 eLX', 123963846.85293852), ('name_Tata Indica V2 eXeta GLS', -1871782290.9112864), ('name_Tata Indica Vista Aqua 1.3 Quadrajet', 796452474.6848502), ('name_Tata Indica Vista Aqua 1.3 Quadrajet (ABS)', 2593871572.6707873), ('name_Tata Indica Vista Aqua 1.3 Quadrajet BSIV', 796452474.6757866), ('name_Tata Indica Vista Aqua 1.4 TDI', -1119574764.1004057), ('name_Tata Indica Vista Aqua TDI BSIII', -1119574764.0653825), ('name_Tata Indica Vista Aura 1.2 Safire (ABS) 90hp BS IV', -1422699111.7687066), ('name_Tata Indica Vista Aura 1.2 Safire (ABS) BS IV', -1422699111.5743427), ('name_Tata Indica Vista Aura 1.2 Safire BSIV', -1422699111.7911665), ('name_Tata Indica Vista Aura 1.3 Quadrajet (ABS)', 796452474.5880814), ('name_Tata Indica Vista Aura 1.3 Quadrajet (ABS) BS IV', 796452474.7285157), ('name_Tata Indica Vista Aura Plus 1.3 Quadrajet BS IV', 796452474.76729), ('name_Tata Indica Vista Aura Safire Anniversary Edition', -1422699111.5201783), ('name_Tata Indica Vista Quadrajet 90 VX', 1130302316.1553016), ('name_Tata Indica Vista Quadrajet LS', 2593871572.667823), ('name_Tata Indica Vista Quadrajet VX', 2593871572.6969767), ('name_Tata Indica Vista Quadrajet VX Tech', 2593871572.661503), ('name_Tata Indica Vista Quadrajet ZX', 2593871572.750662), ('name_Tata Indica Vista Safire GLX', -1422699111.7811666), ('name_Tata Indica Vista TDI LS', 745022979.7636342), ('name_Tata Indica Vista TDI LX', 745022979.8548638), ('name_Tata Indica Vista Terra 1.4 TDI', -1119574763.810103), ('name_Tata Indica Vista Terra Quadrajet 1.3L', 796452474.6442764), ('name_Tata Indica Vista Terra Quadrajet 1.3L BS IV', 796452474.6535772), ('name_Tata Indica Vista Terra TDI BSIII', -1119574763.967062), ('name_Tata Indigo CR4', 745022979.6206561), ('name_Tata Indigo CS GLS BSIII', -1422699111.619257), ('name_Tata Indigo CS GLX BS III', -1422699111.3628263), ('name_Tata Indigo CS LE (TDI) BS-III', 123963847.26203549), ('name_Tata Indigo CS LS (TDI) BS III', 123963847.2199979), ('name_Tata Indigo CS LS (TDI) BS-III', 123963847.30454494), ('name_Tata Indigo CS LS DiCOR', 745022979.6820818), ('name_Tata Indigo CS LX (TDI) BS III', 123963847.22658321), ('name_Tata Indigo CS LX (TDI) BS-III', 123963847.2652353), ('name_Tata Indigo CS LX DiCOR', 745022979.6153015), ('name_Tata Indigo CS eGLS BS IV', -1422699111.8227262), ('name_Tata Indigo CS eGLX BS IV', -1422699111.8191721), ('name_Tata Indigo CS eLS BS IV', 123963846.98943779), ('name_Tata Indigo CS eLX BS IV', 123963847.0233323), ('name_Tata Indigo CS eVX', 123963847.05642962), ('name_Tata Indigo GLS', 1733958244.6458316), ('name_Tata Indigo GLX', 1733958244.5648134), ('name_Tata Indigo Grand Dicor', 745022979.6865907), ('name_Tata Indigo Grand Petrol', -2221371318.5517735), ('name_Tata Indigo LS', 745022979.9245244), ('name_Tata Indigo LS BSII', 745022979.9950168), ('name_Tata Indigo LX', 745022979.9184883), ('name_Tata Indigo TDI', 745022979.9662308), ('name_Tata Indigo V BSIII', 745022979.8500199), ('name_Tata Indigo VS', 745022979.747862), ('name_Tata Indigo eCS GLS', -1422699111.8496528), ('name_Tata Indigo eCS GLX', -1422699111.6452303), ('name_Tata Indigo eCS LE TDI BSIII', 123963847.24793896), ('name_Tata Indigo eCS LS TDI BSIII', 123963847.1856929), ('name_Tata Indigo eCS LX BSIV', 123963847.00543003), ('name_Tata Indigo eCS LX TDI BSIII', 123963847.16730879), ('name_Tata Indigo eCS VX BSIV', 123963847.0225407), ('name_Tata Manza Aqua Quadrajet', 1130302316.3850167), ('name_Tata Manza Aqua Quadrajet BS IV', 1130302316.1521256), ('name_Tata Manza Aqua Safire', -659210370.9970301), ('name_Tata Manza Aura (ABS) Quadrajet', 1130302316.588613), ('name_Tata Manza Aura (ABS) Quadrajet BS IV', 1130302316.2375607), ('name_Tata Manza Aura (ABS) Safire', -659210371.0229986), ('name_Tata Manza Aura (ABS) Safire BS IV', -659210371.4034454), ('name_Tata Manza Aura Plus Quadrajet', 1130302316.5471601), ('name_Tata Manza Aura Plus Quadrajet BS IV', 1130302316.6926942), ('name_Tata Manza Aura Plus Safire', -659210371.0693974), ('name_Tata Manza Aura Quadrajet', 1130302316.5990787), ('name_Tata Manza Aura Quadrajet BS IV', 1130302316.240757), ('name_Tata Manza Aura Safire', -659210371.035587), ('name_Tata Manza Club Class Quadrajet90 EX', 1130302316.4939363), ('name_Tata Manza Club Class Quadrajet90 LS', 1130302316.1266077), ('name_Tata Manza Club Class Quadrajet90 LX', 1130302316.473255), ('name_Tata Manza Club Class Quadrajet90 VX', 1130302316.435338), ('name_Tata Manza ELAN Quadrajet BS III', 1130302316.586584), ('name_Tata Manza ELAN Quadrajet BS IV', 1130302316.2440588), ('name_Tata Nano CX', -897181095.4264175), ('name_Tata Nano Cx', -897181095.4034305), ('name_Tata Nano Cx BSIII', -1870717713.678498), ('name_Tata Nano Cx BSIV', -897181095.3609694), ('name_Tata Nano LX', -897181095.4464358), ('name_Tata Nano LX SE', -1781237389.0683067), ('name_Tata Nano Lx', -897181095.4243973), ('name_Tata Nano Lx BSIV', -897181095.3722038), ('name_Tata Nano STD', -1899446253.135685), ('name_Tata Nano Twist XE', -1899446253.190102), ('name_Tata Nano Twist XT', -1899446253.1222465), ('name_Tata Nano XE', -897181095.5232216), ('name_Tata Nano XTA', -432270959.08356047), ('name_Tata New Safari 3L Dicor LX 4x2', 61142634.967992336), ('name_Tata New Safari 4X2', -3083315545.707148), ('name_Tata New Safari 4X4 EXI BSIII', -1206244020.125015), ('name_Tata New Safari DICOR 2.2 EX 4x2', 61142635.07706241), ('name_Tata New Safari DICOR 2.2 EX 4x4', -1625905801.62416), ('name_Tata New Safari DICOR 2.2 EX 4x4 BS IV', -1625905801.5432096), ('name_Tata New Safari DICOR 2.2 GX 4x2', -1625905801.2958097), ('name_Tata New Safari DICOR 2.2 GX 4x2 BS IV', 61142634.955165595), ('name_Tata New Safari DICOR 2.2 LX 4x2', 61142634.98696035), ('name_Tata New Safari DICOR 2.2 VX 4x2', -1625905801.3743608), ('name_Tata New Safari DICOR 2.2 VX 4x2 BS IV', 61142634.96313114), ('name_Tata New Safari DICOR 2.2 VX 4x4', -1625905801.4253178), ('name_Tata New Safari Dicor EX 4X2 BS IV', 61142635.18416423), ('name_Tata New Safari Dicor GX 4X2 BS IV', 61142634.961299084), ('name_Tata New Safari Dicor LX 4X2 BS IV', 61142635.023884416), ('name_Tata New Safari Dicor VX 4X2', 61142635.21709958), ('name_Tata New Safari Dicor VX 4X2 BS IV', 61142634.887131155), ('name_Tata Nexon 1.2 Revotron XE', -1446227525.5285754), ('name_Tata Nexon 1.2 Revotron XM', -1446227525.477414), ('name_Tata Nexon 1.2 Revotron XZ Plus', -1446227525.2579746), ('name_Tata Nexon 1.2 Revotron XZ Plus Dual Tone', -1446227525.2819095), ('name_Tata Nexon 1.2 Revotron XZA Plus', -981317388.9192641), ('name_Tata Nexon 1.5 Revotorq XE', 430844000.4655561), ('name_Tata Nexon 1.5 Revotorq XM', 430844000.5510694), ('name_Tata Nexon 1.5 Revotorq XT', 430844000.6429866), ('name_Tata Nexon 1.5 Revotorq XZ Plus', 430844000.71646905), ('name_Tata Nexon 1.5 Revotorq XZ Plus Dual Tone', 430844000.7264581), ('name_Tata Nexon 1.5 Revotorq XZA Plus', 895754137.2326043), ('name_Tata Nexon 1.5 Revotorq XZA Plus DualTone', 895754137.0950173), ('name_Tata Safari DICOR 2.2 EX 4x2', 61142634.412827164), ('name_Tata Safari DICOR 2.2 LX 4x2', 61142634.467469916), ('name_Tata Safari Storme EX', 61142635.18008876), ('name_Tata Safari Storme LX', 61142635.146171466), ('name_Tata Safari Storme VX', 61142635.35514209), ('name_Tata Safari Storme VX Varicor 400', -1651599525.7543557), ('name_Tata Spacio Gold-10/6 Str BSII', 377302926.77452445), ('name_Tata Sumo CX', 52652931.64845968), ('name_Tata Sumo CX 10 Str BSIV', 2133013801.8778954), ('name_Tata Sumo CX 9 Seater', 2133013801.9697855), ('name_Tata Sumo EX', 52652932.01348308), ('name_Tata Sumo EX 10/7 Str BSIII', 2133013802.1316364), ('name_Tata Sumo EX BS IV', 2593871572.795363), ('name_Tata Sumo EX TC', 3192756410.824091), ('name_Tata Sumo GX', 52652931.606431484), ('name_Tata Sumo GX 7 Str BSII', 2133013801.6150248), ('name_Tata Sumo Gold CX BSIII', 123963847.53045276), ('name_Tata Sumo Gold EX', 8623677.916004226), ('name_Tata Sumo Gold EX BSIII', 123963847.4373853), ('name_Tata Sumo Gold GX', 8623677.877274819), ('name_Tata Sumo Gold GX BSIII', -3143571975.104871), ('name_Tata Sumo MKII CX BS IV', 52652931.56471173), ('name_Tata Sumo MKII GX BS IV', 1384838258.15208), ('name_Tata Sumo MKII Turbo 2.0 LX', 1130302317.2937992), ('name_Tata Sumo SE', 200009815.2856313), ('name_Tata Sumo SE Plus BSII', 2133013802.461221), ('name_Tata Tiago 1.05 Revotorq XE', 123963847.00310051), ('name_Tata Tiago 1.05 Revotorq XM', 123963846.97387046), ('name_Tata Tiago 1.05 Revotorq XT', 123963847.08006287), ('name_Tata Tiago 1.05 Revotorq XT Option', 123963846.9877595), ('name_Tata Tiago 1.05 Revotorq XZ', 123963847.09654279), ('name_Tata Tiago 1.05 Revotorq XZ WO Alloy', 123963847.14266673), ('name_Tata Tiago 1.2 Revotron XE', 156488606.8310789), ('name_Tata Tiago 1.2 Revotron XM', 156488606.92077512), ('name_Tata Tiago 1.2 Revotron XM Option', 156488606.91080365), ('name_Tata Tiago 1.2 Revotron XT', 156488606.93752033), ('name_Tata Tiago 1.2 Revotron XTA', 621398743.2749686), ('name_Tata Tiago 1.2 Revotron XZ', 156488606.9701763), ('name_Tata Tiago 1.2 Revotron XZ Plus Dual Tone', 156488606.97247326), ('name_Tata Tiago 1.2 Revotron XZ WO Alloy', 156488607.04532322), ('name_Tata Tiago 1.2 Revotron XZA', -1403537711.8595889), ('name_Tata Tiago 2019-2020 XZ', -1868447848.2099092), ('name_Tata Tiago 2019-2020 XZ Plus Diesel', 123963847.26483516), ('name_Tata Tiago 2019-2020 XZ Plus Dual Tone', -1868447848.2349434), ('name_Tata Tiago NRG Petrol', -2917612570.2974935), ('name_Tata Tiago NRG Petrol AMT', -2452702434.104195), ('name_Tata Tiago Wizz 1.05 Revotorq', 123963846.98083404), ('name_Tata Tiago XT', -3890600561.99686), ('name_Tata Tigor 1.05 Revotorq XM', 123963847.12732762), ('name_Tata Tigor 1.05 Revotorq XZ', 123963847.18144006), ('name_Tata Tigor 1.05 Revotorq XZ Option', 123963847.22948505), ('name_Tata Tigor 1.2 Revotron XE', 156488606.9433669), ('name_Tata Tigor 1.2 Revotron XT', 156488607.0164293), ('name_Tata Tigor 1.2 Revotron XZ', 156488607.06092963), ('name_Tata Tigor 1.2 Revotron XZ Option', 156488607.15447295), ('name_Tata Tigor 1.2 Revotron XZA', 621398743.4063684), ('name_Tata Tigor 2017-2020 XZ', -2917612570.313646), ('name_Tata Tigor 2017-2020 XZ Plus', -2917612570.243514), ('name_Tata Tigor 2017-2020 XZ Plus Diesel', 123963847.56198305), ('name_Tata Venture EX 7 Str', 745022980.2583427), ('name_Tata Venture EX 7 Str Captain Seats', 745022980.266063), ('name_Tata Venture LX 7 Str', 745022980.1486143), ('name_Tata Winger Deluxe - Flat Roof (Non-AC)', 1130302318.2920399), ('name_Tata Xenon XT EX 4X2', 61142634.07023248), ('name_Tata Xenon XT EX 4X4', 61142634.21473085), ('name_Tata Zest Quadrajet 1.3 75PS XE', 2593871572.8230457), ('name_Tata Zest Quadrajet 1.3 75PS XM', 2593871572.8206034), ('name_Tata Zest Quadrajet 1.3 75PS XMS', 2593871573.167121), ('name_Tata Zest Quadrajet 1.3 Anniversary Edition', 1130302316.6281643), ('name_Tata Zest Quadrajet 1.3 XM', 1130302316.546038), ('name_Tata Zest Quadrajet 1.3 XMS', 1130302316.5846078), ('name_Tata Zest Quadrajet 1.3 XT', 1130302316.6413817), ('name_Tata Zest Revotron 1.2 XT', -746769209.3072934), ('name_Tata Zest Revotron 1.2T XM', -746769209.3341093), ('name_Tata Zest Revotron 1.2T XMS', -746769209.2281626), ('name_Toyota Camry 2.5 Hybrid', -4847405117.160563), ('name_Toyota Camry V4 (MT)', -1711243461.8566885), ('name_Toyota Camry W4 (AT)', -1246333325.5937293), ('name_Toyota Corolla AE', -1572649073.5513213), ('name_Toyota Corolla Altis 1.4 DGL', -1235051463.9107218), ('name_Toyota Corolla Altis 1.8 G', -1815928890.7136965), ('name_Toyota Corolla Altis 1.8 G CVT', -1351018755.2049692), ('name_Toyota Corolla Altis 1.8 J', -3502977327.6058097), ('name_Toyota Corolla Altis 1.8 Sport', -3087176997.4627876), ('name_Toyota Corolla Altis 1.8 VL AT', -1351018754.3228364), ('name_Toyota Corolla Altis 1.8 VL CVT', -1351018754.212553), ('name_Toyota Corolla Altis D-4D G', -1159878204.5407372), ('name_Toyota Corolla Altis D-4D J', -1159878204.413981), ('name_Toyota Corolla Altis Diesel D4DG', -1159878204.8537445), ('name_Toyota Corolla Altis Diesel D4DJ', -1159878204.811996), ('name_Toyota Corolla Altis G', -1815928891.0527275), ('name_Toyota Corolla Altis JS MT', -1815928890.9455721), ('name_Toyota Corolla DX', -1572649073.429122), ('name_Toyota Corolla H2', -1572649073.6674454), ('name_Toyota Etios 1.4 VXD', 2593871573.0088334), ('name_Toyota Etios 1.5 V', -746769209.444523), ('name_Toyota Etios Cross 1.2L G', -3457026839.465152), ('name_Toyota Etios Cross 1.4L GD', 2593871572.883109), ('name_Toyota Etios Diesel TRD Sportivo', 2593871572.6686816), ('name_Toyota Etios G', -746769209.3907893), ('name_Toyota Etios G Safety', -746769209.2095886), ('name_Toyota Etios GD', 2593871572.900161), ('name_Toyota Etios GD SP', 2593871572.9734178), ('name_Toyota Etios Liva 1.2 V Dual Tone', 716800046.9157804), ('name_Toyota Etios Liva 1.4 GD', 2593871572.8043656), ('name_Toyota Etios Liva 1.4 VD', 2593871572.94), ('name_Toyota Etios Liva Diesel', 2593871572.800999), ('name_Toyota Etios Liva Diesel TRD Sportivo', 2593871572.8000817), ('name_Toyota Etios Liva G', 716800046.9280962), ('name_Toyota Etios Liva GD', 2593871572.807901), ('name_Toyota Etios Liva GD SP', 2593871572.8473697), ('name_Toyota Etios Liva VD', 2593871572.826346), ('name_Toyota Etios Liva VXD', 2593871572.820184), ('name_Toyota Etios V', 716800047.0242172), ('name_Toyota Etios VD', 2593871572.9677496), ('name_Toyota Etios VX', -746769209.1426889), ('name_Toyota Etios VXD', 2593871572.781707), ('name_Toyota Fortuner 2.5 4x2 MT TRD Sportivo', -2978953827.357271), ('name_Toyota Fortuner 2.8 2WD AT BSIV', -1079208017.4314916), ('name_Toyota Fortuner 2.8 2WD MT', -1544118155.2481446), ('name_Toyota Fortuner 2.8 2WD MT BSIV', -1544118153.4792895), ('name_Toyota Fortuner 2.8 4WD AT BSIV', -1079208017.180789), ('name_Toyota Fortuner 2.8 4WD MT BSIV', -1544118153.1665804), ('name_Toyota Fortuner 3.0 Diesel', -4026330129.121998), ('name_Toyota Fortuner 4x2 4 Speed AT', -3418353289.5658813), ('name_Toyota Fortuner 4x2 AT', 2090305996.5682359), ('name_Toyota Fortuner 4x2 AT TRD Sportivo', -466098711.7963125), ('name_Toyota Fortuner 4x2 Manual', -3250162683.8117304), ('name_Toyota Fortuner 4x4 AT', 2090305997.0433683), ('name_Toyota Fortuner 4x4 MT', -3250162683.4395313), ('name_Toyota Glanza G CVT', 1752536979.6226196), ('name_Toyota Glanza G Smart Hybrid', -746769209.2115124), ('name_Toyota Glanza V CVT', 1752536979.7306566), ('name_Toyota Innova 2.5 E 7 STR', 511813970.27566856), ('name_Toyota Innova 2.5 E Diesel MS 7-seater', 511813970.29077804), ('name_Toyota Innova 2.5 E Diesel MS 8-seater', 511813970.30568814), ('name_Toyota Innova 2.5 E Diesel PS 7-Seater', 511813970.1742112), ('name_Toyota Innova 2.5 EV (Diesel) PS 7 Seater BS IV', -1155787767.951479), ('name_Toyota Innova 2.5 EV (Diesel) PS 8 Seater BS IV', -1155787767.4802554), ('name_Toyota Innova 2.5 EV Diesel MS 7 Str BSIII', 511813970.454282), ('name_Toyota Innova 2.5 EV Diesel PS 7 Seater BSIII', -1155787768.1079867), ('name_Toyota Innova 2.5 EV PS 8 STR BSIV', 511813970.2811396), ('name_Toyota Innova 2.5 G (Diesel) 7 Seater', 511813970.47583354), ('name_Toyota Innova 2.5 G (Diesel) 7 Seater BS IV', 511813970.3902067), ('name_Toyota Innova 2.5 G (Diesel) 8 Seater', 511813970.78047836), ('name_Toyota Innova 2.5 G (Diesel) 8 Seater BS IV', 511813970.4713431), ('name_Toyota Innova 2.5 G1 Diesel 8-seater', 511813970.293378), ('name_Toyota Innova 2.5 G2', 511813970.3294121), ('name_Toyota Innova 2.5 G4 Diesel 7-seater', 511813970.52316606), ('name_Toyota Innova 2.5 G4 Diesel 8-seater', 511813970.5232874), ('name_Toyota Innova 2.5 GX (Diesel) 7 Seater', 511813970.33057106), ('name_Toyota Innova 2.5 GX (Diesel) 8 Seater', 511813970.8713388), ('name_Toyota Innova 2.5 GX (Diesel) 8 Seater BS IV', 511813970.239958), ('name_Toyota Innova 2.5 GX 7 STR', 511813970.1974102), ('name_Toyota Innova 2.5 GX 8 STR', 511813970.47341627), ('name_Toyota Innova 2.5 GX 8 STR BSIV', 511813970.53910476), ('name_Toyota Innova 2.5 V Diesel 7-seater', 511813970.34318376), ('name_Toyota Innova 2.5 V Diesel 8-seater', 511813970.5164526), ('name_Toyota Innova 2.5 VX (Diesel) 7 Seater', 511813970.6116118), ('name_Toyota Innova 2.5 VX (Diesel) 7 Seater BS IV', 511813970.7803571), ('name_Toyota Innova 2.5 VX (Diesel) 8 Seater', 511813970.98286235), ('name_Toyota Innova 2.5 VX (Diesel) 8 Seater BS IV', 511813970.79615736), ('name_Toyota Innova 2.5 VX 7 STR', 511813970.2971653), ('name_Toyota Innova 2.5 VX 8 STR', 511813970.9164636), ('name_Toyota Innova 2.5 VX 8 STR BSIV', 511813970.55613804), ('name_Toyota Innova 2.5 Z Diesel 7 Seater', 511813970.64846486), ('name_Toyota Innova 2.5 Z Diesel 7 Seater BS IV', 511813970.85349816), ('name_Toyota Innova 2.5 ZX Diesel 7 Seater BSIII', 511813970.9736588), ('name_Toyota Innova Crysta 2.4 G MT 8 STR', -3054174434.8311043), ('name_Toyota Innova Crysta 2.4 GX MT 8S BSIV', 736795467.3592169), ('name_Toyota Innova Crysta 2.4 GX MT BSIV', 736795467.1301674), ('name_Toyota Innova Crysta 2.4 VX MT', -3054174434.689466), ('name_Toyota Innova Crysta 2.4 VX MT 8S BSIV', 736795467.5917245), ('name_Toyota Innova Crysta 2.4 VX MT BSIV', 736795467.3463975), ('name_Toyota Innova Crysta 2.4 ZX AT', -2589264297.648378), ('name_Toyota Innova Crysta 2.4 ZX MT', -3054174434.4088783), ('name_Toyota Innova Crysta 2.4 ZX MT BSIV', 736795467.2841372), ('name_Toyota Innova Crysta 2.5 VX BS IV', 511813970.45290637), ('name_Toyota Innova Crysta 2.7 GX AT 8 STR', -3430002284.737977), ('name_Toyota Innova Crysta 2.7 ZX AT BSIV', -3430002284.026221), ('name_Toyota Innova Crysta 2.8 GX AT 8S BSIV', 547929070.9118558), ('name_Toyota Innova Crysta 2.8 GX AT BSIV', 547929070.4316673), ('name_Toyota Innova Crysta 2.8 ZX AT BSIV', 547929070.6907762), ('name_Toyota Land Cruiser Prado VX L', -1029928061.8143101), ('name_Toyota Platinum Etios 1.4 GD', 2593871573.0027604), ('name_Toyota Platinum Etios 1.4 GXD', 2593871573.0443172), ('name_Toyota Premio Base', 716800047.1523962), ('name_Toyota Qualis FS B3', 796452475.9665937), ('name_Toyota Qualis FS F7', 2593871573.1079144), ('name_Toyota Qualis Fleet A3', 2593871573.1447535), ('name_Toyota Qualis GS C1', 2593871573.0689573), ('name_Toyota Qualis GS G1', 2593871573.104462), ('name_Toyota Yaris V BSIV', -16535719.770643927), ('name_Toyota Yaris V CVT BSIV', 448374416.48047316), ('name_Volkswagen Ameo 1.0 MPI Comfortline', -1080619050.5341582), ('name_Volkswagen Ameo 1.0 MPI Trendline', -1080619050.6458213), ('name_Volkswagen Ameo 1.2 MPI Comfortline', -1882432254.6572745), ('name_Volkswagen Ameo 1.2 MPI Comfortline Plus', -1882432254.5665627), ('name_Volkswagen Ameo 1.2 MPI Highline', -1882432254.522403), ('name_Volkswagen Ameo 1.2 MPI Highline Plus 16', -1882432254.471448), ('name_Volkswagen Ameo 1.5 TDI Comfortline', -722975026.2761275), ('name_Volkswagen Ameo 1.5 TDI Comfortline AT', -1869398769.9426696), ('name_Volkswagen Ameo 1.5 TDI Highline 16 Alloy', -2334308906.242231), ('name_Volkswagen Ameo 1.5 TDI Highline Plus', -722975026.0913808), ('name_Volkswagen Ameo 1.5 TDI Highline Plus 16 AT', -258064889.95969954), ('name_Volkswagen Ameo 1.5 TDI Trendline', -722975026.2860372), ('name_Volkswagen CrossPolo 1.5 TDI', 1130302316.7135782), ('name_Volkswagen GTI 1.8 TSI', -2695673057.4618106), ('name_Volkswagen Jetta 1.6 Trendline', -336407699.3656837), ('name_Volkswagen Jetta 2.0 TDI Comfortline', -1632705998.1513345), ('name_Volkswagen Jetta 2.0L TDI Comfortline', 61142635.02580023), ('name_Volkswagen Jetta 2.0L TDI Highline', 61142635.34921395), ('name_Volkswagen Jetta 2.0L TDI Highline AT', 526052771.5011391), ('name_Volkswagen Multivan TDI', 2593871575.1416907), ('name_Volkswagen Passat 1.8 TSI MT', -3654715016.5985417), ('name_Volkswagen Passat 2.0 TDI AT Highline', -1499026252.5445955), ('name_Volkswagen Passat Highline DSG S', -3759143534.4951243), ('name_Volkswagen Passat Highline DSG S (Spl. Edition)', -3759143534.416231), ('name_Volkswagen Polo 1.0 MPI Trendline BSIV', -1080619050.5502923), ('name_Volkswagen Polo 1.0 TSI Highline Plus', -504295167.57513833), ('name_Volkswagen Polo 1.2 MPI Comfortline', 716800047.4383086), ('name_Volkswagen Polo 1.2 MPI Highline', 716800047.4286937), ('name_Volkswagen Polo 1.5 TDI Comfortline', 1130302316.464722), ('name_Volkswagen Polo 1.5 TDI Highline', 1130302316.563993), ('name_Volkswagen Polo 2015-2019 1.0 MPI Comfortline', -1080619050.515746), ('name_Volkswagen Polo 2015-2019 1.0 MPI Highline Plus', -1080619050.3672485), ('name_Volkswagen Polo 2015-2019 1.0 MPI Trendline', -1080619050.5309434), ('name_Volkswagen Polo 2015-2019 1.2 MPI Highline Plus', 716800047.51627), ('name_Volkswagen Polo 2015-2019 1.5 TDI Highline Plus', 1130302316.4779155), ('name_Volkswagen Polo 2015-2019 GT 1.5 TDI', 430844000.3587939), ('name_Volkswagen Polo Diesel Comfortline 1.2L', 859030808.1037744), ('name_Volkswagen Polo Diesel Highline 1.2L', 859030808.1787231), ('name_Volkswagen Polo Diesel Trendline 1.2L', 859030808.1002798), ('name_Volkswagen Polo GT TDI', 108647884.93817335), ('name_Volkswagen Polo GT TSI', -19327117.0813357), ('name_Volkswagen Polo GT TSI BSIV', 2171811235.1789966), ('name_Volkswagen Polo Petrol Comfortline 1.2L', -1018040717.2109783), ('name_Volkswagen Polo Petrol Highline 1.2L', -1018040717.2193463), ('name_Volkswagen Polo Petrol Trendline 1.2L', -1018040717.2940521), ('name_Volkswagen Polo Select 1.2 MPI Highline', 716800047.3357972), ('name_Volkswagen Polo Select 1.5 TDI Highline', 1130302316.9333277), ('name_Volkswagen Vento 1.5 Highline Plus AT 16 Alloy', 895754136.9597238), ('name_Volkswagen Vento 1.5 TDI Comfortline', 1372776358.292397), ('name_Volkswagen Vento 1.5 TDI Highline', 1372776358.5194154), ('name_Volkswagen Vento 1.5 TDI Highline AT', 1837686494.7707753), ('name_Volkswagen Vento 1.5 TDI Highline BSIV', -562470480.1161), ('name_Volkswagen Vento 1.5 TDI Highline Plus AT', 1837686494.4937174), ('name_Volkswagen Vento 1.5 TDI Highline Plus AT BSIV', 1837686495.1551511), ('name_Volkswagen Vento 1.6 Highline', 524554689.2074733), ('name_Volkswagen Vento Diesel Breeze', -1632705997.8525434), ('name_Volkswagen Vento Diesel Comfortline', 108647884.9017401), ('name_Volkswagen Vento Diesel Highline', 108647884.86864907), ('name_Volkswagen Vento Diesel Trendline', 108647884.82373016), ('name_Volkswagen Vento IPL II Diesel Trendline', -1632705997.9031267), ('name_Volkswagen Vento Konekt Diesel Highline', 108647885.04929674), ('name_Volkswagen Vento Petrol Highline', -739573784.2284696), ('name_Volkswagen Vento Petrol Highline AT', -274663648.1093159), ('name_Volkswagen Vento Petrol Trendline', -739573784.456916), ('name_Volvo S60 D4 SUMMUM', -980881423.9779066), ('name_Volvo S90 D4 Inscription BSIV', 1871198817.916021), ('name_Volvo V40 Cross Country D3', -1012497635.5685881), ('name_Volvo V40 D3 R-Design', -1012497634.2003276), ('name_Volvo XC40 D4 Inscription BSIV', 1871198815.808224), ('name_Volvo XC40 D4 R-Design', 1871198815.342989), ('name_Volvo XC60 Inscription D5 BSIV', -3254566481.1680503), ('name_Volvo XC90 T8 Excellence BSIV', -1775953766.2047567), ('fuel_CNG', 80363749.80182987), ('fuel_Diesel', 55923698.480511665), ('fuel_LPG', 128012699.4761891), ('fuel_Petrol', 1932995224.3141575), ('seller_type_Dealer', -2921430231.289464), ('seller_type_Individual', -2921430231.2992163), ('seller_type_Trustmark Dealer', -2921430231.4158735), ('transmission_Automatic', -142964336711.8428), ('transmission_Manual', -142499426575.5804), ('owner_First Owner', -2846958132.968714), ('owner_Fourth & Above Owner', -2846958133.01441), ('owner_Second Owner', -2846958133.002203), ('owner_Test Drive Car', -911711293.9332057), ('owner_Third Owner', -2846958133.0078387), ('max_power_ ', -3975373320.401092), ('max_power_0', -8205682046.366232), ('max_power_100', -6123624443.305779), ('max_power_100.5', -3347033932.9938865), ('max_power_100.57', -4456022705.026674), ('max_power_100.6', -6123624443.242333), ('max_power_101', -3827660700.65994), ('max_power_102', -6123624443.183127), ('max_power_102.5', -5753121285.9293995), ('max_power_103', -4641148547.414503), ('max_power_103.2', -6984586831.668498), ('max_power_103.25', -7911596710.297232), ('max_power_103.26', -3232973832.8027515), ('max_power_103.3', -4069422690.6343107), ('max_power_103.5', -5725289158.056715), ('max_power_103.52', -3550210892.529126), ('max_power_103.6', -5720458358.1732235), ('max_power_104', -1959393219.913662), ('max_power_104.5', -4268412155.826302), ('max_power_104.55', -4086103523.761828), ('max_power_104.68', -4520478468.88341), ('max_power_105', -3979104475.3770313), ('max_power_105.3', -4388173177.561206), ('max_power_105.5', -7472346278.866025), ('max_power_106', -2719574212.8273597), ('max_power_108.45', -6064861721.865548), ('max_power_108.495', -3277501567.1779695), ('max_power_108.5', -6042654473.756354), ('max_power_108.6', -6984586831.517028), ('max_power_108.62', -4888835447.168582), ('max_power_110', -6786577912.893717), ('max_power_110.4', -7171659638.857242), ('max_power_110.5', -627507886.8487386), ('max_power_112', -2256985074.0492625), ('max_power_112.2', -6351736489.140029), ('max_power_113.4', -3662240766.888797), ('max_power_113.42', -6704554675.705415), ('max_power_115', -5164274387.870456), ('max_power_116.3', -6259341930.265685), ('max_power_116.4', -3788801977.9945836), ('max_power_116.6', -2371439720.4181232), ('max_power_116.9', -2571840041.886748), ('max_power_117.3', -2037390083.4542282), ('max_power_117.6', -515827970.8638402), ('max_power_118', -7873341873.358593), ('max_power_118.3', -5179553366.112496), ('max_power_118.35', -6996648731.381114), ('max_power_120', -5664463404.685655), ('max_power_120.69', -5347373309.737794), ('max_power_120.7', -3437558116.018445), ('max_power_121', -4298450364.522371), ('max_power_121.3', -7186063226.580385), ('max_power_121.31', -4513959727.922519), ('max_power_121.36', -3692883339.8060994), ('max_power_121.4', -2605612509.6209993), ('max_power_122.4', -3723262389.180684), ('max_power_123.37', -5132216648.222602), ('max_power_123.7', -5929000091.822477), ('max_power_125', -5916232925.661637), ('max_power_126.2', -6179288387.524229), ('max_power_126.24', -6179288387.729609), ('max_power_126.3', -807214154.3794633), ('max_power_126.32', -4414296013.995177), ('max_power_127', -4405566452.758044), ('max_power_130', -7792401438.08029), ('max_power_132', -4401705001.733095), ('max_power_134', -4969570563.619028), ('max_power_134.1', -4074407067.535617), ('max_power_135.1', 818948608.3394675), ('max_power_136', -7046356569.503555), ('max_power_138', -3985904671.68553), ('max_power_138.03', -5672953107.667334), ('max_power_138.08', -2763280462.802472), ('max_power_138.1', -5672953108.266354), ('max_power_139.01', -5153796024.237948), ('max_power_139.46', -4274472891.13959), ('max_power_140', -1387756802.1153848), ('max_power_141', -6551732431.393821), ('max_power_141.1', -3960210947.752252), ('max_power_142', -2632856644.014284), ('max_power_143', 5396264332.390791), ('max_power_144', 793255565.8645686), ('max_power_147.5', 266783733.9495837), ('max_power_147.51', -2557636037.1206), ('max_power_147.8', -6348605939.1341095), ('max_power_147.9', -3593969576.9215765), ('max_power_147.94', -5672953108.230296), ('max_power_148', -5672953108.404711), ('max_power_148.31', -2485126900.0839567), ('max_power_149.5', 1621471840.6813078), ('max_power_150', -4134402700.680185), ('max_power_152', -2637176047.666671), ('max_power_152.87', -5784945673.789047), ('max_power_153.86', -3960210946.386663), ('max_power_155', -3861612036.731642), ('max_power_156', 852498815.1557872), ('max_power_157.7', -2176566744.1313457), ('max_power_157.75', -4154198752.1459274), ('max_power_158', -4620564772.524878), ('max_power_158.8', -8002491406.304572), ('max_power_160', -3834166982.5061407), ('max_power_160.77', -5439780049.712016), ('max_power_161', 1515400228.8171387), ('max_power_162', -5076029361.415413), ('max_power_163.2', 19797096055.5978), ('max_power_163.7', -3593969576.855843), ('max_power_164.7', -5777638537.39886), ('max_power_165', -1892947345.685156), ('max_power_167.6', -11125296578.612265), ('max_power_167.62', -2343912674.051191), ('max_power_167.67', -4959682839.419307), ('max_power_168.5', -2361647788.258652), ('max_power_168.7', 194756919.66020912), ('max_power_169', -1728547046.4546127), ('max_power_170', -5722553897.678735), ('max_power_170.3', -4116972271.4726663), ('max_power_170.63', -2827274366.712234), ('max_power_171', -1585480343.3363836), ('max_power_171.5', -5694829406.217761), ('max_power_174.33', -2221425661.569982), ('max_power_174.5', -4067692316.716274), ('max_power_174.57', -5286008932.720907), ('max_power_175', -3647874084.096578), ('max_power_175.56', -3024521887.2825823), ('max_power_177', -1228028334.2087488), ('max_power_177.46', -3658812921.680377), ('max_power_177.5', -2012099370.6658413), ('max_power_177.6', -4198276005.95917), ('max_power_178', -3293615485.6153955), ('max_power_179.5', -3190761537.3048263), ('max_power_181', -4166018910.8681417), ('max_power_181.04', -4433389894.46505), ('max_power_183', -2004636001.6711957), ('max_power_184', -7018099150.140242), ('max_power_186', -3592583629.205278), ('max_power_187.4', -8927749923.82461), ('max_power_187.7', -2751419073.499192), ('max_power_187.74', -7018099150.21878), ('max_power_188', -7554563129.698096), ('max_power_189', 3285188091.691852), ('max_power_189.3', -545081492.4395338), ('max_power_190', -7018099149.2008295), ('max_power_194', -893466866.603414), ('max_power_194.3', -4051751378.022383), ('max_power_194.4', -7009628379.344057), ('max_power_197', -5115975931.754831), ('max_power_197.2', 1731778582.955115), ('max_power_198.25', -4055350217.720594), ('max_power_198.5', -3126521370.056361), ('max_power_201.1', -1356415670.2575638), ('max_power_203', -1957282330.6154552), ('max_power_203.2', -3155318268.17577), ('max_power_204', -4095357499.989874), ('max_power_214.56', -2285207310.9932528), ('max_power_218', -3418247097.970031), ('max_power_224', -1791798601.406435), ('max_power_235', -1892333850.0149305), ('max_power_241', -18726751.169007946), ('max_power_241.4', -6145433835.518199), ('max_power_254.79', -5628190235.892557), ('max_power_254.8', -4622445554.910878), ('max_power_258', 4400551755.064339), ('max_power_261.4', -3112703241.526105), ('max_power_265', -4493620520.561737), ('max_power_270.9', -2937316115.4471736), ('max_power_272', -5769887711.658448), ('max_power_280', -5151595510.742689), ('max_power_282', -1989772522.8559244), ('max_power_32.8', 1681054268.4401352), ('max_power_34.2', -8205682045.687566), ('max_power_35', -6591700904.337355), ('max_power_35.5', -17306804998.205254), ('max_power_37', -9606113335.02271), ('max_power_37.48', -6591700904.461134), ('max_power_37.5', -5589435746.753234), ('max_power_38', -5618164286.182821), ('max_power_38.4', -3011251947.2074375), ('max_power_40.3', -8014462380.327533), ('max_power_400', 1507432405.2244906), ('max_power_45', -2682811703.856163), ('max_power_46.3', -11192407451.33151), ('max_power_47', -3716987627.6327734), ('max_power_47.3', -8014462380.007784), ('max_power_48.21', -3169964831.0565534), ('max_power_52', -2084316672.1961174), ('max_power_52.8', -2374854563.3955045), ('max_power_53', -4514807318.606752), ('max_power_53.26', -9900265916.587587), ('max_power_53.3', -9900265916.6502), ('max_power_53.5', -5035659786.397157), ('max_power_53.64', -5109535100.80696), ('max_power_55.2', -7646255421.6808195), ('max_power_55.23', -1094455242.7640681), ('max_power_56.3', -2893958776.4288716), ('max_power_57', -2607691372.7372174), ('max_power_57.5', -2155385254.6647043), ('max_power_57.6', -2893958776.3588533), ('max_power_58', -2082482199.31799), ('max_power_58.16', -5633573884.073029), ('max_power_58.2', -5633573883.978734), ('max_power_58.3', -2300843782.7732544), ('max_power_58.33', -2569954962.3029413), ('max_power_60', -8006233221.469055), ('max_power_60.2', -3201611143.731189), ('max_power_61.7', -5457207428.84539), ('max_power_62', -7636855347.060103), ('max_power_62.1', -7636855347.132607), ('max_power_63', -5989113399.53172), ('max_power_63.1', -5185659720.052132), ('max_power_63.12', -5185659720.182814), ('max_power_64', -8205682046.113342), ('max_power_64.08', -6066182887.759454), ('max_power_64.1', -6066182887.717306), ('max_power_64.4', -5617099708.536179), ('max_power_64.9', -4038239940.8483753), ('max_power_65', -6066182887.743291), ('max_power_65.3', -7097021022.655456), ('max_power_66', -5071274139.611901), ('max_power_66.1', -7066532563.382196), ('max_power_66.6', -493419639.97623235), ('max_power_67', -8205682046.329739), ('max_power_67.04', -8205682046.391506), ('max_power_67.05', -8205682046.432936), ('max_power_67.06', -8205682046.402421), ('max_power_67.1', -8205682046.319342), ('max_power_68', -7744824274.591007), ('max_power_68.05', -7744824274.6072855), ('max_power_68.07', -3895064885.758855), ('max_power_68.1', -2738059652.6125), ('max_power_68.4', -2468238498.0884757), ('max_power_69', -5735774320.664316), ('max_power_69.01', -5735774320.738897), ('max_power_70', -6356833453.274678), ('max_power_71', -4492235709.574161), ('max_power_71.01', -4606654290.995127), ('max_power_72', -4239788579.690251), ('max_power_72.4', -4564610759.606495), ('max_power_73', -4916946822.381438), ('max_power_73.74', -6410931192.394395), ('max_power_73.75', -5606449744.312164), ('max_power_73.8', -3248818485.561813), ('max_power_73.9', -6470841281.690923), ('max_power_73.94', -6470841281.728286), ('max_power_73.97', -5827422004.204572), ('max_power_74', -8205682046.3730345), ('max_power_74.02', -8205682046.335206), ('max_power_74.9', -5408945519.38395), ('max_power_74.96', -5394254463.98251), ('max_power_75', -6408262948.380453), ('max_power_76', -5632147004.213797), ('max_power_76.8', -12469364494.866278), ('max_power_76.9', -5627758855.769452), ('max_power_77', -5573084908.485264), ('max_power_78', -4554653071.567312), ('max_power_78.8', -3250767739.6757007), ('max_power_78.9', -7424594626.065255), ('max_power_79.4', -12469364494.798498), ('max_power_80', -6469218891.757311), ('max_power_80.8', -947155448.109446), ('max_power_80.84', -2509299987.0177245), ('max_power_80.9', -2424562074.1531143), ('max_power_81.8', -8776508842.371975), ('max_power_81.83', -6469218891.620327), ('max_power_81.86', -7813365323.596537), ('max_power_82', -7813365323.440431), ('max_power_82.4', -2966487520.77901), ('max_power_82.5', -6458126136.698027), ('max_power_82.85', -6469218891.760609), ('max_power_82.9', -1359379323.579162), ('max_power_83', -2473772019.7964177), ('max_power_83.1', -5811820288.556016), ('max_power_83.11', -5779133896.879914), ('max_power_83.14', -8776508842.43553), ('max_power_83.8', -5664463405.062006), ('max_power_83.81', -4571269429.071261), ('max_power_83.83', -5620434151.288163), ('max_power_84', -7645370606.433158), ('max_power_84.48', -588812855.5197507), ('max_power_84.8', -5058086474.146752), ('max_power_85', -9222840243.9465), ('max_power_85.8', -8776508842.418257), ('max_power_86', -4178594304.116455), ('max_power_86.7', -7579835008.074088), ('max_power_86.79', -4376759008.348342), ('max_power_86.8', -7357135406.717153), ('max_power_87.2', -4451932268.562712), ('max_power_88', -6742112789.659482), ('max_power_88.2', -6261540686.189523), ('max_power_88.5', -6742112790.0786495), ('max_power_88.7', -6742112790.148219), ('max_power_88.73', -6742112789.932885), ('max_power_88.76', -6742112790.037013), ('max_power_88.8', -6742112789.776457), ('max_power_89.75', -3585217278.6252966), ('max_power_89.84', -4277871061.4482255), ('max_power_90', -6742112790.135021), ('max_power_91.1', -7025020452.131557), ('max_power_91.2', -5347263046.742286), ('max_power_91.7', -5199063273.013225), ('max_power_91.72', -6009918712.815386), ('max_power_92', -5502081617.168438), ('max_power_92.7', -2106585299.367847), ('max_power_93.7', -6122237629.058403), ('max_power_93.87', -4520918634.974348), ('max_power_94', -6748644026.350384), ('max_power_94.68', -4649764708.615358), ('max_power_94.93', -6900924147.15399), ('max_power_95', -3533584436.969459), ('max_power_97.7', -4348549677.533521), ('max_power_97.9', -2617557907.012545), ('max_power_98.59', -5218080543.6411), ('max_power_98.6', -6485536872.103959), ('max_power_98.63', -5104647405.297659), ('max_power_98.79', -7282661671.179598), ('max_power_98.82', -3274628628.4198346), ('max_power_98.96', -7435865770.468936), ('max_power_98.97', -4939812507.891804), ('max_power_99', -6050257360.035387), ('max_power_99.23', -2332169400.7708716), ('max_power_99.6', -5267510680.81108), ('torque_1400', -1642566269.6241057), ('torque_1500', 2420655726.4126725), ('torque_1600', -1217761986.7224216), ('torque_1740', -4334794764.36819), ('torque_1750', 2420655726.5185275), ('torque_1800', 1898942920.0290084), ('torque_1850', -336849318.59420407), ('torque_1900', 2420655726.536011), ('torque_2000', 2420655726.4735885), ('torque_21800', 358201632.74606377), ('torque_2200', 2420655726.3785286), ('torque_2250', 2420655726.276521), ('torque_2400', 2420655726.4974976), ('torque_2500', 2420655726.2107944), ('torque_2600', 2420655726.30529), ('torque_2650', -2020382744.8729346), ('torque_2680', -338223886.7767302), ('torque_2700', 2420655726.5179586), ('torque_2750', 2420655726.359545), ('torque_2800', 2420655726.496237), ('torque_3000', 2420655726.4144754), ('torque_3100', 1639568306.3447032), ('torque_3200', -2454902817.232425), ('torque_3250', 2420655726.4850903), ('torque_3300', -588812855.5197507), ('torque_3400', 2420655726.511919), ('torque_3500', 2420655726.434469), ('torque_3600', 2420655726.464489), ('torque_3700', -4432166194.2314625), ('torque_3750', 2420655726.0708165), ('torque_3800', 1391805869.610179), ('torque_4,500', 4162190850.3684354), ('torque_4000', 2420655726.482841), ('torque_4100', 1136469338.8286314), ('torque_4200', 2420655726.3923626), ('torque_4250', 1682023214.843377), ('torque_4300', 2420655726.0565553), ('torque_4386', 2420655726.5188394), ('torque_4388', -1922658993.412411), ('torque_4400', 2420655726.512094), ('torque_4500', 2420655726.4661365), ('torque_4600', -2668927186.845696), ('torque_4700', -3376717873.529467), ('torque_4750', 2333096888.174195), ('torque_4800', 2316258831.329384), ('torque_4850', 1966353298.3506548), ('torque_500', 2302446862.437946), ('torque_5000', 2420655726.4843297), ('torque_5200', -752111865.9148319), ('torque_5300', -1362561586.389008)]\n"
     ]
    }
   ],
   "source": [
    "print(list(zip(x.columns,regmodel.coef_)))"
   ]
  },
  {
   "cell_type": "code",
   "execution_count": 177,
   "id": "da698115",
   "metadata": {},
   "outputs": [],
   "source": [
    "regpredict=regmodel.predict(x)"
   ]
  },
  {
   "cell_type": "code",
   "execution_count": 178,
   "id": "0a9986cc",
   "metadata": {},
   "outputs": [],
   "source": [
    "regresid=y-regpredict #Residual"
   ]
  },
  {
   "cell_type": "code",
   "execution_count": 179,
   "id": "abf3a1ff",
   "metadata": {},
   "outputs": [
    {
     "data": {
      "text/plain": [
       "0.10398166902504086"
      ]
     },
     "execution_count": 179,
     "metadata": {},
     "output_type": "execute_result"
    }
   ],
   "source": [
    "np.sqrt(np.mean(regresid**2))"
   ]
  },
  {
   "cell_type": "code",
   "execution_count": 180,
   "id": "ffa996f0",
   "metadata": {},
   "outputs": [],
   "source": [
    "from sklearn.ensemble import RandomForestRegressor"
   ]
  },
  {
   "cell_type": "code",
   "execution_count": 181,
   "id": "073076b8",
   "metadata": {},
   "outputs": [],
   "source": [
    "RF=RandomForestRegressor(n_estimators=3000)"
   ]
  },
  {
   "cell_type": "code",
   "execution_count": null,
   "id": "9519a97e",
   "metadata": {},
   "outputs": [],
   "source": []
  }
 ],
 "metadata": {
  "kernelspec": {
   "display_name": "Python 3 (ipykernel)",
   "language": "python",
   "name": "python3"
  },
  "language_info": {
   "codemirror_mode": {
    "name": "ipython",
    "version": 3
   },
   "file_extension": ".py",
   "mimetype": "text/x-python",
   "name": "python",
   "nbconvert_exporter": "python",
   "pygments_lexer": "ipython3",
   "version": "3.9.15"
  }
 },
 "nbformat": 4,
 "nbformat_minor": 5
}
